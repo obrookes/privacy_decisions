{
 "cells": [
  {
   "cell_type": "code",
   "execution_count": 1,
   "id": "indoor-advisory",
   "metadata": {},
   "outputs": [],
   "source": [
    "import torch, io, json, random\n",
    "import pandas as pd"
   ]
  },
  {
   "cell_type": "code",
   "execution_count": 2,
   "id": "declared-logan",
   "metadata": {},
   "outputs": [
    {
     "name": "stdout",
     "output_type": "stream",
     "text": [
      "1.8.1+cu102\n"
     ]
    }
   ],
   "source": [
    "print(torch.__version__)"
   ]
  },
  {
   "cell_type": "code",
   "execution_count": 3,
   "id": "greek-edmonton",
   "metadata": {},
   "outputs": [],
   "source": [
    "with open('generated_features/val/val_expression.pt', 'rb') as f:\n",
    "  buffer = io.BytesIO(f.read())\n",
    "expression_results=torch.load(buffer,map_location=torch.device('cpu'));"
   ]
  },
  {
   "cell_type": "code",
   "execution_count": 4,
   "id": "female-chance",
   "metadata": {},
   "outputs": [],
   "source": [
    "with open('generated_features/val/val_object_detection.pt', 'rb') as f:\n",
    "  buffer = io.BytesIO(f.read())\n",
    "object_results=torch.load(buffer,map_location=torch.device('cpu'));"
   ]
  },
  {
   "cell_type": "code",
   "execution_count": 5,
   "id": "virgin-journalist",
   "metadata": {},
   "outputs": [],
   "source": [
    "with open(\"generated_features/val/val_places365.json\", \"r\") as json_file: \n",
    "    places_result=json.load(json_file)"
   ]
  },
  {
   "cell_type": "markdown",
   "id": "cardiac-bishop",
   "metadata": {},
   "source": [
    "**Get classes**"
   ]
  },
  {
   "cell_type": "code",
   "execution_count": 6,
   "id": "polished-batman",
   "metadata": {},
   "outputs": [],
   "source": [
    "# Get expression classes\n",
    "with open(\"class_files/expression_classes.txt\", \"r\") as f:\n",
    "    expression_classes = [s.strip() for s in f.readlines()]"
   ]
  },
  {
   "cell_type": "code",
   "execution_count": 7,
   "id": "selective-prediction",
   "metadata": {},
   "outputs": [],
   "source": [
    "# Get coco classes\n",
    "with open(\"class_files/coco_classes.txt\", \"r\") as f:\n",
    "    coco_classes = [s.strip() for s in f.readlines()]"
   ]
  },
  {
   "cell_type": "code",
   "execution_count": 8,
   "id": "permanent-junction",
   "metadata": {},
   "outputs": [],
   "source": [
    "# Get places365 classes\n",
    "file_name = 'class_files/coco_classes.txt'                                                                                                                                       \n",
    "places365_classes = list()                                                                                         \n",
    "with open(file_name) as class_file:                                                                      \n",
    "    for line in class_file:                                                                              \n",
    "        places365_classes.append(line.strip().split(' ')[0][3:])  "
   ]
  },
  {
   "cell_type": "markdown",
   "id": "novel-frontier",
   "metadata": {},
   "source": [
    "**Test output**"
   ]
  },
  {
   "cell_type": "code",
   "execution_count": 9,
   "id": "handled-collector",
   "metadata": {},
   "outputs": [
    {
     "data": {
      "text/plain": [
       "{'prob': [0.5115284323692322,\n",
       "  0.1368655413389206,\n",
       "  0.07560905069112778,\n",
       "  0.05295965448021889,\n",
       "  0.03759666159749031],\n",
       " 'class': ['museum/indoor',\n",
       "  'burial_chamber',\n",
       "  'cemetery',\n",
       "  'archaelogical_excavation',\n",
       "  'kindergarden_classroom']}"
      ]
     },
     "execution_count": 9,
     "metadata": {},
     "output_type": "execute_result"
    }
   ],
   "source": [
    "# Places\n",
    "places_result['2017_10735550']"
   ]
  },
  {
   "cell_type": "code",
   "execution_count": 10,
   "id": "multiple-douglas",
   "metadata": {},
   "outputs": [
    {
     "name": "stdout",
     "output_type": "stream",
     "text": [
      "clock\n",
      "umbrella\n",
      "surfboard\n",
      "frisbee\n",
      "bowl\n",
      "keyboard\n",
      "person\n",
      "cup\n",
      "dining table\n",
      "tv\n"
     ]
    }
   ],
   "source": [
    "# Coco\n",
    "detections=object_results[15]['output']['labels']\n",
    "for d in detections[:10]:\n",
    "    print(coco_classes[d])"
   ]
  },
  {
   "cell_type": "code",
   "execution_count": 11,
   "id": "governmental-honey",
   "metadata": {},
   "outputs": [
    {
     "name": "stdout",
     "output_type": "stream",
     "text": [
      "neutral\n",
      "anger\n",
      "sadness\n"
     ]
    }
   ],
   "source": [
    "# Expressions\n",
    "face_expression=expression_results[0]['2017_90320159'][0]['0']['classes']\n",
    "for face in face_expression:\n",
    "    print(expression_classes[int(face)])"
   ]
  },
  {
   "cell_type": "markdown",
   "id": "1fc5b11c",
   "metadata": {},
   "source": [
    "## Wrangling\n",
    "### Expression\n",
    "Load the existing data"
   ]
  },
  {
   "cell_type": "code",
   "execution_count": 12,
   "id": "eec2260f",
   "metadata": {},
   "outputs": [],
   "source": [
    "main_data = pd.read_csv(\"data/data.csv\")\n",
    "val_data = main_data[main_data.dataset == \"validation\"]"
   ]
  },
  {
   "cell_type": "markdown",
   "id": "7484a8a5",
   "metadata": {},
   "source": [
    "Wrangle the expression data"
   ]
  },
  {
   "cell_type": "code",
   "execution_count": 13,
   "id": "3afff140",
   "metadata": {},
   "outputs": [],
   "source": [
    "dict_res = {}\n",
    "for mini_dict in expression_results:\n",
    "    key = list(mini_dict.keys())[0]\n",
    "    faces = mini_dict[key]\n",
    "    faces = list(mini_dict.values())[0]\n",
    "    res = {class_name: [] for class_name in expression_classes}\n",
    "    res[\"likely\"] = []\n",
    "    for face in faces:\n",
    "        res.update({key: value + [0] for key, value in res.items()})\n",
    "        face = list(face.values())[0]\n",
    "        face_expression = face[\"classes\"]\n",
    "        probabiliites = face[\"probs\"]\n",
    "        for expression, probability in zip(face_expression, probabiliites):\n",
    "            res[expression_classes[int(expression)]][-1] = float(probability.numpy())\n",
    "        res[\"likely\"][-1] = expression_classes[int(face_expression[probabiliites.argmax()])]\n",
    "\n",
    "    dict_res[key] = res"
   ]
  },
  {
   "cell_type": "markdown",
   "id": "81c5262e",
   "metadata": {},
   "source": [
    "Convert to a dataframe and rename columns"
   ]
  },
  {
   "cell_type": "code",
   "execution_count": 14,
   "id": "0e4875e1",
   "metadata": {},
   "outputs": [],
   "source": [
    "expression_data = pd.DataFrame.from_dict(dict_res, orient=\"index\")\n",
    "expression_data.rename(columns=lambda x: f\"expression_{x}\", inplace=True)"
   ]
  },
  {
   "cell_type": "markdown",
   "id": "5128c794",
   "metadata": {},
   "source": [
    "Join the two dataframes"
   ]
  },
  {
   "cell_type": "code",
   "execution_count": 15,
   "id": "5ac7aa25",
   "metadata": {},
   "outputs": [],
   "source": [
    "all_data = pd.merge(\n",
    "    val_data,\n",
    "    expression_data,\n",
    "    left_on=\"id\",\n",
    "    right_index=True,\n",
    "    how=\"left\"\n",
    ")"
   ]
  },
  {
   "cell_type": "markdown",
   "id": "0c7bc07a",
   "metadata": {},
   "source": [
    "Some quick tests"
   ]
  },
  {
   "cell_type": "code",
   "execution_count": 16,
   "id": "3efd6054",
   "metadata": {},
   "outputs": [],
   "source": [
    "assert(all_data.shape[0] == max(expression_data.shape[0], val_data.shape[0]))\n",
    "assert(all_data.shape[1] == expression_data.shape[1] + val_data.shape[1])\n",
    "for i in range(100):\n",
    "    key = random.choice(expression_data.index)\n",
    "    col = random.choice(expression_data.columns)\n",
    "    assert(all_data[all_data.id == key][col].values[0] == expression_data.loc[key, col])"
   ]
  }
 ],
 "metadata": {
  "kernelspec": {
   "display_name": "Python 3",
   "language": "python",
   "name": "python3"
  },
  "language_info": {
   "codemirror_mode": {
    "name": "ipython",
    "version": 3
   },
   "file_extension": ".py",
   "mimetype": "text/x-python",
   "name": "python",
   "nbconvert_exporter": "python",
   "pygments_lexer": "ipython3",
   "version": "3.9.2"
  }
 },
 "nbformat": 4,
 "nbformat_minor": 5
}
