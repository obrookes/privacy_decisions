{
 "cells": [
  {
   "cell_type": "code",
   "execution_count": 46,
   "id": "indoor-advisory",
   "metadata": {},
   "outputs": [],
   "source": [
    "import torch, io, json"
   ]
  },
  {
   "cell_type": "code",
   "execution_count": 47,
   "id": "declared-logan",
   "metadata": {},
   "outputs": [
    {
     "name": "stdout",
     "output_type": "stream",
     "text": [
      "1.7.0\n"
     ]
    }
   ],
   "source": [
    "print(torch.__version__)"
   ]
  },
  {
   "cell_type": "code",
   "execution_count": 48,
   "id": "greek-edmonton",
   "metadata": {},
   "outputs": [],
   "source": [
    "with open('generated_features/val/val_expression.pt', 'rb') as f:\n",
    "  buffer = io.BytesIO(f.read())\n",
    "expression_results=torch.load(buffer,map_location=torch.device('cpu'));"
   ]
  },
  {
   "cell_type": "code",
   "execution_count": 49,
   "id": "female-chance",
   "metadata": {},
   "outputs": [],
   "source": [
    "with open('generated_features/val/val_object_detection.pt', 'rb') as f:\n",
    "  buffer = io.BytesIO(f.read())\n",
    "object_results=torch.load(buffer,map_location=torch.device('cpu'));"
   ]
  },
  {
   "cell_type": "code",
   "execution_count": 58,
   "id": "virgin-journalist",
   "metadata": {},
   "outputs": [],
   "source": [
    "with open(\"generated_features/val/val_places365.json\", \"r\") as json_file: \n",
    "    places_result=json.load(json_file)"
   ]
  },
  {
   "cell_type": "markdown",
   "id": "cardiac-bishop",
   "metadata": {},
   "source": [
    "**Get classes**"
   ]
  },
  {
   "cell_type": "code",
   "execution_count": 55,
   "id": "polished-batman",
   "metadata": {},
   "outputs": [],
   "source": [
    "# Get expression classes\n",
    "with open(\"class_files/expression_classes.txt\", \"r\") as f:\n",
    "    expression_classes = [s.strip() for s in f.readlines()]"
   ]
  },
  {
   "cell_type": "code",
   "execution_count": 56,
   "id": "selective-prediction",
   "metadata": {},
   "outputs": [],
   "source": [
    "# Get coco classes\n",
    "with open(\"class_files/coco_classes.txt\", \"r\") as f:\n",
    "    coco_classes = [s.strip() for s in f.readlines()]"
   ]
  },
  {
   "cell_type": "code",
   "execution_count": 57,
   "id": "permanent-junction",
   "metadata": {},
   "outputs": [],
   "source": [
    "# Get places365 classes\n",
    "file_name = 'class_files/coco_classes.txt'                                                                                                                                       \n",
    "places365_classes = list()                                                                                         \n",
    "with open(file_name) as class_file:                                                                      \n",
    "    for line in class_file:                                                                              \n",
    "        places365_classes.append(line.strip().split(' ')[0][3:])  "
   ]
  },
  {
   "cell_type": "markdown",
   "id": "novel-frontier",
   "metadata": {},
   "source": [
    "**Test output**"
   ]
  },
  {
   "cell_type": "code",
   "execution_count": 61,
   "id": "handled-collector",
   "metadata": {},
   "outputs": [
    {
     "data": {
      "text/plain": [
       "{'prob': [0.5115284323692322,\n",
       "  0.1368655413389206,\n",
       "  0.07560905069112778,\n",
       "  0.05295965448021889,\n",
       "  0.03759666159749031],\n",
       " 'class': ['museum/indoor',\n",
       "  'burial_chamber',\n",
       "  'cemetery',\n",
       "  'archaelogical_excavation',\n",
       "  'kindergarden_classroom']}"
      ]
     },
     "execution_count": 61,
     "metadata": {},
     "output_type": "execute_result"
    }
   ],
   "source": [
    "# Places\n",
    "places_result['2017_10735550']"
   ]
  },
  {
   "cell_type": "code",
   "execution_count": 84,
   "id": "multiple-douglas",
   "metadata": {},
   "outputs": [
    {
     "name": "stdout",
     "output_type": "stream",
     "text": [
      "clock\n",
      "umbrella\n",
      "surfboard\n",
      "frisbee\n",
      "bowl\n",
      "keyboard\n",
      "person\n",
      "cup\n",
      "dining table\n",
      "tv\n"
     ]
    }
   ],
   "source": [
    "# Coco\n",
    "detections=object_results[15]['output']['labels']\n",
    "for d in detections[:10]:\n",
    "    print(coco_classes[d])"
   ]
  },
  {
   "cell_type": "code",
   "execution_count": 110,
   "id": "governmental-honey",
   "metadata": {},
   "outputs": [
    {
     "name": "stdout",
     "output_type": "stream",
     "text": [
      "neutral\n",
      "anger\n",
      "sadness\n"
     ]
    }
   ],
   "source": [
    "# Expressions\n",
    "face_expression=expression_results[0]['2017_90320159'][0]['0']['classes']\n",
    "for face in face_expression:\n",
    "    print(expression_classes[int(face)])"
   ]
  }
 ],
 "metadata": {
  "kernelspec": {
   "display_name": "Python 3",
   "language": "python",
   "name": "python3"
  },
  "language_info": {
   "codemirror_mode": {
    "name": "ipython",
    "version": 3
   },
   "file_extension": ".py",
   "mimetype": "text/x-python",
   "name": "python",
   "nbconvert_exporter": "python",
   "pygments_lexer": "ipython3",
   "version": "3.8.5"
  }
 },
 "nbformat": 4,
 "nbformat_minor": 5
}
