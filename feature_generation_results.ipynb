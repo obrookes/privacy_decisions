{
 "cells": [
  {
   "cell_type": "code",
   "execution_count": 1,
   "id": "indoor-advisory",
   "metadata": {},
   "outputs": [],
   "source": [
    "import torch, io, json, random\n",
    "import pandas as pd"
   ]
  },
  {
   "cell_type": "code",
   "execution_count": 2,
   "id": "declared-logan",
   "metadata": {},
   "outputs": [
    {
     "name": "stdout",
     "output_type": "stream",
     "text": [
      "1.8.1+cu102\n"
     ]
    }
   ],
   "source": [
    "print(torch.__version__)"
   ]
  },
  {
   "cell_type": "code",
   "execution_count": 3,
   "id": "greek-edmonton",
   "metadata": {},
   "outputs": [],
   "source": [
    "with open('generated_features/val/val_expression.pt', 'rb') as f:\n",
    "  buffer = io.BytesIO(f.read())\n",
    "expression_results=torch.load(buffer,map_location=torch.device('cpu'));"
   ]
  },
  {
   "cell_type": "code",
   "execution_count": 4,
   "id": "female-chance",
   "metadata": {},
   "outputs": [],
   "source": [
    "with open('generated_features/val/val_object_detection.pt', 'rb') as f:\n",
    "  buffer = io.BytesIO(f.read())\n",
    "object_results=torch.load(buffer,map_location=torch.device('cpu'));"
   ]
  },
  {
   "cell_type": "code",
   "execution_count": 5,
   "id": "virgin-journalist",
   "metadata": {},
   "outputs": [],
   "source": [
    "with open(\"generated_features/val/val_places365.json\", \"r\") as json_file: \n",
    "    places_result=json.load(json_file)"
   ]
  },
  {
   "cell_type": "markdown",
   "id": "cardiac-bishop",
   "metadata": {},
   "source": [
    "**Get classes**"
   ]
  },
  {
   "cell_type": "code",
   "execution_count": 6,
   "id": "polished-batman",
   "metadata": {},
   "outputs": [],
   "source": [
    "# Get expression classes\n",
    "with open(\"class_files/expression_classes.txt\", \"r\") as f:\n",
    "    expression_classes = [s.strip() for s in f.readlines()]"
   ]
  },
  {
   "cell_type": "code",
   "execution_count": 7,
   "id": "selective-prediction",
   "metadata": {},
   "outputs": [],
   "source": [
    "# Get coco classes\n",
    "with open(\"class_files/coco_classes.txt\", \"r\") as f:\n",
    "    coco_classes = [s.strip() for s in f.readlines()]"
   ]
  },
  {
   "cell_type": "code",
   "execution_count": 8,
   "id": "permanent-junction",
   "metadata": {},
   "outputs": [],
   "source": [
    "# Get places365 classes\n",
    "file_name = 'class_files/places365_classes.txt'                                                                                                                                       \n",
    "places365_classes = list()                                                                                         \n",
    "with open(file_name) as class_file:                                                                      \n",
    "    for line in class_file:                                                                              \n",
    "        places365_classes.append(line.strip().split(' ')[0][3:])  "
   ]
  },
  {
   "cell_type": "markdown",
   "id": "novel-frontier",
   "metadata": {},
   "source": [
    "**Test output**"
   ]
  },
  {
   "cell_type": "code",
   "execution_count": 9,
   "id": "handled-collector",
   "metadata": {},
   "outputs": [
    {
     "data": {
      "text/plain": [
       "{'prob': [0.5115284323692322,\n",
       "  0.1368655413389206,\n",
       "  0.07560905069112778,\n",
       "  0.05295965448021889,\n",
       "  0.03759666159749031],\n",
       " 'class': ['museum/indoor',\n",
       "  'burial_chamber',\n",
       "  'cemetery',\n",
       "  'archaelogical_excavation',\n",
       "  'kindergarden_classroom']}"
      ]
     },
     "execution_count": 9,
     "metadata": {},
     "output_type": "execute_result"
    }
   ],
   "source": [
    "# Places\n",
    "places_result['2017_10735550']"
   ]
  },
  {
   "cell_type": "code",
   "execution_count": 10,
   "id": "multiple-douglas",
   "metadata": {},
   "outputs": [
    {
     "name": "stdout",
     "output_type": "stream",
     "text": [
      "clock\n",
      "umbrella\n",
      "surfboard\n",
      "frisbee\n",
      "bowl\n",
      "keyboard\n",
      "person\n",
      "cup\n",
      "dining table\n",
      "tv\n"
     ]
    }
   ],
   "source": [
    "# Coco\n",
    "detections=object_results[15]['output']['labels']\n",
    "for d in detections[:10]:\n",
    "    print(coco_classes[d])"
   ]
  },
  {
   "cell_type": "code",
   "execution_count": 11,
   "id": "governmental-honey",
   "metadata": {},
   "outputs": [
    {
     "name": "stdout",
     "output_type": "stream",
     "text": [
      "neutral\n",
      "anger\n",
      "sadness\n"
     ]
    }
   ],
   "source": [
    "# Expressions\n",
    "face_expression=expression_results[0]['2017_90320159'][0]['0']['classes']\n",
    "for face in face_expression:\n",
    "    print(expression_classes[int(face)])"
   ]
  },
  {
   "cell_type": "markdown",
   "id": "1fc5b11c",
   "metadata": {},
   "source": [
    "## Wrangling\n",
    "### Expression\n",
    "Load the existing data"
   ]
  },
  {
   "cell_type": "code",
   "execution_count": 12,
   "id": "eec2260f",
   "metadata": {},
   "outputs": [],
   "source": [
    "main_data = pd.read_csv(\"data/data.csv\")\n",
    "val_data = main_data[main_data.dataset == \"validation\"]"
   ]
  },
  {
   "cell_type": "markdown",
   "id": "7484a8a5",
   "metadata": {},
   "source": [
    "Wrangle the expression data"
   ]
  },
  {
   "cell_type": "code",
   "execution_count": 13,
   "id": "3afff140",
   "metadata": {},
   "outputs": [],
   "source": [
    "dict_res = {}\n",
    "for mini_dict in expression_results:\n",
    "    key = list(mini_dict.keys())[0]\n",
    "    faces = mini_dict[key]\n",
    "    faces = list(mini_dict.values())[0]\n",
    "    res = {class_name: [] for class_name in expression_classes}\n",
    "    res[\"likely\"] = []\n",
    "    for face in faces:\n",
    "        res.update({key: value + [0] for key, value in res.items()})\n",
    "        face = list(face.values())[0]\n",
    "        face_expression = face[\"classes\"]\n",
    "        probabiliites = face[\"probs\"]\n",
    "        for expression, probability in zip(face_expression, probabiliites):\n",
    "            res[expression_classes[int(expression)]][-1] = float(probability.numpy())\n",
    "        res[\"likely\"][-1] = expression_classes[int(face_expression[probabiliites.argmax()])]\n",
    "\n",
    "    dict_res[key] = res"
   ]
  },
  {
   "cell_type": "markdown",
   "id": "81c5262e",
   "metadata": {},
   "source": [
    "Convert to a dataframe and rename columns"
   ]
  },
  {
   "cell_type": "code",
   "execution_count": 14,
   "id": "0e4875e1",
   "metadata": {},
   "outputs": [],
   "source": [
    "expression_data = pd.DataFrame.from_dict(dict_res, orient=\"index\")\n",
    "expression_data.rename(columns=lambda x: f\"expression_{x}\", inplace=True)"
   ]
  },
  {
   "cell_type": "markdown",
   "id": "5128c794",
   "metadata": {},
   "source": [
    "Join the two dataframes"
   ]
  },
  {
   "cell_type": "code",
   "execution_count": 15,
   "id": "5ac7aa25",
   "metadata": {},
   "outputs": [],
   "source": [
    "data_with_expression = pd.merge(\n",
    "    val_data,\n",
    "    expression_data,\n",
    "    left_on=\"id\",\n",
    "    right_index=True,\n",
    "    how=\"left\"\n",
    ")"
   ]
  },
  {
   "cell_type": "markdown",
   "id": "0c7bc07a",
   "metadata": {},
   "source": [
    "Some quick tests"
   ]
  },
  {
   "cell_type": "code",
   "execution_count": 16,
   "id": "3efd6054",
   "metadata": {},
   "outputs": [],
   "source": [
    "assert(data_with_expression.shape[0] == max(expression_data.shape[0], val_data.shape[0]))\n",
    "assert(data_with_expression.shape[1] == expression_data.shape[1] + val_data.shape[1])\n",
    "for i in range(100):\n",
    "    key = random.choice(expression_data.index)\n",
    "    col = random.choice(expression_data.columns)\n",
    "    assert(data_with_expression[data_with_expression.id == key][col].values[0] == expression_data.loc[key, col])"
   ]
  },
  {
   "cell_type": "markdown",
   "id": "19e91867",
   "metadata": {},
   "source": [
    "### Objects"
   ]
  },
  {
   "cell_type": "code",
   "execution_count": 17,
   "id": "0bd89f98",
   "metadata": {},
   "outputs": [],
   "source": [
    "object_class_list = [item for item in coco_classes if item != \"N/A\"]"
   ]
  },
  {
   "cell_type": "markdown",
   "id": "23ec5eee",
   "metadata": {},
   "source": [
    "Wrangle the object data"
   ]
  },
  {
   "cell_type": "code",
   "execution_count": 18,
   "id": "be0536de",
   "metadata": {},
   "outputs": [],
   "source": [
    "object_dictionary = {}\n",
    "for photo in object_results:\n",
    "    photo_id = photo[\"image\"].split(\".\")[0]\n",
    "    photo_dictionary = {obj: [] for obj in object_class_list}\n",
    "    x = photo[\"output\"]\n",
    "    for obj, prob in zip(x[\"labels\"], x[\"scores\"]):\n",
    "        photo_dictionary[coco_classes[obj]].append(float(prob))\n",
    "    object_dictionary[photo_id] = photo_dictionary"
   ]
  },
  {
   "cell_type": "markdown",
   "id": "562df1f6",
   "metadata": {},
   "source": [
    "Convert to DataFrame, drop `__background__` column and rename rest"
   ]
  },
  {
   "cell_type": "code",
   "execution_count": 19,
   "id": "829c3b36",
   "metadata": {},
   "outputs": [],
   "source": [
    "object_data = pd.DataFrame.from_dict(object_dictionary, orient=\"index\")\n",
    "object_data.drop(\"__background__\", axis=1, inplace=True)\n",
    "object_data.rename(columns=lambda col: f\"object_{col}\", inplace=True)"
   ]
  },
  {
   "cell_type": "markdown",
   "id": "6b1d17b7",
   "metadata": {},
   "source": [
    "Join the two dataframes"
   ]
  },
  {
   "cell_type": "code",
   "execution_count": 20,
   "id": "426a851c",
   "metadata": {},
   "outputs": [],
   "source": [
    "data_with_object = pd.merge(\n",
    "    data_with_expression, \n",
    "    object_data,\n",
    "    left_on=\"id\",\n",
    "    right_index=True,\n",
    "    how=\"left\"\n",
    ") "
   ]
  },
  {
   "cell_type": "markdown",
   "id": "d966609d",
   "metadata": {},
   "source": [
    "### Places"
   ]
  },
  {
   "cell_type": "code",
   "execution_count": 21,
   "id": "cb568197",
   "metadata": {},
   "outputs": [],
   "source": [
    "places_dictionary = {}\n",
    "for photo_id, photo in places_result.items():\n",
    "    photo_dictionary = {place: 0 for place in places365_classes}\n",
    "    for place, prob in zip(photo[\"class\"], photo[\"prob\"]):\n",
    "        photo_dictionary[place] = prob\n",
    "    places_dictionary[photo_id] = photo_dictionary"
   ]
  },
  {
   "cell_type": "markdown",
   "id": "8cb0c9ea",
   "metadata": {},
   "source": [
    "Convert to DataFrame and rename columns"
   ]
  },
  {
   "cell_type": "code",
   "execution_count": 22,
   "id": "908be394",
   "metadata": {},
   "outputs": [],
   "source": [
    "places_data = pd.DataFrame.from_dict(places_dictionary, orient=\"index\")\n",
    "places_data.rename(columns=lambda col: f\"place_{col}\", inplace=True)"
   ]
  },
  {
   "cell_type": "code",
   "execution_count": 23,
   "id": "f273468c",
   "metadata": {},
   "outputs": [],
   "source": [
    "all_data = pd.merge(\n",
    "    data_with_object,\n",
    "    places_data,\n",
    "    left_on=\"id\",\n",
    "    right_index=True,\n",
    "    how=\"left\",\n",
    ")"
   ]
  },
  {
   "cell_type": "markdown",
   "id": "36d145c2",
   "metadata": {},
   "source": [
    "## Write data to file"
   ]
  },
  {
   "cell_type": "code",
   "execution_count": 24,
   "id": "ab43db3a",
   "metadata": {},
   "outputs": [],
   "source": [
    "all_data.to_json(\"data/data_with_features.json\")"
   ]
  }
 ],
 "metadata": {
  "kernelspec": {
   "display_name": "Python 3",
   "language": "python",
   "name": "python3"
  },
  "language_info": {
   "codemirror_mode": {
    "name": "ipython",
    "version": 3
   },
   "file_extension": ".py",
   "mimetype": "text/x-python",
   "name": "python",
   "nbconvert_exporter": "python",
   "pygments_lexer": "ipython3",
   "version": "3.9.2"
  }
 },
 "nbformat": 4,
 "nbformat_minor": 5
}
