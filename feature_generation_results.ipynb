{
 "cells": [
  {
   "cell_type": "code",
   "execution_count": 1,
   "id": "indoor-advisory",
   "metadata": {},
   "outputs": [],
   "source": [
    "import torch, io, json, random\n",
    "import pandas as pd"
   ]
  },
  {
   "cell_type": "code",
   "execution_count": 2,
   "id": "declared-logan",
   "metadata": {},
   "outputs": [
    {
     "name": "stdout",
     "output_type": "stream",
     "text": [
      "1.8.1+cu102\n"
     ]
    }
   ],
   "source": [
    "print(torch.__version__)"
   ]
  },
  {
   "cell_type": "markdown",
   "id": "e142121e",
   "metadata": {},
   "source": [
    "## Load in the raw data"
   ]
  },
  {
   "cell_type": "code",
   "execution_count": 3,
   "id": "greek-edmonton",
   "metadata": {},
   "outputs": [],
   "source": [
    "expression_dict = {}\n",
    "for data_set in [\"test\", \"train\", \"val\"]:\n",
    "    with open(f\"generated_features/{data_set}/{data_set}_expression.pt\", 'rb') as f:\n",
    "        buffer = io.BytesIO(f.read())\n",
    "        expression_dict[data_set] = torch.load(buffer,map_location=torch.device('cpu'));\n",
    "\n",
    "expression_results = [pic for inner_list in expression_dict.values() for pic in inner_list]"
   ]
  },
  {
   "cell_type": "code",
   "execution_count": 4,
   "id": "female-chance",
   "metadata": {},
   "outputs": [],
   "source": [
    "object_dict = {}\n",
    "for data_set in [\"test\", \"train\", \"val\"]:\n",
    "    with open(f\"generated_features/{data_set}/{data_set}_object_detection.pt\", 'rb') as f:\n",
    "        buffer = io.BytesIO(f.read())\n",
    "        object_dict[data_set] = torch.load(buffer,map_location=torch.device('cpu'));\n",
    "                       \n",
    "object_results = [obj for inner_list in object_dict.values() for obj in inner_list]"
   ]
  },
  {
   "cell_type": "code",
   "execution_count": 5,
   "id": "virgin-journalist",
   "metadata": {},
   "outputs": [],
   "source": [
    "places_dict = {}\n",
    "for data_set in [\"test\", \"train\", \"val\"]:\n",
    "    with open(f\"generated_features/{data_set}/{data_set}_places365.json\", \"r\") as json_file: \n",
    "        places_dict[data_set]=json.load(json_file)\n",
    "        \n",
    "places_result = {a: b for inner_dict in places_dict.values() for (a, b) in inner_dict.items()}        "
   ]
  },
  {
   "cell_type": "code",
   "execution_count": 6,
   "id": "e300f53f",
   "metadata": {},
   "outputs": [
    {
     "data": {
      "text/plain": [
       "{'2017_64540760': [{'0': {'probs': tensor([0.6970, 0.1748, 0.1163]),\n",
       "    'classes': tensor([0, 1, 4])}}]}"
      ]
     },
     "execution_count": 6,
     "metadata": {},
     "output_type": "execute_result"
    }
   ],
   "source": [
    "expression_results[0]"
   ]
  },
  {
   "cell_type": "markdown",
   "id": "cardiac-bishop",
   "metadata": {},
   "source": [
    "**Get classes**"
   ]
  },
  {
   "cell_type": "code",
   "execution_count": 7,
   "id": "polished-batman",
   "metadata": {},
   "outputs": [],
   "source": [
    "# Get expression classes\n",
    "with open(\"class_files/expression_classes.txt\", \"r\") as f:\n",
    "    expression_classes = [s.strip() for s in f.readlines()]"
   ]
  },
  {
   "cell_type": "code",
   "execution_count": 8,
   "id": "selective-prediction",
   "metadata": {},
   "outputs": [],
   "source": [
    "# Get coco classes\n",
    "with open(\"class_files/coco_classes.txt\", \"r\") as f:\n",
    "    coco_classes = [s.strip() for s in f.readlines()]"
   ]
  },
  {
   "cell_type": "code",
   "execution_count": 9,
   "id": "permanent-junction",
   "metadata": {},
   "outputs": [],
   "source": [
    "# Get places365 classes\n",
    "file_name = 'class_files/places365_classes.txt'                                                                                                                                       \n",
    "places365_classes = list()                                                                                         \n",
    "with open(file_name) as class_file:                                                                      \n",
    "    for line in class_file:                                                                              \n",
    "        places365_classes.append(line.strip().split(' ')[0][3:])  "
   ]
  },
  {
   "cell_type": "markdown",
   "id": "novel-frontier",
   "metadata": {},
   "source": [
    "**Test output**"
   ]
  },
  {
   "cell_type": "code",
   "execution_count": 10,
   "id": "handled-collector",
   "metadata": {},
   "outputs": [
    {
     "data": {
      "text/plain": [
       "{'prob': [0.5115284323692322,\n",
       "  0.1368655413389206,\n",
       "  0.07560905069112778,\n",
       "  0.05295965448021889,\n",
       "  0.03759666159749031],\n",
       " 'class': ['museum/indoor',\n",
       "  'burial_chamber',\n",
       "  'cemetery',\n",
       "  'archaelogical_excavation',\n",
       "  'kindergarden_classroom']}"
      ]
     },
     "execution_count": 10,
     "metadata": {},
     "output_type": "execute_result"
    }
   ],
   "source": [
    "# Places\n",
    "places_result['2017_10735550']"
   ]
  },
  {
   "cell_type": "code",
   "execution_count": 11,
   "id": "multiple-douglas",
   "metadata": {},
   "outputs": [
    {
     "name": "stdout",
     "output_type": "stream",
     "text": [
      "person\n",
      "bottle\n",
      "refrigerator\n",
      "chair\n",
      "person\n",
      "dining table\n",
      "person\n",
      "refrigerator\n",
      "couch\n",
      "person\n"
     ]
    }
   ],
   "source": [
    "# Coco\n",
    "detections=object_results[15]['output']['labels']\n",
    "for d in detections[:10]:\n",
    "    print(coco_classes[d])"
   ]
  },
  {
   "cell_type": "code",
   "execution_count": 12,
   "id": "governmental-honey",
   "metadata": {},
   "outputs": [
    {
     "name": "stdout",
     "output_type": "stream",
     "text": [
      "neutral\n",
      "happiness\n",
      "anger\n"
     ]
    }
   ],
   "source": [
    "# Expressions\n",
    "face_expression=expression_results[0]['2017_64540760'][0]['0']['classes']\n",
    "for face in face_expression:\n",
    "    print(expression_classes[int(face)])"
   ]
  },
  {
   "cell_type": "markdown",
   "id": "1fc5b11c",
   "metadata": {},
   "source": [
    "## Wrangling\n",
    "### Expression\n",
    "Load the existing data"
   ]
  },
  {
   "cell_type": "code",
   "execution_count": 13,
   "id": "eec2260f",
   "metadata": {},
   "outputs": [],
   "source": [
    "main_data = pd.read_csv(\"data/data.csv\")"
   ]
  },
  {
   "cell_type": "markdown",
   "id": "7484a8a5",
   "metadata": {},
   "source": [
    "Wrangle the expression data"
   ]
  },
  {
   "cell_type": "code",
   "execution_count": 14,
   "id": "3afff140",
   "metadata": {},
   "outputs": [],
   "source": [
    "dict_res = {}\n",
    "for mini_dict in expression_results:\n",
    "    key = list(mini_dict.keys())[0]\n",
    "    faces = mini_dict[key]\n",
    "    faces = list(mini_dict.values())[0]\n",
    "    res = {class_name: [] for class_name in expression_classes}\n",
    "    res[\"likely\"] = []\n",
    "    for face in faces:\n",
    "        res.update({key: value + [0] for key, value in res.items()})\n",
    "        face = list(face.values())[0]\n",
    "        face_expression = face[\"classes\"]\n",
    "        probabiliites = face[\"probs\"]\n",
    "        for expression, probability in zip(face_expression, probabiliites):\n",
    "            res[expression_classes[int(expression)]][-1] = float(probability.numpy())\n",
    "        res[\"likely\"][-1] = expression_classes[int(face_expression[probabiliites.argmax()])]\n",
    "\n",
    "    dict_res[key] = res"
   ]
  },
  {
   "cell_type": "markdown",
   "id": "81c5262e",
   "metadata": {},
   "source": [
    "Convert to a dataframe and rename columns"
   ]
  },
  {
   "cell_type": "code",
   "execution_count": 15,
   "id": "0e4875e1",
   "metadata": {},
   "outputs": [],
   "source": [
    "expression_data = pd.DataFrame.from_dict(dict_res, orient=\"index\")\n",
    "expression_data.rename(columns=lambda x: f\"expression_{x}\", inplace=True)"
   ]
  },
  {
   "cell_type": "markdown",
   "id": "5128c794",
   "metadata": {},
   "source": [
    "Join the two dataframes"
   ]
  },
  {
   "cell_type": "code",
   "execution_count": 16,
   "id": "5ac7aa25",
   "metadata": {},
   "outputs": [],
   "source": [
    "data_with_expression = pd.merge(\n",
    "    main_data,\n",
    "    expression_data,\n",
    "    left_on=\"id\",\n",
    "    right_index=True,\n",
    "    how=\"left\"\n",
    ")"
   ]
  },
  {
   "cell_type": "markdown",
   "id": "0c7bc07a",
   "metadata": {},
   "source": [
    "Some quick tests"
   ]
  },
  {
   "cell_type": "code",
   "execution_count": 17,
   "id": "3efd6054",
   "metadata": {},
   "outputs": [],
   "source": [
    "assert(data_with_expression.shape[0] == max(expression_data.shape[0], main_data.shape[0]))\n",
    "assert(data_with_expression.shape[1] == expression_data.shape[1] + main_data.shape[1])\n",
    "for i in range(100):\n",
    "    key = random.choice(expression_data.index)\n",
    "    col = random.choice(expression_data.columns)\n",
    "    assert(data_with_expression[data_with_expression.id == key][col].values[0] == expression_data.loc[key, col])"
   ]
  },
  {
   "cell_type": "markdown",
   "id": "19e91867",
   "metadata": {},
   "source": [
    "### Objects"
   ]
  },
  {
   "cell_type": "code",
   "execution_count": 18,
   "id": "0bd89f98",
   "metadata": {},
   "outputs": [],
   "source": [
    "object_class_list = [item for item in coco_classes if item != \"N/A\"]"
   ]
  },
  {
   "cell_type": "markdown",
   "id": "23ec5eee",
   "metadata": {},
   "source": [
    "Wrangle the object data"
   ]
  },
  {
   "cell_type": "code",
   "execution_count": 19,
   "id": "be0536de",
   "metadata": {},
   "outputs": [],
   "source": [
    "object_dictionary = {}\n",
    "for photo in object_results:\n",
    "    photo_id = photo[\"image\"].split(\".\")[0]\n",
    "    photo_dictionary = {obj: [] for obj in object_class_list}\n",
    "    x = photo[\"output\"]\n",
    "    for obj, prob in zip(x[\"labels\"], x[\"scores\"]):\n",
    "        photo_dictionary[coco_classes[obj]].append(float(prob))\n",
    "    object_dictionary[photo_id] = photo_dictionary"
   ]
  },
  {
   "cell_type": "markdown",
   "id": "562df1f6",
   "metadata": {},
   "source": [
    "Convert to DataFrame, drop `__background__` column and rename rest"
   ]
  },
  {
   "cell_type": "code",
   "execution_count": 20,
   "id": "829c3b36",
   "metadata": {},
   "outputs": [],
   "source": [
    "object_data = pd.DataFrame.from_dict(object_dictionary, orient=\"index\")\n",
    "object_data.drop(\"__background__\", axis=1, inplace=True)\n",
    "object_data.rename(columns=lambda col: f\"object_{col}\", inplace=True)"
   ]
  },
  {
   "cell_type": "markdown",
   "id": "6b1d17b7",
   "metadata": {},
   "source": [
    "Join the two dataframes"
   ]
  },
  {
   "cell_type": "code",
   "execution_count": 21,
   "id": "426a851c",
   "metadata": {},
   "outputs": [],
   "source": [
    "data_with_object = pd.merge(\n",
    "    data_with_expression, \n",
    "    object_data,\n",
    "    left_on=\"id\",\n",
    "    right_index=True,\n",
    "    how=\"left\"\n",
    ") "
   ]
  },
  {
   "cell_type": "markdown",
   "id": "d966609d",
   "metadata": {},
   "source": [
    "### Places"
   ]
  },
  {
   "cell_type": "code",
   "execution_count": 22,
   "id": "cb568197",
   "metadata": {},
   "outputs": [],
   "source": [
    "places_dictionary = {}\n",
    "for photo_id, photo in places_result.items():\n",
    "    photo_dictionary = {place: 0 for place in places365_classes}\n",
    "    for place, prob in zip(photo[\"class\"], photo[\"prob\"]):\n",
    "        photo_dictionary[place] = prob\n",
    "    places_dictionary[photo_id] = photo_dictionary"
   ]
  },
  {
   "cell_type": "markdown",
   "id": "8cb0c9ea",
   "metadata": {},
   "source": [
    "Convert to DataFrame and rename columns"
   ]
  },
  {
   "cell_type": "code",
   "execution_count": 23,
   "id": "908be394",
   "metadata": {},
   "outputs": [],
   "source": [
    "places_data = pd.DataFrame.from_dict(places_dictionary, orient=\"index\")\n",
    "places_data.rename(columns=lambda col: f\"place_{col}\", inplace=True)"
   ]
  },
  {
   "cell_type": "code",
   "execution_count": 24,
   "id": "f273468c",
   "metadata": {},
   "outputs": [],
   "source": [
    "all_data = pd.merge(\n",
    "    data_with_object,\n",
    "    places_data,\n",
    "    left_on=\"id\",\n",
    "    right_index=True,\n",
    "    how=\"left\",\n",
    ")"
   ]
  },
  {
   "cell_type": "markdown",
   "id": "36d145c2",
   "metadata": {},
   "source": [
    "## Write data to file"
   ]
  },
  {
   "cell_type": "code",
   "execution_count": 25,
   "id": "ab43db3a",
   "metadata": {},
   "outputs": [],
   "source": [
    "all_data.to_json(\"data/data_with_features.json\")\n",
    "all_data.to_csv(\"data/data_with_features.csv\", index=False)"
   ]
  },
  {
   "cell_type": "code",
   "execution_count": 26,
   "id": "d40b890d-0ae6-4b03-9832-f1423de8ffd4",
   "metadata": {},
   "outputs": [
    {
     "data": {
      "text/plain": [
       "id                     object\n",
       "image_path             object\n",
       "openimages_id          object\n",
       "source_url             object\n",
       "a16_race                 bool\n",
       "                       ...   \n",
       "place_wind_farm       float64\n",
       "place_windmill        float64\n",
       "place_yard            float64\n",
       "place_youth_hostel    float64\n",
       "place_zen_garden      float64\n",
       "Length: 526, dtype: object"
      ]
     },
     "execution_count": 26,
     "metadata": {},
     "output_type": "execute_result"
    }
   ],
   "source": [
    "all_data.dtypes"
   ]
  },
  {
   "cell_type": "code",
   "execution_count": 27,
   "id": "5f905fbd-135c-4807-86fb-1ec64ff00976",
   "metadata": {},
   "outputs": [
    {
     "data": {
      "text/html": [
       "<div>\n",
       "<style scoped>\n",
       "    .dataframe tbody tr th:only-of-type {\n",
       "        vertical-align: middle;\n",
       "    }\n",
       "\n",
       "    .dataframe tbody tr th {\n",
       "        vertical-align: top;\n",
       "    }\n",
       "\n",
       "    .dataframe thead th {\n",
       "        text-align: right;\n",
       "    }\n",
       "</style>\n",
       "<table border=\"1\" class=\"dataframe\">\n",
       "  <thead>\n",
       "    <tr style=\"text-align: right;\">\n",
       "      <th></th>\n",
       "      <th>id</th>\n",
       "      <th>image_path</th>\n",
       "      <th>openimages_id</th>\n",
       "      <th>source_url</th>\n",
       "      <th>a16_race</th>\n",
       "      <th>a17_color</th>\n",
       "      <th>a1_age_approx</th>\n",
       "      <th>a2_weight_approx</th>\n",
       "      <th>a4_gender</th>\n",
       "      <th>a6_hair_color</th>\n",
       "      <th>...</th>\n",
       "      <th>place_waterfall</th>\n",
       "      <th>place_watering_hole</th>\n",
       "      <th>place_wave</th>\n",
       "      <th>place_wet_bar</th>\n",
       "      <th>place_wheat_field</th>\n",
       "      <th>place_wind_farm</th>\n",
       "      <th>place_windmill</th>\n",
       "      <th>place_yard</th>\n",
       "      <th>place_youth_hostel</th>\n",
       "      <th>place_zen_garden</th>\n",
       "    </tr>\n",
       "  </thead>\n",
       "  <tbody>\n",
       "    <tr>\n",
       "      <th>18269</th>\n",
       "      <td>201733681453</td>\n",
       "      <td>images/train2017/2017_33681453.jpg</td>\n",
       "      <td>2184b0908737e8a7</td>\n",
       "      <td>https://farm8.staticflickr.com/5550/1083754945...</td>\n",
       "      <td>False</td>\n",
       "      <td>False</td>\n",
       "      <td>False</td>\n",
       "      <td>False</td>\n",
       "      <td>False</td>\n",
       "      <td>False</td>\n",
       "      <td>...</td>\n",
       "      <td>0.0</td>\n",
       "      <td>0.0</td>\n",
       "      <td>0.0</td>\n",
       "      <td>0.0</td>\n",
       "      <td>0.0</td>\n",
       "      <td>0.0</td>\n",
       "      <td>0.0</td>\n",
       "      <td>0.0</td>\n",
       "      <td>0.0</td>\n",
       "      <td>0.0</td>\n",
       "    </tr>\n",
       "  </tbody>\n",
       "</table>\n",
       "<p>1 rows × 526 columns</p>\n",
       "</div>"
      ],
      "text/plain": [
       "                 id                          image_path     openimages_id  \\\n",
       "18269  201733681453  images/train2017/2017_33681453.jpg  2184b0908737e8a7   \n",
       "\n",
       "                                              source_url  a16_race  a17_color  \\\n",
       "18269  https://farm8.staticflickr.com/5550/1083754945...     False      False   \n",
       "\n",
       "       a1_age_approx  a2_weight_approx  a4_gender  a6_hair_color  ...  \\\n",
       "18269          False             False      False          False  ...   \n",
       "\n",
       "       place_waterfall  place_watering_hole  place_wave  place_wet_bar  \\\n",
       "18269              0.0                  0.0         0.0            0.0   \n",
       "\n",
       "       place_wheat_field  place_wind_farm  place_windmill  place_yard  \\\n",
       "18269                0.0              0.0             0.0         0.0   \n",
       "\n",
       "       place_youth_hostel  place_zen_garden  \n",
       "18269                 0.0               0.0  \n",
       "\n",
       "[1 rows x 526 columns]"
      ]
     },
     "execution_count": 27,
     "metadata": {},
     "output_type": "execute_result"
    }
   ],
   "source": [
    "t = pd.read_json(\"data/data_with_features.json\")\n",
    "t.sample()"
   ]
  },
  {
   "cell_type": "code",
   "execution_count": 28,
   "id": "24c08909-bcef-423a-976d-ecce71713d52",
   "metadata": {},
   "outputs": [
    {
     "data": {
      "text/html": [
       "<div>\n",
       "<style scoped>\n",
       "    .dataframe tbody tr th:only-of-type {\n",
       "        vertical-align: middle;\n",
       "    }\n",
       "\n",
       "    .dataframe tbody tr th {\n",
       "        vertical-align: top;\n",
       "    }\n",
       "\n",
       "    .dataframe thead th {\n",
       "        text-align: right;\n",
       "    }\n",
       "</style>\n",
       "<table border=\"1\" class=\"dataframe\">\n",
       "  <thead>\n",
       "    <tr style=\"text-align: right;\">\n",
       "      <th></th>\n",
       "      <th>id</th>\n",
       "      <th>image_path</th>\n",
       "      <th>openimages_id</th>\n",
       "      <th>source_url</th>\n",
       "      <th>a16_race</th>\n",
       "      <th>a17_color</th>\n",
       "      <th>a1_age_approx</th>\n",
       "      <th>a2_weight_approx</th>\n",
       "      <th>a4_gender</th>\n",
       "      <th>a6_hair_color</th>\n",
       "      <th>...</th>\n",
       "      <th>place_waterfall</th>\n",
       "      <th>place_watering_hole</th>\n",
       "      <th>place_wave</th>\n",
       "      <th>place_wet_bar</th>\n",
       "      <th>place_wheat_field</th>\n",
       "      <th>place_wind_farm</th>\n",
       "      <th>place_windmill</th>\n",
       "      <th>place_yard</th>\n",
       "      <th>place_youth_hostel</th>\n",
       "      <th>place_zen_garden</th>\n",
       "    </tr>\n",
       "  </thead>\n",
       "  <tbody>\n",
       "    <tr>\n",
       "      <th>12280</th>\n",
       "      <td>2017_47440862</td>\n",
       "      <td>images/train2017/2017_47440862.jpg</td>\n",
       "      <td>da8f2d10b2839c14</td>\n",
       "      <td>https://farm5.staticflickr.com/3020/2753031663...</td>\n",
       "      <td>True</td>\n",
       "      <td>True</td>\n",
       "      <td>True</td>\n",
       "      <td>True</td>\n",
       "      <td>True</td>\n",
       "      <td>True</td>\n",
       "      <td>...</td>\n",
       "      <td>0.0</td>\n",
       "      <td>0.0</td>\n",
       "      <td>0.0</td>\n",
       "      <td>0.0</td>\n",
       "      <td>0.0</td>\n",
       "      <td>0.0</td>\n",
       "      <td>0.0</td>\n",
       "      <td>0.0</td>\n",
       "      <td>0.0</td>\n",
       "      <td>0.0</td>\n",
       "    </tr>\n",
       "  </tbody>\n",
       "</table>\n",
       "<p>1 rows × 526 columns</p>\n",
       "</div>"
      ],
      "text/plain": [
       "                  id                          image_path     openimages_id  \\\n",
       "12280  2017_47440862  images/train2017/2017_47440862.jpg  da8f2d10b2839c14   \n",
       "\n",
       "                                              source_url  a16_race  a17_color  \\\n",
       "12280  https://farm5.staticflickr.com/3020/2753031663...      True       True   \n",
       "\n",
       "       a1_age_approx  a2_weight_approx  a4_gender  a6_hair_color  ...  \\\n",
       "12280           True              True       True           True  ...   \n",
       "\n",
       "       place_waterfall  place_watering_hole  place_wave  place_wet_bar  \\\n",
       "12280              0.0                  0.0         0.0            0.0   \n",
       "\n",
       "       place_wheat_field  place_wind_farm  place_windmill  place_yard  \\\n",
       "12280                0.0              0.0             0.0         0.0   \n",
       "\n",
       "       place_youth_hostel  place_zen_garden  \n",
       "12280                 0.0               0.0  \n",
       "\n",
       "[1 rows x 526 columns]"
      ]
     },
     "execution_count": 28,
     "metadata": {},
     "output_type": "execute_result"
    }
   ],
   "source": [
    "all_data.sample()"
   ]
  }
 ],
 "metadata": {
  "kernelspec": {
   "display_name": "Python 3",
   "language": "python",
   "name": "python3"
  },
  "language_info": {
   "codemirror_mode": {
    "name": "ipython",
    "version": 3
   },
   "file_extension": ".py",
   "mimetype": "text/x-python",
   "name": "python",
   "nbconvert_exporter": "python",
   "pygments_lexer": "ipython3",
   "version": "3.9.5"
  }
 },
 "nbformat": 4,
 "nbformat_minor": 5
}
