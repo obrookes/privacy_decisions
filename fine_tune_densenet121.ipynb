{
 "cells": [
  {
   "cell_type": "code",
   "execution_count": 1,
   "id": "316cdc4b",
   "metadata": {},
   "outputs": [],
   "source": [
    "import pandas as pd\n",
    "import numpy as np\n",
    "import json"
   ]
  },
  {
   "cell_type": "code",
   "execution_count": 2,
   "id": "9bfd3be5",
   "metadata": {},
   "outputs": [],
   "source": [
    "from pathlib import Path\n",
    "from glob import glob"
   ]
  },
  {
   "cell_type": "code",
   "execution_count": 3,
   "id": "c7b2cf83",
   "metadata": {},
   "outputs": [],
   "source": [
    "import torch\n",
    "import torch.nn as nn\n",
    "import torch.nn.functional as F\n",
    "from torchvision import datasets, transforms, models\n",
    "from torch.utils.data import DataLoader\n",
    "from torch import optim"
   ]
  },
  {
   "cell_type": "code",
   "execution_count": 4,
   "id": "3ea937b1",
   "metadata": {},
   "outputs": [],
   "source": [
    "from data_loader import DatasetLoader\n",
    "# from custom_data import PrivacyDataset"
   ]
  },
  {
   "cell_type": "code",
   "execution_count": 5,
   "id": "8bc780c4",
   "metadata": {},
   "outputs": [],
   "source": [
    "device = torch.device('cuda' if torch.cuda.is_available() else 'cpu')"
   ]
  },
  {
   "cell_type": "code",
   "execution_count": 6,
   "id": "fe7ff276",
   "metadata": {},
   "outputs": [],
   "source": [
    "annotation_path='data/val/val_annotations'\n",
    "img_path='data/val/val_images'"
   ]
  },
  {
   "cell_type": "code",
   "execution_count": 7,
   "id": "19f1ef0f",
   "metadata": {},
   "outputs": [
    {
     "ename": "ValueError",
     "evalue": "No objects to concatenate",
     "output_type": "error",
     "traceback": [
      "\u001b[0;31m-------------------------------------------------------------\u001b[0m",
      "\u001b[0;31mValueError\u001b[0m                  Traceback (most recent call last)",
      "\u001b[0;32m<ipython-input-7-4291d3cda757>\u001b[0m in \u001b[0;36m<module>\u001b[0;34m\u001b[0m\n\u001b[1;32m      1\u001b[0m \u001b[0;31m# Loading data with labels\u001b[0m\u001b[0;34m\u001b[0m\u001b[0;34m\u001b[0m\u001b[0;34m\u001b[0m\u001b[0m\n\u001b[1;32m      2\u001b[0m \u001b[0mloader\u001b[0m \u001b[0;34m=\u001b[0m \u001b[0mDatasetLoader\u001b[0m\u001b[0;34m(\u001b[0m\u001b[0;34m)\u001b[0m\u001b[0;34m\u001b[0m\u001b[0;34m\u001b[0m\u001b[0m\n\u001b[0;32m----> 3\u001b[0;31m \u001b[0mloaded_data\u001b[0m \u001b[0;34m=\u001b[0m \u001b[0mloader\u001b[0m\u001b[0;34m.\u001b[0m\u001b[0mload_data\u001b[0m\u001b[0;34m(\u001b[0m\u001b[0mannotation_path\u001b[0m\u001b[0;34m)\u001b[0m\u001b[0;34m\u001b[0m\u001b[0;34m\u001b[0m\u001b[0m\n\u001b[0m",
      "\u001b[0;32m~/Documents/UofB/ADS/privacy_decisions/data_loader.py\u001b[0m in \u001b[0;36mload_data\u001b[0;34m(self, file_paths)\u001b[0m\n\u001b[1;32m     24\u001b[0m     \u001b[0;32mdef\u001b[0m \u001b[0mload_data\u001b[0m\u001b[0;34m(\u001b[0m\u001b[0mself\u001b[0m\u001b[0;34m,\u001b[0m\u001b[0mfile_paths\u001b[0m\u001b[0;34m)\u001b[0m\u001b[0;34m:\u001b[0m\u001b[0;34m\u001b[0m\u001b[0;34m\u001b[0m\u001b[0m\n\u001b[1;32m     25\u001b[0m         \u001b[0mself\u001b[0m\u001b[0;34m.\u001b[0m\u001b[0mget_file_paths\u001b[0m\u001b[0;34m(\u001b[0m\u001b[0mfile_paths\u001b[0m\u001b[0;34m)\u001b[0m\u001b[0;34m\u001b[0m\u001b[0;34m\u001b[0m\u001b[0m\n\u001b[0;32m---> 26\u001b[0;31m         \u001b[0mself\u001b[0m\u001b[0;34m.\u001b[0m\u001b[0mcreate_df\u001b[0m\u001b[0;34m(\u001b[0m\u001b[0;34m)\u001b[0m\u001b[0;34m\u001b[0m\u001b[0;34m\u001b[0m\u001b[0m\n\u001b[0m\u001b[1;32m     27\u001b[0m         \u001b[0mself\u001b[0m\u001b[0;34m.\u001b[0m\u001b[0mset_attr\u001b[0m\u001b[0;34m(\u001b[0m\u001b[0;34m)\u001b[0m\u001b[0;34m\u001b[0m\u001b[0;34m\u001b[0m\u001b[0m\n\u001b[1;32m     28\u001b[0m         \u001b[0mself\u001b[0m\u001b[0;34m.\u001b[0m\u001b[0mencode_dataset\u001b[0m\u001b[0;34m(\u001b[0m\u001b[0;34m)\u001b[0m\u001b[0;34m\u001b[0m\u001b[0;34m\u001b[0m\u001b[0m\n",
      "\u001b[0;32m~/Documents/UofB/ADS/privacy_decisions/data_loader.py\u001b[0m in \u001b[0;36mcreate_df\u001b[0;34m(self)\u001b[0m\n\u001b[1;32m     32\u001b[0m \u001b[0;34m\u001b[0m\u001b[0m\n\u001b[1;32m     33\u001b[0m     \u001b[0;32mdef\u001b[0m \u001b[0mcreate_df\u001b[0m\u001b[0;34m(\u001b[0m\u001b[0mself\u001b[0m\u001b[0;34m)\u001b[0m\u001b[0;34m:\u001b[0m\u001b[0;34m\u001b[0m\u001b[0;34m\u001b[0m\u001b[0m\n\u001b[0;32m---> 34\u001b[0;31m         self.dataset = pd.concat(\n\u001b[0m\u001b[1;32m     35\u001b[0m                 \u001b[0;34m[\u001b[0m\u001b[0mself\u001b[0m\u001b[0;34m.\u001b[0m\u001b[0mflatten_label\u001b[0m\u001b[0;34m(\u001b[0m\u001b[0mcounter\u001b[0m\u001b[0;34m,\u001b[0m\u001b[0mfile\u001b[0m\u001b[0;34m)\u001b[0m \u001b[0;32mfor\u001b[0m \u001b[0mcounter\u001b[0m\u001b[0;34m,\u001b[0m \u001b[0mfile\u001b[0m \u001b[0;32min\u001b[0m \u001b[0menumerate\u001b[0m\u001b[0;34m(\u001b[0m\u001b[0mself\u001b[0m\u001b[0;34m.\u001b[0m\u001b[0mfile_paths\u001b[0m\u001b[0;34m)\u001b[0m\u001b[0;34m]\u001b[0m\u001b[0;34m\u001b[0m\u001b[0;34m\u001b[0m\u001b[0m\n\u001b[1;32m     36\u001b[0m                 )\n",
      "\u001b[0;32m~/Documents/UofB/ADS/privacy_decisions/ads-venv/lib/python3.8/site-packages/pandas/core/reshape/concat.py\u001b[0m in \u001b[0;36mconcat\u001b[0;34m(objs, axis, join, ignore_index, keys, levels, names, verify_integrity, sort, copy)\u001b[0m\n\u001b[1;32m    283\u001b[0m     \u001b[0mValueError\u001b[0m\u001b[0;34m:\u001b[0m \u001b[0mIndexes\u001b[0m \u001b[0mhave\u001b[0m \u001b[0moverlapping\u001b[0m \u001b[0mvalues\u001b[0m\u001b[0;34m:\u001b[0m \u001b[0;34m[\u001b[0m\u001b[0;34m'a'\u001b[0m\u001b[0;34m]\u001b[0m\u001b[0;34m\u001b[0m\u001b[0;34m\u001b[0m\u001b[0m\n\u001b[1;32m    284\u001b[0m     \"\"\"\n\u001b[0;32m--> 285\u001b[0;31m     op = _Concatenator(\n\u001b[0m\u001b[1;32m    286\u001b[0m         \u001b[0mobjs\u001b[0m\u001b[0;34m,\u001b[0m\u001b[0;34m\u001b[0m\u001b[0;34m\u001b[0m\u001b[0m\n\u001b[1;32m    287\u001b[0m         \u001b[0maxis\u001b[0m\u001b[0;34m=\u001b[0m\u001b[0maxis\u001b[0m\u001b[0;34m,\u001b[0m\u001b[0;34m\u001b[0m\u001b[0;34m\u001b[0m\u001b[0m\n",
      "\u001b[0;32m~/Documents/UofB/ADS/privacy_decisions/ads-venv/lib/python3.8/site-packages/pandas/core/reshape/concat.py\u001b[0m in \u001b[0;36m__init__\u001b[0;34m(self, objs, axis, join, keys, levels, names, ignore_index, verify_integrity, copy, sort)\u001b[0m\n\u001b[1;32m    340\u001b[0m \u001b[0;34m\u001b[0m\u001b[0m\n\u001b[1;32m    341\u001b[0m         \u001b[0;32mif\u001b[0m \u001b[0mlen\u001b[0m\u001b[0;34m(\u001b[0m\u001b[0mobjs\u001b[0m\u001b[0;34m)\u001b[0m \u001b[0;34m==\u001b[0m \u001b[0;36m0\u001b[0m\u001b[0;34m:\u001b[0m\u001b[0;34m\u001b[0m\u001b[0;34m\u001b[0m\u001b[0m\n\u001b[0;32m--> 342\u001b[0;31m             \u001b[0;32mraise\u001b[0m \u001b[0mValueError\u001b[0m\u001b[0;34m(\u001b[0m\u001b[0;34m\"No objects to concatenate\"\u001b[0m\u001b[0;34m)\u001b[0m\u001b[0;34m\u001b[0m\u001b[0;34m\u001b[0m\u001b[0m\n\u001b[0m\u001b[1;32m    343\u001b[0m \u001b[0;34m\u001b[0m\u001b[0m\n\u001b[1;32m    344\u001b[0m         \u001b[0;32mif\u001b[0m \u001b[0mkeys\u001b[0m \u001b[0;32mis\u001b[0m \u001b[0;32mNone\u001b[0m\u001b[0;34m:\u001b[0m\u001b[0;34m\u001b[0m\u001b[0;34m\u001b[0m\u001b[0m\n",
      "\u001b[0;31mValueError\u001b[0m: No objects to concatenate"
     ]
    }
   ],
   "source": [
    "# Loading data with labels\n",
    "loader = DatasetLoader()\n",
    "loaded_data = loader.load_data(annotation_path)"
   ]
  },
  {
   "cell_type": "code",
   "execution_count": 8,
   "id": "c27a4728",
   "metadata": {},
   "outputs": [
    {
     "ename": "NameError",
     "evalue": "name 'loaded_data' is not defined",
     "output_type": "error",
     "traceback": [
      "\u001b[0;31m-------------------------------------------------------------\u001b[0m",
      "\u001b[0;31mNameError\u001b[0m                   Traceback (most recent call last)",
      "\u001b[0;32m<ipython-input-8-ffcef6334925>\u001b[0m in \u001b[0;36m<module>\u001b[0;34m\u001b[0m\n\u001b[1;32m      1\u001b[0m \u001b[0;31m# check for appropriate number of data points\u001b[0m\u001b[0;34m\u001b[0m\u001b[0;34m\u001b[0m\u001b[0;34m\u001b[0m\u001b[0m\n\u001b[0;32m----> 2\u001b[0;31m \u001b[0;32massert\u001b[0m\u001b[0;34m(\u001b[0m\u001b[0mlen\u001b[0m\u001b[0;34m(\u001b[0m\u001b[0mloaded_data\u001b[0m\u001b[0;34m.\u001b[0m\u001b[0mindex\u001b[0m\u001b[0;34m)\u001b[0m\u001b[0;34m==\u001b[0m\u001b[0;36m4167\u001b[0m\u001b[0;34m)\u001b[0m\u001b[0;34m\u001b[0m\u001b[0;34m\u001b[0m\u001b[0m\n\u001b[0m",
      "\u001b[0;31mNameError\u001b[0m: name 'loaded_data' is not defined"
     ]
    }
   ],
   "source": [
    "# check for appropriate number of data points\n",
    "assert(len(loaded_data.index)==4167)"
   ]
  },
  {
   "cell_type": "code",
   "execution_count": 9,
   "id": "8f15d9bb",
   "metadata": {},
   "outputs": [
    {
     "ename": "NameError",
     "evalue": "name 'loaded_data' is not defined",
     "output_type": "error",
     "traceback": [
      "\u001b[0;31m-------------------------------------------------------------\u001b[0m",
      "\u001b[0;31mNameError\u001b[0m                   Traceback (most recent call last)",
      "\u001b[0;32m<ipython-input-9-87399ffadc33>\u001b[0m in \u001b[0;36m<module>\u001b[0;34m\u001b[0m\n\u001b[1;32m      1\u001b[0m \u001b[0;31m# Visualise data with each label as column an binary encoding\u001b[0m\u001b[0;34m\u001b[0m\u001b[0;34m\u001b[0m\u001b[0;34m\u001b[0m\u001b[0m\n\u001b[0;32m----> 2\u001b[0;31m \u001b[0mloaded_data\u001b[0m\u001b[0;34m.\u001b[0m\u001b[0mhead\u001b[0m\u001b[0;34m(\u001b[0m\u001b[0;34m)\u001b[0m\u001b[0;34m\u001b[0m\u001b[0;34m\u001b[0m\u001b[0m\n\u001b[0m",
      "\u001b[0;31mNameError\u001b[0m: name 'loaded_data' is not defined"
     ]
    }
   ],
   "source": [
    "# Visualise data with each label as column an binary encoding\n",
    "loaded_data.head()"
   ]
  },
  {
   "cell_type": "markdown",
   "id": "c82a9625",
   "metadata": {},
   "source": [
    "#### **Dataset subsection**"
   ]
  },
  {
   "cell_type": "code",
   "execution_count": 26,
   "id": "8fc54104",
   "metadata": {},
   "outputs": [],
   "source": [
    "loaded_data = loaded_data[:100]"
   ]
  },
  {
   "cell_type": "markdown",
   "id": "f0cceba5",
   "metadata": {},
   "source": [
    "#### **Training Preparation**"
   ]
  },
  {
   "cell_type": "code",
   "execution_count": 27,
   "id": "d0c83fb9",
   "metadata": {},
   "outputs": [
    {
     "data": {
      "text/plain": [
       "100"
      ]
     },
     "execution_count": 27,
     "metadata": {},
     "output_type": "execute_result"
    }
   ],
   "source": [
    "train_size=round(len(loaded_data) * 0.8)\n",
    "val_size=round(len(loaded_data) * 0.2)\n",
    "train_size + val_size"
   ]
  },
  {
   "cell_type": "code",
   "execution_count": 28,
   "id": "f10ba44f",
   "metadata": {},
   "outputs": [],
   "source": [
    "# Define relevant transformations inc. converting images to tensors\n",
    "transform = transforms.Compose([transforms.ToPILImage(),\n",
    "                                transforms.Resize(255),\n",
    "                                transforms.CenterCrop(224),\n",
    "                                transforms.ToTensor(),\n",
    "                                transforms.Normalize((0.5,), (0.5,))\n",
    "                                ])"
   ]
  },
  {
   "cell_type": "code",
   "execution_count": 29,
   "id": "1d78d296",
   "metadata": {},
   "outputs": [],
   "source": [
    "dataset=PrivacyDataset(path=img_path,loaded_data=loaded_data,transform=transform)"
   ]
  },
  {
   "cell_type": "code",
   "execution_count": 30,
   "id": "417f5733",
   "metadata": {},
   "outputs": [],
   "source": [
    "train_set, val_set = torch.utils.data.random_split(dataset,[train_size,val_size])"
   ]
  },
  {
   "cell_type": "code",
   "execution_count": 31,
   "id": "39a4e507",
   "metadata": {},
   "outputs": [],
   "source": [
    "train_loader=DataLoader(dataset=train_set,batch_size=2,shuffle=True)\n",
    "val_loader=DataLoader(dataset=val_set,batch_size=2,shuffle=True)"
   ]
  },
  {
   "cell_type": "markdown",
   "id": "eac30d1a",
   "metadata": {},
   "source": [
    "#### **Testing output of custom dataset**"
   ]
  },
  {
   "cell_type": "code",
   "execution_count": 32,
   "id": "46a8122e",
   "metadata": {},
   "outputs": [],
   "source": [
    "img, label = next(iter(train_loader))"
   ]
  },
  {
   "cell_type": "code",
   "execution_count": 33,
   "id": "ad77fd60",
   "metadata": {},
   "outputs": [
    {
     "data": {
      "text/plain": [
       "torch.Size([3, 224, 224])"
      ]
     },
     "execution_count": 33,
     "metadata": {},
     "output_type": "execute_result"
    }
   ],
   "source": [
    "img.shape\n",
    "img[0].shape\n",
    "img[0].size()[0]\n",
    "new_img = img[0]\n",
    "new_img.shape"
   ]
  },
  {
   "cell_type": "code",
   "execution_count": 34,
   "id": "d28b5ed1",
   "metadata": {},
   "outputs": [
    {
     "name": "stderr",
     "output_type": "stream",
     "text": [
      "Clipping input data to the valid range for imshow with RGB data ([0..1] for floats or [0..255] for integers).\n"
     ]
    },
    {
     "data": {
      "image/png": "[encoded data removed]",
      "text/plain": [
       "<Figure size 432x288 with 1 Axes>"
      ]
     },
     "metadata": {
      "needs_background": "light"
     },
     "output_type": "display_data"
    }
   ],
   "source": [
    "import matplotlib.pyplot as plt\n",
    "plt.imshow(img[0].permute(1, 2, 0)); # requires channel dimension to be indexed last"
   ]
  },
  {
   "cell_type": "code",
   "execution_count": 35,
   "id": "c06019c5",
   "metadata": {},
   "outputs": [
    {
     "data": {
      "text/plain": [
       "torch.Size([2, 68])"
      ]
     },
     "execution_count": 35,
     "metadata": {},
     "output_type": "execute_result"
    }
   ],
   "source": [
    "label.shape"
   ]
  },
  {
   "cell_type": "code",
   "execution_count": 36,
   "id": "105004f8",
   "metadata": {},
   "outputs": [
    {
     "data": {
      "text/plain": [
       "Index(['a0_safe', 'a17_color', 'a6_hair_color', 'a16_race', 'a1_age_approx',\n",
       "       'a24_birth_date', 'a29_ausweis', 'a2_weight_approx', 'a3_height_approx',\n",
       "       'a4_gender', 'a5_eye_color', 'a78_address_home_complete',\n",
       "       'a82_date_time', 'a9_face_complete', 'a18_ethnic_clothing',\n",
       "       'a55_religion', 'a65_rel_social', 'a10_face_partial',\n",
       "       'a61_opinion_general', 'a69_rel_views', 'a12_semi_nudity',\n",
       "       'a64_rel_personal', 'a48_occassion_work', 'a66_rel_professional',\n",
       "       'a60_occassion_personal', 'a46_occupation', 'a73_landmark',\n",
       "       'a19_name_full', 'a25_nationality', 'a74_address_current_complete',\n",
       "       'a8_signature', 'a41_injury', 'a103_license_plate_complete',\n",
       "       'a26_handwriting', 'a75_address_current_partial', 'a49_phone',\n",
       "       'a37_receipt', 'a70_education_history', 'a57_culture',\n",
       "       'a68_rel_spectators', 'a23_birth_city', 'a99_legal_involvement',\n",
       "       'a59_sports', 'a67_rel_competitors', 'a39_disability_physical',\n",
       "       'a43_medicine', 'a104_license_plate_partial', 'a11_tattoo',\n",
       "       'a102_vehicle_ownership', 'a21_name_last', 'a33_student_id',\n",
       "       'a20_name_first', 'a30_credit_card', 'a38_ticket', 'a31_passport',\n",
       "       'a27_marital_status', 'a90_email', 'a56_sexual_orientation',\n",
       "       'a92_email_content', 'a35_mail', 'a32_drivers_license', 'a58_hobbies',\n",
       "       'a79_address_home_partial', 'a62_opinion_political', 'a85_username',\n",
       "       'a97_online_conversation', 'a13_full_nudity', 'a7_fingerprint'],\n",
       "      dtype='object')"
      ]
     },
     "execution_count": 36,
     "metadata": {},
     "output_type": "execute_result"
    }
   ],
   "source": [
    "# TODO: function to convert tensor to class activations\n",
    "attr=loader.get_attr()\n",
    "attr"
   ]
  },
  {
   "cell_type": "markdown",
   "id": "2c48896a",
   "metadata": {},
   "source": [
    "#### **Sample training loop**"
   ]
  },
  {
   "cell_type": "code",
   "execution_count": 37,
   "id": "86b743c3",
   "metadata": {},
   "outputs": [],
   "source": [
    "# Transfer learning, fine-tuning densenet121 \n",
    "model = models.densenet121(pretrained=True)"
   ]
  },
  {
   "cell_type": "code",
   "execution_count": 38,
   "id": "08dc9e1e",
   "metadata": {},
   "outputs": [],
   "source": [
    "for param in model.parameters():\n",
    "    param.requires_grad = False\n",
    "\n",
    "from collections import OrderedDict\n",
    "classifier = nn.Sequential(nn.Linear(1024, 500),\n",
    "                           nn.ReLU(),\n",
    "                           nn.Linear(500, 68),\n",
    "                           nn.Sigmoid()\n",
    "                          )\n",
    "    \n",
    "model.classifier = classifier"
   ]
  },
  {
   "cell_type": "code",
   "execution_count": 39,
   "id": "da9562b0",
   "metadata": {},
   "outputs": [],
   "source": [
    "criterion = nn.BCELoss()\n",
    "optimizer = optim.Adam(model.classifier.parameters(), lr=1e-3)"
   ]
  },
  {
   "cell_type": "markdown",
   "id": "ed126691",
   "metadata": {},
   "source": [
    "#### **Training on a single datapoint**"
   ]
  },
  {
   "cell_type": "code",
   "execution_count": 40,
   "id": "610efada",
   "metadata": {},
   "outputs": [
    {
     "name": "stdout",
     "output_type": "stream",
     "text": [
      "Training batch loss: 0.6983542442321777\n",
      "Test accuracy: 0.7132352941176471\n",
      "Test batch loss: 0.6289801597595215\n"
     ]
    }
   ],
   "source": [
    "inputs, labels = next(iter(train_loader))\n",
    "\n",
    "# Training loop\n",
    "\n",
    "model.train()\n",
    "\n",
    "optimizer.zero_grad()\n",
    "output = model.forward(inputs)\n",
    "loss = criterion(output, labels)\n",
    "loss.backward()\n",
    "optimizer.step()\n",
    "\n",
    "print('Training batch loss:', loss.item())\n",
    "\n",
    "# Test loop\n",
    "\n",
    "test_loss = 0\n",
    "inputs, labels = next(iter(val_loader))\n",
    "\n",
    "model.eval()\n",
    "\n",
    "output = model.forward(inputs)\n",
    "threshold=0.5\n",
    "equals = label.detach().numpy() == (output.detach().numpy() > threshold)\n",
    "t_loss = criterion(output, label)\n",
    "print('Test accuracy:',equals.mean())\n",
    "print('Test batch loss:', t_loss.item())"
   ]
  },
  {
   "cell_type": "markdown",
   "id": "e3d588cd",
   "metadata": {},
   "source": [
    "#### **Full training loop**"
   ]
  },
  {
   "cell_type": "code",
   "execution_count": 42,
   "id": "4ba91028",
   "metadata": {},
   "outputs": [
    {
     "name": "stdout",
     "output_type": "stream",
     "text": [
      "Epoch 1/5.. Train loss: 0.199.. Test loss: 0.233.. Test accuracy: 0.915\n",
      "Epoch 2/5.. Train loss: 0.199.. Test loss: 0.199.. Test accuracy: 0.935\n",
      "Epoch 3/5.. Train loss: 0.187.. Test loss: 0.195.. Test accuracy: 0.932\n",
      "Epoch 4/5.. Train loss: 0.188.. Test loss: 0.170.. Test accuracy: 0.946\n",
      "Epoch 5/5.. Train loss: 0.179.. Test loss: 0.182.. Test accuracy: 0.944\n"
     ]
    }
   ],
   "source": [
    "epochs = 5\n",
    "running_loss = 0\n",
    "val_loss = 0\n",
    "accuracy = 0\n",
    "\n",
    "for epoch in range(epochs):\n",
    "    for inputs, labels, _ in train_loader:\n",
    "        \n",
    "        model.train()\n",
    "        \n",
    "        steps += 1        \n",
    "        optimizer.zero_grad()\n",
    "        output = model(inputs)\n",
    "        loss = criterion(output, labels)\n",
    "        loss.backward()\n",
    "        optimizer.step()\n",
    "        running_loss += loss.item()\n",
    "            \n",
    "    with torch.no_grad():\n",
    "        for inputs, labels in val_loader:\n",
    "\n",
    "            model.eval()\n",
    "            \n",
    "            output = model(inputs)\n",
    "            batch_loss = criterion(output, labels)\n",
    "            val_loss += batch_loss.item()\n",
    "\n",
    "            # Calculate accuracy\n",
    "            threshold=0.5\n",
    "            equals = label.detach().numpy() == (output.detach().numpy() > threshold)\n",
    "            accuracy += equals.mean()\n",
    "                    \n",
    "    print(f\"Epoch {epoch+1}/{epochs}.. \"\n",
    "          f\"Train loss: {running_loss/len(train_loader):.3f}.. \"\n",
    "          f\"Validation loss: {val_loss/len(val_loader):.3f}.. \"\n",
    "          f\"Validation accuracy: {accuracy/len(val_loader):.3f}\")\n",
    "    running_loss = 0\n",
    "    val_loss = 0\n",
    "    accuracy = 0"
   ]
  }
 ],
 "metadata": {
  "kernelspec": {
   "display_name": "Python 3",
   "language": "python",
   "name": "python3"
  },
  "language_info": {
   "codemirror_mode": {
    "name": "ipython",
    "version": 3
   },
   "file_extension": ".py",
   "mimetype": "text/x-python",
   "name": "python",
   "nbconvert_exporter": "python",
   "pygments_lexer": "ipython3",
   "version": "3.8.6"
  }
 },
 "nbformat": 4,
 "nbformat_minor": 5
}
