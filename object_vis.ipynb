{
 "cells": [
  {
   "cell_type": "markdown",
   "id": "8c88ae33",
   "metadata": {},
   "source": [
    "# Object Visualizations\n",
    "Imports and data loading"
   ]
  },
  {
   "cell_type": "code",
   "execution_count": 1,
   "id": "00bc6902",
   "metadata": {},
   "outputs": [],
   "source": [
    "import pandas as pd\n",
    "import numpy as np\n",
    "import plotly.express as px"
   ]
  },
  {
   "cell_type": "code",
   "execution_count": 7,
   "id": "8fed030e",
   "metadata": {},
   "outputs": [],
   "source": [
    "data = pd.read_json(\"data/data_with_features.json\")\n",
    "count_data = pd.read_json(\"data/augmented/count_data.json\")\n",
    "bool_data = pd.read_json(\"data/augmented/bool_data.json\")"
   ]
  },
  {
   "cell_type": "code",
   "execution_count": 3,
   "id": "79c6feb8",
   "metadata": {},
   "outputs": [],
   "source": [
    "with open(\"class_files/coco_classes.txt\", \"r\") as f:\n",
    "    coco_objects = [i.strip() for i in f.readlines()]\n",
    "coco_objects = [i for i in coco_objects if i not in [\"__background__\", \"N/A\"]]\n",
    "coco_objects = [f\"object_{i}\" for i in coco_objects]"
   ]
  },
  {
   "cell_type": "code",
   "execution_count": 5,
   "id": "0f7406d5",
   "metadata": {},
   "outputs": [],
   "source": [
    "coco_data = pd.read_csv(\"data/summary/object.csv\")"
   ]
  }
 ],
 "metadata": {
  "kernelspec": {
   "display_name": "Python 3",
   "language": "python",
   "name": "python3"
  },
  "language_info": {
   "codemirror_mode": {
    "name": "ipython",
    "version": 3
   },
   "file_extension": ".py",
   "mimetype": "text/x-python",
   "name": "python",
   "nbconvert_exporter": "python",
   "pygments_lexer": "ipython3",
   "version": "3.9.5"
  }
 },
 "nbformat": 4,
 "nbformat_minor": 5
}
