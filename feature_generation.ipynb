{
 "cells": [
  {
   "cell_type": "code",
   "execution_count": 1,
   "id": "limited-overhead",
   "metadata": {},
   "outputs": [],
   "source": [
    "import os \n",
    "import torch\n",
    "from torch import nn\n",
    "from torchvision import models, transforms\n",
    "import torch.nn.functional as F\n",
    "from torch.utils.data import DataLoader\n",
    "from PIL import Image"
   ]
  },
  {
   "cell_type": "code",
   "execution_count": 2,
   "id": "civic-distribution",
   "metadata": {},
   "outputs": [],
   "source": [
    "from data_loader import DatasetLoader\n",
    "from custom_data import PrivacyDataset\n",
    "from feature_generation import FeatureGeneration"
   ]
  },
  {
   "cell_type": "code",
   "execution_count": 3,
   "id": "gothic-wiring",
   "metadata": {},
   "outputs": [],
   "source": [
    "annotation_path='data/val/val_annotations'\n",
    "img_path='data/val/val_images'"
   ]
  },
  {
   "cell_type": "code",
   "execution_count": 4,
   "id": "anonymous-florence",
   "metadata": {},
   "outputs": [],
   "source": [
    "# Loading data with labels\n",
    "loader = DatasetLoader()\n",
    "loaded_data = loader.load_data(annotation_path)[:100]"
   ]
  },
  {
   "cell_type": "code",
   "execution_count": 5,
   "id": "organized-option",
   "metadata": {},
   "outputs": [],
   "source": [
    "# Define relevant transformations inc. converting images to tensors\n",
    "transform = transforms.Compose([transforms.ToPILImage(),\n",
    "                                transforms.Resize(255),\n",
    "                                transforms.CenterCrop(224),\n",
    "                                transforms.ToTensor(),\n",
    "                                #transforms.Normalize((0.5,), (0.5,))\n",
    "                                transforms.Normalize(mean=[0.485, 0.456, 0.406], std=[0.229, 0.224, 0.225])\n",
    "                                ])"
   ]
  },
  {
   "cell_type": "code",
   "execution_count": 6,
   "id": "sealed-aside",
   "metadata": {},
   "outputs": [],
   "source": [
    "dataset=PrivacyDataset(path=img_path,loaded_data=loaded_data,transform=transform)"
   ]
  },
  {
   "cell_type": "code",
   "execution_count": 7,
   "id": "loose-morning",
   "metadata": {},
   "outputs": [],
   "source": [
    "loader=DataLoader(dataset=dataset,batch_size=len(dataset),shuffle=False)"
   ]
  },
  {
   "cell_type": "markdown",
   "id": "bound-productivity",
   "metadata": {},
   "source": [
    "#### **Testing output of custom dataset**"
   ]
  },
  {
   "cell_type": "code",
   "execution_count": 8,
   "id": "continued-carol",
   "metadata": {},
   "outputs": [],
   "source": [
    "imgs, labels, img_ids = next(iter(loader))"
   ]
  },
  {
   "cell_type": "markdown",
   "id": "brutal-parks",
   "metadata": {},
   "source": [
    "#### **Apply DenseNet121 pretrained on ImageNet1000**"
   ]
  },
  {
   "cell_type": "code",
   "execution_count": 9,
   "id": "designed-deployment",
   "metadata": {},
   "outputs": [],
   "source": [
    "# Get model\n",
    "imagenet_model = models.densenet121(pretrained=True)"
   ]
  },
  {
   "cell_type": "code",
   "execution_count": 10,
   "id": "turned-coffee",
   "metadata": {},
   "outputs": [],
   "source": [
    "# Get classes\n",
    "with open(\"imagenet_classes.txt\", \"r\") as f:\n",
    "    imagenet_classes = [s.strip() for s in f.readlines()]"
   ]
  },
  {
   "cell_type": "code",
   "execution_count": 11,
   "id": "civic-break",
   "metadata": {},
   "outputs": [],
   "source": [
    "fg = FeatureGeneration(model=imagenet_model,classes=imagenet_classes,img_ids=img_ids)\n",
    "fg.run_model(imgs)\n",
    "fg.evaluate(num_results=5)\n",
    "results = fg.get_results()"
   ]
  },
  {
   "cell_type": "code",
   "execution_count": 12,
   "id": "portable-motion",
   "metadata": {},
   "outputs": [],
   "source": [
    "# assert(len(results)==40)\n",
    "assert(loaded_data['id'].iloc[0]==results[0]['id'])"
   ]
  },
  {
   "cell_type": "code",
   "execution_count": 13,
   "id": "dominican-blues",
   "metadata": {},
   "outputs": [],
   "source": [
    "# filter_array = results[0]['probabilities'] > 0.5"
   ]
  },
  {
   "cell_type": "code",
   "execution_count": 14,
   "id": "thousand-tower",
   "metadata": {},
   "outputs": [],
   "source": [
    "# indexes=[filter_array.tolist().index(x) for x in filter_array if x == True]\n",
    "# classes = list(map(results[0]['class'].__getitem__,indexes))"
   ]
  },
  {
   "cell_type": "code",
   "execution_count": 15,
   "id": "foster-narrative",
   "metadata": {},
   "outputs": [],
   "source": [
    "# indexes, classes"
   ]
  },
  {
   "cell_type": "markdown",
   "id": "removed-humor",
   "metadata": {},
   "source": [
    "#### **Apply ResNet121 pretrained on Places365**"
   ]
  },
  {
   "cell_type": "code",
   "execution_count": 16,
   "id": "published-expense",
   "metadata": {},
   "outputs": [],
   "source": [
    "arch = 'resnet18'                                                                                        \n",
    "                                                                                                         \n",
    "model_file = '%s_places365.pth.tar' % arch                                                               \n",
    "if not os.access(model_file, os.W_OK):                                                                   \n",
    "    weight_url = 'http://places2.csail.mit.edu/models_places365/' + model_file                           \n",
    "    os.system('wget ' + weight_url)                                                                      \n",
    "                                                                                                         \n",
    "places_model = models.__dict__[arch](num_classes=365)                                                           \n",
    "checkpoint = torch.load(model_file, map_location=lambda storage, loc: storage)                           \n",
    "state_dict = {str.replace(k,'module.',''): v for k,v in checkpoint['state_dict'].items()}                \n",
    "places_model.load_state_dict(state_dict)\n",
    "places_model.eval();"
   ]
  },
  {
   "cell_type": "code",
   "execution_count": 17,
   "id": "special-aside",
   "metadata": {},
   "outputs": [],
   "source": [
    "file_name = 'categories_places365.txt'                                                                   \n",
    "if not os.access(file_name, os.W_OK):                                                                    \n",
    "    synset_url = 'https://raw.githubusercontent.com/csailvision/places365/master/categories_places365.txt'                                                                                                        \n",
    "    os.system('wget ' + synset_url)                                                                      \n",
    "places365_classes = list()                                                                                         \n",
    "with open(file_name) as class_file:                                                                      \n",
    "    for line in class_file:                                                                              \n",
    "        places365_classes.append(line.strip().split(' ')[0][3:])   "
   ]
  },
  {
   "cell_type": "code",
   "execution_count": 18,
   "id": "sunrise-confidence",
   "metadata": {},
   "outputs": [],
   "source": [
    "fg = FeatureGeneration(model=places_model,classes=places365_classes,img_ids=img_ids)\n",
    "fg.run_model(imgs)\n",
    "fg.evaluate(num_results=5)\n",
    "places_results = fg.get_results()"
   ]
  },
  {
   "cell_type": "code",
   "execution_count": 19,
   "id": "through-confusion",
   "metadata": {},
   "outputs": [
    {
     "data": {
      "text/plain": [
       "[{'id': '2017_10735550',\n",
       "  'prob': array([0.5703849 , 0.12074305, 0.03949236, 0.03259051, 0.02637666],\n",
       "        dtype=float32),\n",
       "  'class': ['museum/indoor',\n",
       "   'kindergarden_classroom',\n",
       "   'kasbah',\n",
       "   'burial_chamber',\n",
       "   'archive']},\n",
       " {'id': '2017_48376799',\n",
       "  'prob': array([0.13845207, 0.10528719, 0.06888503, 0.06818575, 0.05153232],\n",
       "        dtype=float32),\n",
       "  'class': ['repair_shop',\n",
       "   'archive',\n",
       "   'office_cubicles',\n",
       "   'hardware_store',\n",
       "   'boat_deck']},\n",
       " {'id': '2017_56926780',\n",
       "  'prob': array([0.2197578 , 0.10150417, 0.08859576, 0.08365171, 0.06590996],\n",
       "        dtype=float32),\n",
       "  'class': ['playroom',\n",
       "   'discotheque',\n",
       "   'amusement_arcade',\n",
       "   'recreation_room',\n",
       "   'stage/indoor']},\n",
       " {'id': '2017_67658695',\n",
       "  'prob': array([0.29997098, 0.29271132, 0.08450764, 0.07293603, 0.05214753],\n",
       "        dtype=float32),\n",
       "  'class': ['bedroom',\n",
       "   'desert/vegetation',\n",
       "   'rock_arch',\n",
       "   'hotel_room',\n",
       "   'bedchamber']},\n",
       " {'id': '2017_77918314',\n",
       "  'prob': array([0.21105438, 0.20612699, 0.08797128, 0.07006065, 0.06816051],\n",
       "        dtype=float32),\n",
       "  'class': ['booth/indoor',\n",
       "   'kindergarden_classroom',\n",
       "   'archive',\n",
       "   'ice_cream_parlor',\n",
       "   'hospital']}]"
      ]
     },
     "execution_count": 19,
     "metadata": {},
     "output_type": "execute_result"
    }
   ],
   "source": [
    "places_results[:5]"
   ]
  }
 ],
 "metadata": {
  "kernelspec": {
   "display_name": "Python 3",
   "language": "python",
   "name": "python3"
  },
  "language_info": {
   "codemirror_mode": {
    "name": "ipython",
    "version": 3
   },
   "file_extension": ".py",
   "mimetype": "text/x-python",
   "name": "python",
   "nbconvert_exporter": "python",
   "pygments_lexer": "ipython3",
   "version": "3.8.5"
  }
 },
 "nbformat": 4,
 "nbformat_minor": 5
}
