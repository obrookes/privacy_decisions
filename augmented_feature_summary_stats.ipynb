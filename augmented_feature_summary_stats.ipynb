{
 "cells": [
  {
   "cell_type": "markdown",
   "id": "f18ea9d9",
   "metadata": {},
   "source": [
    "# Augmented Feature Summary Statistics"
   ]
  },
  {
   "cell_type": "code",
   "execution_count": 1,
   "id": "00f0d756",
   "metadata": {},
   "outputs": [],
   "source": [
    "import pandas as pd"
   ]
  },
  {
   "cell_type": "code",
   "execution_count": 2,
   "id": "5aadbb17",
   "metadata": {},
   "outputs": [],
   "source": [
    "data = pd.read_json(\"data/data_with_features.json\")"
   ]
  },
  {
   "cell_type": "markdown",
   "id": "2060c93b",
   "metadata": {},
   "source": [
    "Sort class lists"
   ]
  },
  {
   "cell_type": "code",
   "execution_count": 3,
   "id": "dfecd812",
   "metadata": {},
   "outputs": [],
   "source": [
    "with open(\"class_files/coco_classes.txt\", \"r\") as f:\n",
    "    coco_objects = [i.strip() for i in f.readlines()]\n",
    "coco_objects = [i for i in coco_objects if i not in [\"__background__\", \"N/A\"]]\n",
    "coco_objects = [f\"object_{i}\" for i in coco_objects]"
   ]
  },
  {
   "cell_type": "code",
   "execution_count": 4,
   "id": "9faa39cc",
   "metadata": {},
   "outputs": [],
   "source": [
    "with open(\"class_files/expression_classes.txt\", \"r\") as f:\n",
    "    expressions = [i.strip() for i in f.readlines()]\n",
    "expressions = [f\"expression_{i}\" for i in expressions]"
   ]
  },
  {
   "cell_type": "code",
   "execution_count": 5,
   "id": "70ea5bd0",
   "metadata": {},
   "outputs": [],
   "source": [
    "with open(\"class_files/places365_classes.txt\", \"r\") as f:\n",
    "    places = [i.strip() for i in f.readlines()]\n",
    "places = [i.split(\" \")[0][3:] for i in places]\n",
    "places = [f\"place_{i}\" for i in places]"
   ]
  },
  {
   "cell_type": "code",
   "execution_count": 6,
   "id": "e409a539",
   "metadata": {},
   "outputs": [],
   "source": [
    "attributes = list(pd.read_csv(\"external/vpa-master/attributes.tsv\", sep=\"\\t\")[\"attribute_id\"])\n",
    "unsafe_attributes = [i for i in attributes if i != \"a0_safe\"]"
   ]
  },
  {
   "cell_type": "code",
   "execution_count": 7,
   "id": "84df8132",
   "metadata": {},
   "outputs": [],
   "source": [
    "other_columns = [\n",
    "    i\n",
    "    for i in data.columns\n",
    "    if i\n",
    "    not in [\n",
    "        j\n",
    "        for inner_list in [coco_objects, expressions, places, attributes]\n",
    "        for j in inner_list\n",
    "    ]\n",
    "]"
   ]
  }
 ],
 "metadata": {
  "kernelspec": {
   "display_name": "Python 3",
   "language": "python",
   "name": "python3"
  },
  "language_info": {
   "codemirror_mode": {
    "name": "ipython",
    "version": 3
   },
   "file_extension": ".py",
   "mimetype": "text/x-python",
   "name": "python",
   "nbconvert_exporter": "python",
   "pygments_lexer": "ipython3",
   "version": "3.9.5"
  }
 },
 "nbformat": 4,
 "nbformat_minor": 5
}
