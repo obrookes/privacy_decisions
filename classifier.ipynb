{
 "cells": [
  {
   "cell_type": "code",
   "execution_count": 9,
   "id": "1ecbf1b3-70b0-47e4-a029-49eaf198514a",
   "metadata": {},
   "outputs": [],
   "source": [
    "import pandas as pd\n",
    "import scipy as sp\n",
    "\n",
    "from sklearn.metrics import classification_report\n"
   ]
  },
  {
   "cell_type": "code",
   "execution_count": 2,
   "id": "964d44a1-1166-46b5-aeef-6f9a2f2ef004",
   "metadata": {},
   "outputs": [],
   "source": [
    "data = pd.read_json(\"data/augmented/merged_data.json\")"
   ]
  },
  {
   "cell_type": "code",
   "execution_count": 3,
   "id": "69cca6fa",
   "metadata": {},
   "outputs": [],
   "source": [
    "cols=data.columns\n",
    "labels = [x for x in cols if x.startswith('a')][5:]\n",
    "features = [x for x in cols if not x.startswith('a') and x != \"expression_likely\"][5:] # indexing beginning of features"
   ]
  },
  {
   "cell_type": "code",
   "execution_count": 4,
   "id": "f3ae1cc0-41b0-44a9-8538-16fd258813e9",
   "metadata": {},
   "outputs": [],
   "source": [
    "train = data[data.dataset.isin([\"train\", \"validation\"])]\n",
    "test = data[data.dataset == \"test\"]\n",
    "\n",
    "X_train, y_train = train[features].astype(int), train[labels].astype(int)\n",
    "X_test, y_test = test[features].astype(int), test[labels].astype(int)"
   ]
  },
  {
   "cell_type": "markdown",
   "id": "42a546ea-cdf2-41f8-a49c-b3ed470ef331",
   "metadata": {},
   "source": [
    "## Binary Relevance"
   ]
  },
  {
   "cell_type": "code",
   "execution_count": 5,
   "id": "4853630d-eced-4ff9-a7f4-5614781ca60f",
   "metadata": {},
   "outputs": [
    {
     "data": {
      "text/plain": [
       "0.012375"
      ]
     },
     "execution_count": 5,
     "metadata": {},
     "output_type": "execute_result"
    }
   ],
   "source": [
    "# using binary relevance\n",
    "from skmultilearn.problem_transform import BinaryRelevance\n",
    "from sklearn.naive_bayes import GaussianNB\n",
    "\n",
    "# initialize binary relevance multi-label classifier\n",
    "# with a gaussian naive bayes base classifier\n",
    "classifier = BinaryRelevance(GaussianNB())\n",
    "\n",
    "# train\n",
    "classifier.fit(X_train, y_train)\n",
    "\n",
    "# predict\n",
    "predictions = classifier.predict(X_test)\n",
    "\n",
    "from sklearn.metrics import accuracy_score\n",
    "accuracy_score(y_test,predictions)"
   ]
  },
  {
   "cell_type": "markdown",
   "id": "08e39300-f277-4523-871e-94f7456d01d3",
   "metadata": {},
   "source": [
    "## Classifier chains"
   ]
  },
  {
   "cell_type": "code",
   "execution_count": 6,
   "id": "b8b661a2",
   "metadata": {},
   "outputs": [
    {
     "data": {
      "text/plain": [
       "0.041125"
      ]
     },
     "execution_count": 6,
     "metadata": {},
     "output_type": "execute_result"
    }
   ],
   "source": [
    "# using classifier chains\n",
    "from skmultilearn.problem_transform import ClassifierChain\n",
    "from sklearn.naive_bayes import GaussianNB\n",
    "\n",
    "# initialize classifier chains multi-label classifier\n",
    "# with a gaussian naive bayes base classifier\n",
    "classifier = ClassifierChain(GaussianNB())\n",
    "\n",
    "# train\n",
    "classifier.fit(X_train, y_train)\n",
    "\n",
    "# predict\n",
    "predictions = classifier.predict(X_test)\n",
    "\n",
    "accuracy_score(y_test,predictions)\n",
    "# absence of label correlation"
   ]
  },
  {
   "cell_type": "markdown",
   "id": "e3f6fdeb-7677-43e7-b04a-b4f690c4c760",
   "metadata": {},
   "source": [
    "## Label powerset"
   ]
  },
  {
   "cell_type": "code",
   "execution_count": 7,
   "id": "b9b394b3",
   "metadata": {},
   "outputs": [
    {
     "data": {
      "text/plain": [
       "0.046"
      ]
     },
     "execution_count": 7,
     "metadata": {},
     "output_type": "execute_result"
    }
   ],
   "source": [
    "# using Label Powerset\n",
    "from skmultilearn.problem_transform import LabelPowerset\n",
    "from sklearn.naive_bayes import GaussianNB\n",
    "\n",
    "# initialize Label Powerset multi-label classifier\n",
    "# with a gaussian naive bayes base classifier\n",
    "classifier = LabelPowerset(GaussianNB())\n",
    "\n",
    "# train\n",
    "classifier.fit(X_train, y_train)\n",
    "\n",
    "# predict\n",
    "predictions = classifier.predict(X_test)\n",
    "\n",
    "accuracy_score(y_test,predictions)"
   ]
  },
  {
   "cell_type": "markdown",
   "id": "8a29e348-869e-4852-a154-1d1edddf8a43",
   "metadata": {},
   "source": [
    "## Adapted algorithm"
   ]
  },
  {
   "cell_type": "code",
   "execution_count": 10,
   "id": "6378acb8-4822-4757-86e2-82a396c05497",
   "metadata": {},
   "outputs": [
    {
     "name": "stderr",
     "output_type": "stream",
     "text": [
      "/home/jack/docos/uni/tb2/applied-data-science/coursework/privacy_decisions/.venv/lib/python3.9/site-packages/sklearn/utils/validation.py:70: FutureWarning: Pass n_neighbors=20 as keyword args. From version 1.0 (renaming of 0.25) passing these as positional arguments will result in an error\n",
      "  warnings.warn(f\"Pass {args_msg} as keyword args. From version \"\n"
     ]
    },
    {
     "data": {
      "text/plain": [
       "0.28075"
      ]
     },
     "execution_count": 10,
     "metadata": {},
     "output_type": "execute_result"
    }
   ],
   "source": [
    "from skmultilearn.adapt import MLkNN\n",
    "from sklearn.metrics import classification_report\n",
    "\n",
    "classifier = MLkNN(k=20)\n",
    "\n",
    "# train\n",
    "classifier.fit(sp.sparse.csr_matrix(X_train.values), sp.sparse.csr_matrix(y_train))\n",
    "\n",
    "# predict\n",
    "predictions = classifier.predict(sp.sparse.csr_matrix(X_test))\n",
    "\n",
    "accuracy_score(sp.sparse.csr_matrix(y_test),predictions)"
   ]
  },
  {
   "cell_type": "markdown",
   "id": "4c481044",
   "metadata": {},
   "source": [
    "## Binary Relevance kNN"
   ]
  },
  {
   "cell_type": "code",
   "execution_count": 11,
   "id": "dac94593",
   "metadata": {},
   "outputs": [
    {
     "name": "stderr",
     "output_type": "stream",
     "text": [
      "/home/jack/docos/uni/tb2/applied-data-science/coursework/privacy_decisions/.venv/lib/python3.9/site-packages/sklearn/utils/validation.py:70: FutureWarning: Pass n_neighbors=7500 as keyword args. From version 1.0 (renaming of 0.25) passing these as positional arguments will result in an error\n",
      "  warnings.warn(f\"Pass {args_msg} as keyword args. From version \"\n"
     ]
    },
    {
     "name": "stdout",
     "output_type": "stream",
     "text": [
      "0.343125\n"
     ]
    }
   ],
   "source": [
    "from skmultilearn.adapt import BRkNNaClassifier\n",
    "\n",
    "classifier = BRkNNaClassifier(k=7500)\n",
    "\n",
    "# train\n",
    "classifier.fit(sp.sparse.csr_matrix(X_train.values), sp.sparse.csr_matrix(y_train))\n",
    "\n",
    "# predict\n",
    "predictions = classifier.predict(sp.sparse.csr_matrix(X_test))\n",
    "\n",
    "print(accuracy_score(sp.sparse.csr_matrix(y_test), predictions))"
   ]
  }
 ],
 "metadata": {
  "kernelspec": {
   "display_name": "Python 3",
   "language": "python",
   "name": "python3"
  },
  "language_info": {
   "codemirror_mode": {
    "name": "ipython",
    "version": 3
   },
   "file_extension": ".py",
   "mimetype": "text/x-python",
   "name": "python",
   "nbconvert_exporter": "python",
   "pygments_lexer": "ipython3",
   "version": "3.9.5"
  }
 },
 "nbformat": 4,
 "nbformat_minor": 5
}
