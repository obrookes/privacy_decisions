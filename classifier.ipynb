{
 "cells": [
  {
   "cell_type": "code",
   "execution_count": 1,
   "id": "1ecbf1b3-70b0-47e4-a029-49eaf198514a",
   "metadata": {},
   "outputs": [],
   "source": [
    "import pandas as pd"
   ]
  },
  {
   "cell_type": "code",
   "execution_count": 27,
   "id": "964d44a1-1166-46b5-aeef-6f9a2f2ef004",
   "metadata": {},
   "outputs": [],
   "source": [
    "train_df = pd.read_csv('data/data_with_features.csv')\n",
    "label_df = pd.read_csv('data/data.csv')"
   ]
  },
  {
   "cell_type": "code",
   "execution_count": 28,
   "id": "796c1b91-9a7f-4179-845a-3e181cc4d585",
   "metadata": {},
   "outputs": [
    {
     "data": {
      "text/plain": [
       "((4167, 526), (22167, 73))"
      ]
     },
     "execution_count": 28,
     "metadata": {},
     "output_type": "execute_result"
    }
   ],
   "source": [
    "train_df.shape, label_df.shape"
   ]
  },
  {
   "cell_type": "code",
   "execution_count": 34,
   "id": "139109df-cfea-4a31-931c-42b3c1869ca6",
   "metadata": {},
   "outputs": [],
   "source": [
    "train_ids = train_df['id']\n",
    "label_df = label_df.loc[label_df['id'].isin(train_ids)]"
   ]
  },
  {
   "cell_type": "code",
   "execution_count": 58,
   "id": "f3ae1cc0-41b0-44a9-8538-16fd258813e9",
   "metadata": {},
   "outputs": [],
   "source": [
    "X_df = train_df.iloc[:, 5:-1]\n",
    "Y_df = label_df.iloc[:, 4:-1]"
   ]
  },
  {
   "cell_type": "code",
   "execution_count": 60,
   "id": "c7c811f2-3f55-4367-8aae-851185f7c311",
   "metadata": {},
   "outputs": [
    {
     "data": {
      "text/plain": [
       "((4167, 520), (4167, 68))"
      ]
     },
     "execution_count": 60,
     "metadata": {},
     "output_type": "execute_result"
    }
   ],
   "source": [
    "X_df.shape, Y_df.shape"
   ]
  },
  {
   "cell_type": "code",
   "execution_count": 62,
   "id": "2097f304-e140-4f74-8a6b-714d1c0f6347",
   "metadata": {},
   "outputs": [],
   "source": [
    "from sklearn.datasets import make_multilabel_classification\n",
    "\n",
    "# this will generate a random multi-label dataset\n",
    "X, y = make_multilabel_classification(sparse = True, n_labels = 20,\n",
    "return_indicator = 'sparse', allow_unlabeled = False)"
   ]
  },
  {
   "cell_type": "code",
   "execution_count": 69,
   "id": "1f8eb15b-9a48-4357-ab57-c5732cb0eeb8",
   "metadata": {},
   "outputs": [],
   "source": [
    "X.shape, y.shape\n",
    "X_train, y_train = X, y"
   ]
  },
  {
   "cell_type": "markdown",
   "id": "42a546ea-cdf2-41f8-a49c-b3ed470ef331",
   "metadata": {},
   "source": [
    "## Binary Relevance"
   ]
  },
  {
   "cell_type": "code",
   "execution_count": 72,
   "id": "4853630d-eced-4ff9-a7f4-5614781ca60f",
   "metadata": {},
   "outputs": [
    {
     "data": {
      "text/plain": [
       "0.86"
      ]
     },
     "execution_count": 72,
     "metadata": {},
     "output_type": "execute_result"
    }
   ],
   "source": [
    "# using binary relevance\n",
    "from skmultilearn.problem_transform import BinaryRelevance\n",
    "from sklearn.naive_bayes import GaussianNB\n",
    "\n",
    "# initialize binary relevance multi-label classifier\n",
    "# with a gaussian naive bayes base classifier\n",
    "classifier = BinaryRelevance(GaussianNB())\n",
    "\n",
    "# train\n",
    "classifier.fit(X_train, y_train)\n",
    "\n",
    "# predict\n",
    "predictions = classifier.predict(X_train)\n",
    "\n",
    "from sklearn.metrics import accuracy_score\n",
    "accuracy_score(y_train,predictions)"
   ]
  },
  {
   "cell_type": "markdown",
   "id": "08e39300-f277-4523-871e-94f7456d01d3",
   "metadata": {},
   "source": [
    "## Classifier chains"
   ]
  },
  {
   "cell_type": "code",
   "execution_count": 74,
   "id": "2f995ace-3706-4369-af15-2830daa109cb",
   "metadata": {},
   "outputs": [
    {
     "data": {
      "text/plain": [
       "0.17"
      ]
     },
     "execution_count": 74,
     "metadata": {},
     "output_type": "execute_result"
    }
   ],
   "source": [
    "# using classifier chains\n",
    "from skmultilearn.problem_transform import ClassifierChain\n",
    "from sklearn.naive_bayes import GaussianNB\n",
    "\n",
    "# initialize classifier chains multi-label classifier\n",
    "# with a gaussian naive bayes base classifier\n",
    "classifier = ClassifierChain(GaussianNB())\n",
    "\n",
    "# train\n",
    "classifier.fit(X_train, y_train)\n",
    "\n",
    "# predict\n",
    "predictions = classifier.predict(X_train)\n",
    "\n",
    "accuracy_score(y_train,predictions)\n",
    "# absence of label correlation"
   ]
  },
  {
   "cell_type": "markdown",
   "id": "e3f6fdeb-7677-43e7-b04a-b4f690c4c760",
   "metadata": {},
   "source": [
    "## Label powerset"
   ]
  },
  {
   "cell_type": "code",
   "execution_count": 75,
   "id": "8daa6e92-dd6d-4aa2-9248-64ee84ff2c51",
   "metadata": {},
   "outputs": [
    {
     "data": {
      "text/plain": [
       "0.9"
      ]
     },
     "execution_count": 75,
     "metadata": {},
     "output_type": "execute_result"
    }
   ],
   "source": [
    "# using Label Powerset\n",
    "from skmultilearn.problem_transform import LabelPowerset\n",
    "from sklearn.naive_bayes import GaussianNB\n",
    "\n",
    "# initialize Label Powerset multi-label classifier\n",
    "# with a gaussian naive bayes base classifier\n",
    "classifier = LabelPowerset(GaussianNB())\n",
    "\n",
    "# train\n",
    "classifier.fit(X_train, y_train)\n",
    "\n",
    "# predict\n",
    "predictions = classifier.predict(X_train)\n",
    "\n",
    "accuracy_score(y_train,predictions)"
   ]
  },
  {
   "cell_type": "markdown",
   "id": "8a29e348-869e-4852-a154-1d1edddf8a43",
   "metadata": {},
   "source": [
    "## Adapted algorithm"
   ]
  },
  {
   "cell_type": "code",
   "execution_count": 77,
   "id": "3d1e76a7-e6a7-4359-b68b-0bfab5a3992a",
   "metadata": {},
   "outputs": [
    {
     "data": {
      "text/plain": [
       "0.83"
      ]
     },
     "execution_count": 77,
     "metadata": {},
     "output_type": "execute_result"
    }
   ],
   "source": [
    "from skmultilearn.adapt import MLkNN\n",
    "\n",
    "classifier = MLkNN(k=20)\n",
    "\n",
    "# train\n",
    "classifier.fit(X_train, y_train)\n",
    "\n",
    "# predict\n",
    "predictions = classifier.predict(X_train)\n",
    "\n",
    "accuracy_score(y_train,predictions)"
   ]
  },
  {
   "cell_type": "code",
   "execution_count": null,
   "id": "6378acb8-4822-4757-86e2-82a396c05497",
   "metadata": {},
   "outputs": [],
   "source": []
  }
 ],
 "metadata": {
  "kernelspec": {
   "display_name": "Python 3",
   "language": "python",
   "name": "python3"
  },
  "language_info": {
   "codemirror_mode": {
    "name": "ipython",
    "version": 3
   },
   "file_extension": ".py",
   "mimetype": "text/x-python",
   "name": "python",
   "nbconvert_exporter": "python",
   "pygments_lexer": "ipython3",
   "version": "3.8.6"
  }
 },
 "nbformat": 4,
 "nbformat_minor": 5
}
