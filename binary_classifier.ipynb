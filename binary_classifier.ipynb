{
 "cells": [
  {
   "cell_type": "code",
   "execution_count": 83,
   "id": "0492d4d4",
   "metadata": {},
   "outputs": [],
   "source": [
    "import pandas as pd\n",
    "import matplotlib.pyplot as plt\n",
    "\n",
    "\n",
    "from sklearn.metrics import classification_report"
   ]
  },
  {
   "cell_type": "code",
   "execution_count": 11,
   "id": "9638f890",
   "metadata": {},
   "outputs": [],
   "source": [
    "data = pd.read_json(\"data/augmented/merged_data.json\")"
   ]
  },
  {
   "cell_type": "code",
   "execution_count": 9,
   "id": "fb1b139b",
   "metadata": {},
   "outputs": [],
   "source": [
    "with open(\"class_files/coco_classes.txt\", \"r\") as f:\n",
    "    coco_objects = [i.strip() for i in f.readlines()]\n",
    "coco_objects = [i for i in coco_objects if i not in [\"__background__\", \"N/A\"]]\n",
    "coco_objects = [f\"object_{i}\" for i in coco_objects]\n",
    "\n",
    "with open(\"class_files/expression_classes.txt\", \"r\") as f:\n",
    "    expressions = [i.strip() for i in f.readlines()]\n",
    "expressions = [f\"expression_{i}\" for i in expressions]\n",
    "\n",
    "with open(\"class_files/places365_classes.txt\", \"r\") as f:\n",
    "    places = [i.strip() for i in f.readlines()]\n",
    "places = [i.split(\" \")[0][3:] for i in places]\n",
    "places = [f\"place_{i}\" for i in places]"
   ]
  },
  {
   "cell_type": "code",
   "execution_count": 45,
   "id": "d1b842dc",
   "metadata": {},
   "outputs": [],
   "source": [
    "features = [i for inner in [coco_objects, expressions, places] for i in inner]\n",
    "attributes = list(pd.read_csv(\"external/vpa-master/attributes.tsv\", sep=\"\\t\")[\"attribute_id\"])"
   ]
  },
  {
   "cell_type": "code",
   "execution_count": 43,
   "id": "572f2d5d",
   "metadata": {},
   "outputs": [],
   "source": [
    "train = data[data.dataset.isin([\"train\", \"validation\"])]\n",
    "test = data[data.dataset == \"test\"]"
   ]
  },
  {
   "cell_type": "code",
   "execution_count": 47,
   "id": "1640cb24",
   "metadata": {},
   "outputs": [],
   "source": [
    "X_train, y_train = train[features], train[\"a0_safe\"]\n",
    "X_test, y_test = test[features], test[\"a0_safe\"]"
   ]
  },
  {
   "cell_type": "markdown",
   "id": "a32c17b7",
   "metadata": {},
   "source": [
    "## Log Reg"
   ]
  },
  {
   "cell_type": "code",
   "execution_count": 59,
   "id": "4464f8f1",
   "metadata": {},
   "outputs": [],
   "source": [
    "from sklearn.linear_model import LogisticRegression"
   ]
  },
  {
   "cell_type": "code",
   "execution_count": 58,
   "id": "634b2002",
   "metadata": {
    "scrolled": true
   },
   "outputs": [
    {
     "name": "stderr",
     "output_type": "stream",
     "text": [
      "/home/jack/docos/uni/tb2/applied-data-science/coursework/privacy_decisions/.venv/lib/python3.9/site-packages/sklearn/linear_model/_logistic.py:763: ConvergenceWarning: lbfgs failed to converge (status=1):\n",
      "STOP: TOTAL NO. of ITERATIONS REACHED LIMIT.\n",
      "\n",
      "Increase the number of iterations (max_iter) or scale the data as shown in:\n",
      "    https://scikit-learn.org/stable/modules/preprocessing.html\n",
      "Please also refer to the documentation for alternative solver options:\n",
      "    https://scikit-learn.org/stable/modules/linear_model.html#logistic-regression\n",
      "  n_iter_i = _check_optimize_result(\n"
     ]
    },
    {
     "data": {
      "text/plain": [
       "LogisticRegression()"
      ]
     },
     "execution_count": 58,
     "metadata": {},
     "output_type": "execute_result"
    }
   ],
   "source": [
    "clf = LogisticRegression()\n",
    "clf.fit(X_train, y_train)"
   ]
  },
  {
   "cell_type": "code",
   "execution_count": 67,
   "id": "06187892",
   "metadata": {},
   "outputs": [
    {
     "name": "stdout",
     "output_type": "stream",
     "text": [
      "              precision    recall  f1-score   support\n",
      "\n",
      "       False       0.84      0.88      0.86      4994\n",
      "        True       0.78      0.73      0.76      3006\n",
      "\n",
      "    accuracy                           0.82      8000\n",
      "   macro avg       0.81      0.80      0.81      8000\n",
      "weighted avg       0.82      0.82      0.82      8000\n",
      "\n"
     ]
    }
   ],
   "source": [
    "print(classification_report(y_test, clf.predict(X_test)))"
   ]
  },
  {
   "cell_type": "markdown",
   "id": "b2a7f8ac",
   "metadata": {},
   "source": [
    "## Tree"
   ]
  },
  {
   "cell_type": "code",
   "execution_count": 79,
   "id": "6653f366",
   "metadata": {},
   "outputs": [],
   "source": [
    "import sklearn.tree as tree\n",
    "\n",
    "from sklearn.tree import DecisionTreeClassifier"
   ]
  },
  {
   "cell_type": "code",
   "execution_count": 81,
   "id": "5777484e",
   "metadata": {},
   "outputs": [
    {
     "data": {
      "text/plain": [
       "DecisionTreeClassifier()"
      ]
     },
     "execution_count": 81,
     "metadata": {},
     "output_type": "execute_result"
    }
   ],
   "source": [
    "clf = DecisionTreeClassifier()\n",
    "clf.fit(X_train, y_train)"
   ]
  },
  {
   "cell_type": "code",
   "execution_count": 70,
   "id": "f3544334",
   "metadata": {},
   "outputs": [
    {
     "name": "stdout",
     "output_type": "stream",
     "text": [
      "              precision    recall  f1-score   support\n",
      "\n",
      "       False       0.83      0.88      0.86      4994\n",
      "        True       0.78      0.71      0.74      3006\n",
      "\n",
      "    accuracy                           0.82      8000\n",
      "   macro avg       0.81      0.79      0.80      8000\n",
      "weighted avg       0.81      0.82      0.81      8000\n",
      "\n"
     ]
    }
   ],
   "source": [
    "print(classification_report(y_test, clf.predict(X_test)))"
   ]
  },
  {
   "cell_type": "code",
   "execution_count": 85,
   "id": "a1adc7b6",
   "metadata": {},
   "outputs": [
    {
     "ename": "KeyboardInterrupt",
     "evalue": "",
     "output_type": "error",
     "traceback": [
      "\u001b[0;31m---------------------------------------------------------------------------\u001b[0m",
      "\u001b[0;31mKeyboardInterrupt\u001b[0m                         Traceback (most recent call last)",
      "\u001b[0;32m<ipython-input-85-b73a8e9cc4e8>\u001b[0m in \u001b[0;36m<module>\u001b[0;34m\u001b[0m\n\u001b[1;32m      1\u001b[0m \u001b[0mfig\u001b[0m \u001b[0;34m=\u001b[0m \u001b[0mplt\u001b[0m\u001b[0;34m.\u001b[0m\u001b[0mfigure\u001b[0m\u001b[0;34m(\u001b[0m\u001b[0mfigsize\u001b[0m\u001b[0;34m=\u001b[0m\u001b[0;34m(\u001b[0m\u001b[0;36m30\u001b[0m\u001b[0;34m,\u001b[0m \u001b[0;36m30\u001b[0m\u001b[0;34m)\u001b[0m\u001b[0;34m)\u001b[0m\u001b[0;34m\u001b[0m\u001b[0;34m\u001b[0m\u001b[0m\n\u001b[0;32m----> 2\u001b[0;31m _ = tree.plot_tree(\n\u001b[0m\u001b[1;32m      3\u001b[0m     \u001b[0mclf\u001b[0m\u001b[0;34m,\u001b[0m\u001b[0;34m\u001b[0m\u001b[0;34m\u001b[0m\u001b[0m\n\u001b[1;32m      4\u001b[0m \u001b[0;31m#     feature_names=X.columns,\u001b[0m\u001b[0;34m\u001b[0m\u001b[0;34m\u001b[0m\u001b[0;34m\u001b[0m\u001b[0m\n\u001b[1;32m      5\u001b[0m \u001b[0;31m#     class_names=[\"don't flag\", \"flag\"],\u001b[0m\u001b[0;34m\u001b[0m\u001b[0;34m\u001b[0m\u001b[0;34m\u001b[0m\u001b[0m\n",
      "\u001b[0;32m~/docos/uni/tb2/applied-data-science/coursework/privacy_decisions/.venv/lib/python3.9/site-packages/sklearn/utils/validation.py\u001b[0m in \u001b[0;36minner_f\u001b[0;34m(*args, **kwargs)\u001b[0m\n\u001b[1;32m     61\u001b[0m             \u001b[0mextra_args\u001b[0m \u001b[0;34m=\u001b[0m \u001b[0mlen\u001b[0m\u001b[0;34m(\u001b[0m\u001b[0margs\u001b[0m\u001b[0;34m)\u001b[0m \u001b[0;34m-\u001b[0m \u001b[0mlen\u001b[0m\u001b[0;34m(\u001b[0m\u001b[0mall_args\u001b[0m\u001b[0;34m)\u001b[0m\u001b[0;34m\u001b[0m\u001b[0;34m\u001b[0m\u001b[0m\n\u001b[1;32m     62\u001b[0m             \u001b[0;32mif\u001b[0m \u001b[0mextra_args\u001b[0m \u001b[0;34m<=\u001b[0m \u001b[0;36m0\u001b[0m\u001b[0;34m:\u001b[0m\u001b[0;34m\u001b[0m\u001b[0;34m\u001b[0m\u001b[0m\n\u001b[0;32m---> 63\u001b[0;31m                 \u001b[0;32mreturn\u001b[0m \u001b[0mf\u001b[0m\u001b[0;34m(\u001b[0m\u001b[0;34m*\u001b[0m\u001b[0margs\u001b[0m\u001b[0;34m,\u001b[0m \u001b[0;34m**\u001b[0m\u001b[0mkwargs\u001b[0m\u001b[0;34m)\u001b[0m\u001b[0;34m\u001b[0m\u001b[0;34m\u001b[0m\u001b[0m\n\u001b[0m\u001b[1;32m     64\u001b[0m \u001b[0;34m\u001b[0m\u001b[0m\n\u001b[1;32m     65\u001b[0m             \u001b[0;31m# extra_args > 0\u001b[0m\u001b[0;34m\u001b[0m\u001b[0;34m\u001b[0m\u001b[0;34m\u001b[0m\u001b[0m\n",
      "\u001b[0;32m~/docos/uni/tb2/applied-data-science/coursework/privacy_decisions/.venv/lib/python3.9/site-packages/sklearn/tree/_export.py\u001b[0m in \u001b[0;36mplot_tree\u001b[0;34m(decision_tree, max_depth, feature_names, class_names, label, filled, impurity, node_ids, proportion, rotate, rounded, precision, ax, fontsize)\u001b[0m\n\u001b[1;32m    192\u001b[0m         \u001b[0mproportion\u001b[0m\u001b[0;34m=\u001b[0m\u001b[0mproportion\u001b[0m\u001b[0;34m,\u001b[0m \u001b[0mrotate\u001b[0m\u001b[0;34m=\u001b[0m\u001b[0mrotate\u001b[0m\u001b[0;34m,\u001b[0m \u001b[0mrounded\u001b[0m\u001b[0;34m=\u001b[0m\u001b[0mrounded\u001b[0m\u001b[0;34m,\u001b[0m\u001b[0;34m\u001b[0m\u001b[0;34m\u001b[0m\u001b[0m\n\u001b[1;32m    193\u001b[0m         precision=precision, fontsize=fontsize)\n\u001b[0;32m--> 194\u001b[0;31m     \u001b[0;32mreturn\u001b[0m \u001b[0mexporter\u001b[0m\u001b[0;34m.\u001b[0m\u001b[0mexport\u001b[0m\u001b[0;34m(\u001b[0m\u001b[0mdecision_tree\u001b[0m\u001b[0;34m,\u001b[0m \u001b[0max\u001b[0m\u001b[0;34m=\u001b[0m\u001b[0max\u001b[0m\u001b[0;34m)\u001b[0m\u001b[0;34m\u001b[0m\u001b[0;34m\u001b[0m\u001b[0m\n\u001b[0m\u001b[1;32m    195\u001b[0m \u001b[0;34m\u001b[0m\u001b[0m\n\u001b[1;32m    196\u001b[0m \u001b[0;34m\u001b[0m\u001b[0m\n",
      "\u001b[0;32m~/docos/uni/tb2/applied-data-science/coursework/privacy_decisions/.venv/lib/python3.9/site-packages/sklearn/tree/_export.py\u001b[0m in \u001b[0;36mexport\u001b[0;34m(self, decision_tree, ax)\u001b[0m\n\u001b[1;32m    582\u001b[0m         \u001b[0max\u001b[0m\u001b[0;34m.\u001b[0m\u001b[0mclear\u001b[0m\u001b[0;34m(\u001b[0m\u001b[0;34m)\u001b[0m\u001b[0;34m\u001b[0m\u001b[0;34m\u001b[0m\u001b[0m\n\u001b[1;32m    583\u001b[0m         \u001b[0max\u001b[0m\u001b[0;34m.\u001b[0m\u001b[0mset_axis_off\u001b[0m\u001b[0;34m(\u001b[0m\u001b[0;34m)\u001b[0m\u001b[0;34m\u001b[0m\u001b[0;34m\u001b[0m\u001b[0m\n\u001b[0;32m--> 584\u001b[0;31m         my_tree = self._make_tree(0, decision_tree.tree_,\n\u001b[0m\u001b[1;32m    585\u001b[0m                                   decision_tree.criterion)\n\u001b[1;32m    586\u001b[0m         \u001b[0mdraw_tree\u001b[0m \u001b[0;34m=\u001b[0m \u001b[0mbuchheim\u001b[0m\u001b[0;34m(\u001b[0m\u001b[0mmy_tree\u001b[0m\u001b[0;34m)\u001b[0m\u001b[0;34m\u001b[0m\u001b[0;34m\u001b[0m\u001b[0m\n",
      "\u001b[0;32m~/docos/uni/tb2/applied-data-science/coursework/privacy_decisions/.venv/lib/python3.9/site-packages/sklearn/tree/_export.py\u001b[0m in \u001b[0;36m_make_tree\u001b[0;34m(self, node_id, et, criterion, depth)\u001b[0m\n\u001b[1;32m    566\u001b[0m         if (et.children_left[node_id] != _tree.TREE_LEAF\n\u001b[1;32m    567\u001b[0m                 and (self.max_depth is None or depth <= self.max_depth)):\n\u001b[0;32m--> 568\u001b[0;31m             children = [self._make_tree(et.children_left[node_id], et,\n\u001b[0m\u001b[1;32m    569\u001b[0m                                         criterion, depth=depth + 1),\n\u001b[1;32m    570\u001b[0m                         self._make_tree(et.children_right[node_id], et,\n",
      "\u001b[0;32m~/docos/uni/tb2/applied-data-science/coursework/privacy_decisions/.venv/lib/python3.9/site-packages/sklearn/tree/_export.py\u001b[0m in \u001b[0;36m_make_tree\u001b[0;34m(self, node_id, et, criterion, depth)\u001b[0m\n\u001b[1;32m    566\u001b[0m         if (et.children_left[node_id] != _tree.TREE_LEAF\n\u001b[1;32m    567\u001b[0m                 and (self.max_depth is None or depth <= self.max_depth)):\n\u001b[0;32m--> 568\u001b[0;31m             children = [self._make_tree(et.children_left[node_id], et,\n\u001b[0m\u001b[1;32m    569\u001b[0m                                         criterion, depth=depth + 1),\n\u001b[1;32m    570\u001b[0m                         self._make_tree(et.children_right[node_id], et,\n",
      "\u001b[0;32m~/docos/uni/tb2/applied-data-science/coursework/privacy_decisions/.venv/lib/python3.9/site-packages/sklearn/tree/_export.py\u001b[0m in \u001b[0;36m_make_tree\u001b[0;34m(self, node_id, et, criterion, depth)\u001b[0m\n\u001b[1;32m    566\u001b[0m         if (et.children_left[node_id] != _tree.TREE_LEAF\n\u001b[1;32m    567\u001b[0m                 and (self.max_depth is None or depth <= self.max_depth)):\n\u001b[0;32m--> 568\u001b[0;31m             children = [self._make_tree(et.children_left[node_id], et,\n\u001b[0m\u001b[1;32m    569\u001b[0m                                         criterion, depth=depth + 1),\n\u001b[1;32m    570\u001b[0m                         self._make_tree(et.children_right[node_id], et,\n",
      "\u001b[0;32m~/docos/uni/tb2/applied-data-science/coursework/privacy_decisions/.venv/lib/python3.9/site-packages/sklearn/tree/_export.py\u001b[0m in \u001b[0;36m_make_tree\u001b[0;34m(self, node_id, et, criterion, depth)\u001b[0m\n\u001b[1;32m    566\u001b[0m         if (et.children_left[node_id] != _tree.TREE_LEAF\n\u001b[1;32m    567\u001b[0m                 and (self.max_depth is None or depth <= self.max_depth)):\n\u001b[0;32m--> 568\u001b[0;31m             children = [self._make_tree(et.children_left[node_id], et,\n\u001b[0m\u001b[1;32m    569\u001b[0m                                         criterion, depth=depth + 1),\n\u001b[1;32m    570\u001b[0m                         self._make_tree(et.children_right[node_id], et,\n",
      "\u001b[0;32m~/docos/uni/tb2/applied-data-science/coursework/privacy_decisions/.venv/lib/python3.9/site-packages/sklearn/tree/_export.py\u001b[0m in \u001b[0;36m_make_tree\u001b[0;34m(self, node_id, et, criterion, depth)\u001b[0m\n\u001b[1;32m    566\u001b[0m         if (et.children_left[node_id] != _tree.TREE_LEAF\n\u001b[1;32m    567\u001b[0m                 and (self.max_depth is None or depth <= self.max_depth)):\n\u001b[0;32m--> 568\u001b[0;31m             children = [self._make_tree(et.children_left[node_id], et,\n\u001b[0m\u001b[1;32m    569\u001b[0m                                         criterion, depth=depth + 1),\n\u001b[1;32m    570\u001b[0m                         self._make_tree(et.children_right[node_id], et,\n",
      "\u001b[0;32m~/docos/uni/tb2/applied-data-science/coursework/privacy_decisions/.venv/lib/python3.9/site-packages/sklearn/tree/_export.py\u001b[0m in \u001b[0;36m_make_tree\u001b[0;34m(self, node_id, et, criterion, depth)\u001b[0m\n\u001b[1;32m    566\u001b[0m         if (et.children_left[node_id] != _tree.TREE_LEAF\n\u001b[1;32m    567\u001b[0m                 and (self.max_depth is None or depth <= self.max_depth)):\n\u001b[0;32m--> 568\u001b[0;31m             children = [self._make_tree(et.children_left[node_id], et,\n\u001b[0m\u001b[1;32m    569\u001b[0m                                         criterion, depth=depth + 1),\n\u001b[1;32m    570\u001b[0m                         self._make_tree(et.children_right[node_id], et,\n",
      "\u001b[0;32m~/docos/uni/tb2/applied-data-science/coursework/privacy_decisions/.venv/lib/python3.9/site-packages/sklearn/tree/_export.py\u001b[0m in \u001b[0;36m_make_tree\u001b[0;34m(self, node_id, et, criterion, depth)\u001b[0m\n\u001b[1;32m    566\u001b[0m         if (et.children_left[node_id] != _tree.TREE_LEAF\n\u001b[1;32m    567\u001b[0m                 and (self.max_depth is None or depth <= self.max_depth)):\n\u001b[0;32m--> 568\u001b[0;31m             children = [self._make_tree(et.children_left[node_id], et,\n\u001b[0m\u001b[1;32m    569\u001b[0m                                         criterion, depth=depth + 1),\n\u001b[1;32m    570\u001b[0m                         self._make_tree(et.children_right[node_id], et,\n",
      "\u001b[0;32m~/docos/uni/tb2/applied-data-science/coursework/privacy_decisions/.venv/lib/python3.9/site-packages/sklearn/tree/_export.py\u001b[0m in \u001b[0;36m_make_tree\u001b[0;34m(self, node_id, et, criterion, depth)\u001b[0m\n\u001b[1;32m    566\u001b[0m         if (et.children_left[node_id] != _tree.TREE_LEAF\n\u001b[1;32m    567\u001b[0m                 and (self.max_depth is None or depth <= self.max_depth)):\n\u001b[0;32m--> 568\u001b[0;31m             children = [self._make_tree(et.children_left[node_id], et,\n\u001b[0m\u001b[1;32m    569\u001b[0m                                         criterion, depth=depth + 1),\n\u001b[1;32m    570\u001b[0m                         self._make_tree(et.children_right[node_id], et,\n",
      "\u001b[0;32m~/docos/uni/tb2/applied-data-science/coursework/privacy_decisions/.venv/lib/python3.9/site-packages/sklearn/tree/_export.py\u001b[0m in \u001b[0;36m_make_tree\u001b[0;34m(self, node_id, et, criterion, depth)\u001b[0m\n\u001b[1;32m    566\u001b[0m         if (et.children_left[node_id] != _tree.TREE_LEAF\n\u001b[1;32m    567\u001b[0m                 and (self.max_depth is None or depth <= self.max_depth)):\n\u001b[0;32m--> 568\u001b[0;31m             children = [self._make_tree(et.children_left[node_id], et,\n\u001b[0m\u001b[1;32m    569\u001b[0m                                         criterion, depth=depth + 1),\n\u001b[1;32m    570\u001b[0m                         self._make_tree(et.children_right[node_id], et,\n",
      "\u001b[0;32m~/docos/uni/tb2/applied-data-science/coursework/privacy_decisions/.venv/lib/python3.9/site-packages/sklearn/tree/_export.py\u001b[0m in \u001b[0;36m_make_tree\u001b[0;34m(self, node_id, et, criterion, depth)\u001b[0m\n\u001b[1;32m    566\u001b[0m         if (et.children_left[node_id] != _tree.TREE_LEAF\n\u001b[1;32m    567\u001b[0m                 and (self.max_depth is None or depth <= self.max_depth)):\n\u001b[0;32m--> 568\u001b[0;31m             children = [self._make_tree(et.children_left[node_id], et,\n\u001b[0m\u001b[1;32m    569\u001b[0m                                         criterion, depth=depth + 1),\n\u001b[1;32m    570\u001b[0m                         self._make_tree(et.children_right[node_id], et,\n",
      "\u001b[0;32m~/docos/uni/tb2/applied-data-science/coursework/privacy_decisions/.venv/lib/python3.9/site-packages/sklearn/tree/_export.py\u001b[0m in \u001b[0;36m_make_tree\u001b[0;34m(self, node_id, et, criterion, depth)\u001b[0m\n\u001b[1;32m    566\u001b[0m         if (et.children_left[node_id] != _tree.TREE_LEAF\n\u001b[1;32m    567\u001b[0m                 and (self.max_depth is None or depth <= self.max_depth)):\n\u001b[0;32m--> 568\u001b[0;31m             children = [self._make_tree(et.children_left[node_id], et,\n\u001b[0m\u001b[1;32m    569\u001b[0m                                         criterion, depth=depth + 1),\n\u001b[1;32m    570\u001b[0m                         self._make_tree(et.children_right[node_id], et,\n",
      "\u001b[0;32m~/docos/uni/tb2/applied-data-science/coursework/privacy_decisions/.venv/lib/python3.9/site-packages/sklearn/tree/_export.py\u001b[0m in \u001b[0;36m_make_tree\u001b[0;34m(self, node_id, et, criterion, depth)\u001b[0m\n\u001b[1;32m    566\u001b[0m         if (et.children_left[node_id] != _tree.TREE_LEAF\n\u001b[1;32m    567\u001b[0m                 and (self.max_depth is None or depth <= self.max_depth)):\n\u001b[0;32m--> 568\u001b[0;31m             children = [self._make_tree(et.children_left[node_id], et,\n\u001b[0m\u001b[1;32m    569\u001b[0m                                         criterion, depth=depth + 1),\n\u001b[1;32m    570\u001b[0m                         self._make_tree(et.children_right[node_id], et,\n",
      "\u001b[0;32m~/docos/uni/tb2/applied-data-science/coursework/privacy_decisions/.venv/lib/python3.9/site-packages/sklearn/tree/_export.py\u001b[0m in \u001b[0;36m_make_tree\u001b[0;34m(self, node_id, et, criterion, depth)\u001b[0m\n\u001b[1;32m    566\u001b[0m         if (et.children_left[node_id] != _tree.TREE_LEAF\n\u001b[1;32m    567\u001b[0m                 and (self.max_depth is None or depth <= self.max_depth)):\n\u001b[0;32m--> 568\u001b[0;31m             children = [self._make_tree(et.children_left[node_id], et,\n\u001b[0m\u001b[1;32m    569\u001b[0m                                         criterion, depth=depth + 1),\n\u001b[1;32m    570\u001b[0m                         self._make_tree(et.children_right[node_id], et,\n",
      "\u001b[0;32m~/docos/uni/tb2/applied-data-science/coursework/privacy_decisions/.venv/lib/python3.9/site-packages/sklearn/tree/_export.py\u001b[0m in \u001b[0;36m_make_tree\u001b[0;34m(self, node_id, et, criterion, depth)\u001b[0m\n\u001b[1;32m    566\u001b[0m         if (et.children_left[node_id] != _tree.TREE_LEAF\n\u001b[1;32m    567\u001b[0m                 and (self.max_depth is None or depth <= self.max_depth)):\n\u001b[0;32m--> 568\u001b[0;31m             children = [self._make_tree(et.children_left[node_id], et,\n\u001b[0m\u001b[1;32m    569\u001b[0m                                         criterion, depth=depth + 1),\n\u001b[1;32m    570\u001b[0m                         self._make_tree(et.children_right[node_id], et,\n",
      "\u001b[0;32m~/docos/uni/tb2/applied-data-science/coursework/privacy_decisions/.venv/lib/python3.9/site-packages/sklearn/tree/_export.py\u001b[0m in \u001b[0;36m_make_tree\u001b[0;34m(self, node_id, et, criterion, depth)\u001b[0m\n\u001b[1;32m    566\u001b[0m         if (et.children_left[node_id] != _tree.TREE_LEAF\n\u001b[1;32m    567\u001b[0m                 and (self.max_depth is None or depth <= self.max_depth)):\n\u001b[0;32m--> 568\u001b[0;31m             children = [self._make_tree(et.children_left[node_id], et,\n\u001b[0m\u001b[1;32m    569\u001b[0m                                         criterion, depth=depth + 1),\n\u001b[1;32m    570\u001b[0m                         self._make_tree(et.children_right[node_id], et,\n",
      "\u001b[0;32m~/docos/uni/tb2/applied-data-science/coursework/privacy_decisions/.venv/lib/python3.9/site-packages/sklearn/tree/_export.py\u001b[0m in \u001b[0;36m_make_tree\u001b[0;34m(self, node_id, et, criterion, depth)\u001b[0m\n\u001b[1;32m    566\u001b[0m         if (et.children_left[node_id] != _tree.TREE_LEAF\n\u001b[1;32m    567\u001b[0m                 and (self.max_depth is None or depth <= self.max_depth)):\n\u001b[0;32m--> 568\u001b[0;31m             children = [self._make_tree(et.children_left[node_id], et,\n\u001b[0m\u001b[1;32m    569\u001b[0m                                         criterion, depth=depth + 1),\n\u001b[1;32m    570\u001b[0m                         self._make_tree(et.children_right[node_id], et,\n",
      "\u001b[0;32m~/docos/uni/tb2/applied-data-science/coursework/privacy_decisions/.venv/lib/python3.9/site-packages/sklearn/tree/_export.py\u001b[0m in \u001b[0;36m_make_tree\u001b[0;34m(self, node_id, et, criterion, depth)\u001b[0m\n\u001b[1;32m    566\u001b[0m         if (et.children_left[node_id] != _tree.TREE_LEAF\n\u001b[1;32m    567\u001b[0m                 and (self.max_depth is None or depth <= self.max_depth)):\n\u001b[0;32m--> 568\u001b[0;31m             children = [self._make_tree(et.children_left[node_id], et,\n\u001b[0m\u001b[1;32m    569\u001b[0m                                         criterion, depth=depth + 1),\n\u001b[1;32m    570\u001b[0m                         self._make_tree(et.children_right[node_id], et,\n",
      "\u001b[0;32m~/docos/uni/tb2/applied-data-science/coursework/privacy_decisions/.venv/lib/python3.9/site-packages/sklearn/tree/_export.py\u001b[0m in \u001b[0;36m_make_tree\u001b[0;34m(self, node_id, et, criterion, depth)\u001b[0m\n\u001b[1;32m    566\u001b[0m         if (et.children_left[node_id] != _tree.TREE_LEAF\n\u001b[1;32m    567\u001b[0m                 and (self.max_depth is None or depth <= self.max_depth)):\n\u001b[0;32m--> 568\u001b[0;31m             children = [self._make_tree(et.children_left[node_id], et,\n\u001b[0m\u001b[1;32m    569\u001b[0m                                         criterion, depth=depth + 1),\n\u001b[1;32m    570\u001b[0m                         self._make_tree(et.children_right[node_id], et,\n",
      "\u001b[0;32m~/docos/uni/tb2/applied-data-science/coursework/privacy_decisions/.venv/lib/python3.9/site-packages/sklearn/tree/_export.py\u001b[0m in \u001b[0;36m_make_tree\u001b[0;34m(self, node_id, et, criterion, depth)\u001b[0m\n\u001b[1;32m    566\u001b[0m         if (et.children_left[node_id] != _tree.TREE_LEAF\n\u001b[1;32m    567\u001b[0m                 and (self.max_depth is None or depth <= self.max_depth)):\n\u001b[0;32m--> 568\u001b[0;31m             children = [self._make_tree(et.children_left[node_id], et,\n\u001b[0m\u001b[1;32m    569\u001b[0m                                         criterion, depth=depth + 1),\n\u001b[1;32m    570\u001b[0m                         self._make_tree(et.children_right[node_id], et,\n",
      "\u001b[0;32m~/docos/uni/tb2/applied-data-science/coursework/privacy_decisions/.venv/lib/python3.9/site-packages/sklearn/tree/_export.py\u001b[0m in \u001b[0;36m_make_tree\u001b[0;34m(self, node_id, et, criterion, depth)\u001b[0m\n\u001b[1;32m    566\u001b[0m         if (et.children_left[node_id] != _tree.TREE_LEAF\n\u001b[1;32m    567\u001b[0m                 and (self.max_depth is None or depth <= self.max_depth)):\n\u001b[0;32m--> 568\u001b[0;31m             children = [self._make_tree(et.children_left[node_id], et,\n\u001b[0m\u001b[1;32m    569\u001b[0m                                         criterion, depth=depth + 1),\n\u001b[1;32m    570\u001b[0m                         self._make_tree(et.children_right[node_id], et,\n",
      "\u001b[0;32m~/docos/uni/tb2/applied-data-science/coursework/privacy_decisions/.venv/lib/python3.9/site-packages/sklearn/tree/_export.py\u001b[0m in \u001b[0;36m_make_tree\u001b[0;34m(self, node_id, et, criterion, depth)\u001b[0m\n\u001b[1;32m    566\u001b[0m         if (et.children_left[node_id] != _tree.TREE_LEAF\n\u001b[1;32m    567\u001b[0m                 and (self.max_depth is None or depth <= self.max_depth)):\n\u001b[0;32m--> 568\u001b[0;31m             children = [self._make_tree(et.children_left[node_id], et,\n\u001b[0m\u001b[1;32m    569\u001b[0m                                         criterion, depth=depth + 1),\n\u001b[1;32m    570\u001b[0m                         self._make_tree(et.children_right[node_id], et,\n",
      "\u001b[0;32m~/docos/uni/tb2/applied-data-science/coursework/privacy_decisions/.venv/lib/python3.9/site-packages/sklearn/tree/_export.py\u001b[0m in \u001b[0;36m_make_tree\u001b[0;34m(self, node_id, et, criterion, depth)\u001b[0m\n\u001b[1;32m    566\u001b[0m         if (et.children_left[node_id] != _tree.TREE_LEAF\n\u001b[1;32m    567\u001b[0m                 and (self.max_depth is None or depth <= self.max_depth)):\n\u001b[0;32m--> 568\u001b[0;31m             children = [self._make_tree(et.children_left[node_id], et,\n\u001b[0m\u001b[1;32m    569\u001b[0m                                         criterion, depth=depth + 1),\n\u001b[1;32m    570\u001b[0m                         self._make_tree(et.children_right[node_id], et,\n",
      "\u001b[0;32m~/docos/uni/tb2/applied-data-science/coursework/privacy_decisions/.venv/lib/python3.9/site-packages/sklearn/tree/_export.py\u001b[0m in \u001b[0;36m_make_tree\u001b[0;34m(self, node_id, et, criterion, depth)\u001b[0m\n\u001b[1;32m    566\u001b[0m         if (et.children_left[node_id] != _tree.TREE_LEAF\n\u001b[1;32m    567\u001b[0m                 and (self.max_depth is None or depth <= self.max_depth)):\n\u001b[0;32m--> 568\u001b[0;31m             children = [self._make_tree(et.children_left[node_id], et,\n\u001b[0m\u001b[1;32m    569\u001b[0m                                         criterion, depth=depth + 1),\n\u001b[1;32m    570\u001b[0m                         self._make_tree(et.children_right[node_id], et,\n",
      "\u001b[0;32m~/docos/uni/tb2/applied-data-science/coursework/privacy_decisions/.venv/lib/python3.9/site-packages/sklearn/tree/_export.py\u001b[0m in \u001b[0;36m_make_tree\u001b[0;34m(self, node_id, et, criterion, depth)\u001b[0m\n\u001b[1;32m    566\u001b[0m         if (et.children_left[node_id] != _tree.TREE_LEAF\n\u001b[1;32m    567\u001b[0m                 and (self.max_depth is None or depth <= self.max_depth)):\n\u001b[0;32m--> 568\u001b[0;31m             children = [self._make_tree(et.children_left[node_id], et,\n\u001b[0m\u001b[1;32m    569\u001b[0m                                         criterion, depth=depth + 1),\n\u001b[1;32m    570\u001b[0m                         self._make_tree(et.children_right[node_id], et,\n",
      "\u001b[0;32m~/docos/uni/tb2/applied-data-science/coursework/privacy_decisions/.venv/lib/python3.9/site-packages/sklearn/tree/_export.py\u001b[0m in \u001b[0;36m_make_tree\u001b[0;34m(self, node_id, et, criterion, depth)\u001b[0m\n\u001b[1;32m    566\u001b[0m         if (et.children_left[node_id] != _tree.TREE_LEAF\n\u001b[1;32m    567\u001b[0m                 and (self.max_depth is None or depth <= self.max_depth)):\n\u001b[0;32m--> 568\u001b[0;31m             children = [self._make_tree(et.children_left[node_id], et,\n\u001b[0m\u001b[1;32m    569\u001b[0m                                         criterion, depth=depth + 1),\n\u001b[1;32m    570\u001b[0m                         self._make_tree(et.children_right[node_id], et,\n",
      "\u001b[0;32m~/docos/uni/tb2/applied-data-science/coursework/privacy_decisions/.venv/lib/python3.9/site-packages/sklearn/tree/_export.py\u001b[0m in \u001b[0;36m_make_tree\u001b[0;34m(self, node_id, et, criterion, depth)\u001b[0m\n\u001b[1;32m    566\u001b[0m         if (et.children_left[node_id] != _tree.TREE_LEAF\n\u001b[1;32m    567\u001b[0m                 and (self.max_depth is None or depth <= self.max_depth)):\n\u001b[0;32m--> 568\u001b[0;31m             children = [self._make_tree(et.children_left[node_id], et,\n\u001b[0m\u001b[1;32m    569\u001b[0m                                         criterion, depth=depth + 1),\n\u001b[1;32m    570\u001b[0m                         self._make_tree(et.children_right[node_id], et,\n",
      "\u001b[0;32m~/docos/uni/tb2/applied-data-science/coursework/privacy_decisions/.venv/lib/python3.9/site-packages/sklearn/tree/_export.py\u001b[0m in \u001b[0;36m_make_tree\u001b[0;34m(self, node_id, et, criterion, depth)\u001b[0m\n\u001b[1;32m    566\u001b[0m         if (et.children_left[node_id] != _tree.TREE_LEAF\n\u001b[1;32m    567\u001b[0m                 and (self.max_depth is None or depth <= self.max_depth)):\n\u001b[0;32m--> 568\u001b[0;31m             children = [self._make_tree(et.children_left[node_id], et,\n\u001b[0m\u001b[1;32m    569\u001b[0m                                         criterion, depth=depth + 1),\n\u001b[1;32m    570\u001b[0m                         self._make_tree(et.children_right[node_id], et,\n",
      "\u001b[0;32m~/docos/uni/tb2/applied-data-science/coursework/privacy_decisions/.venv/lib/python3.9/site-packages/sklearn/tree/_export.py\u001b[0m in \u001b[0;36m_make_tree\u001b[0;34m(self, node_id, et, criterion, depth)\u001b[0m\n\u001b[1;32m    566\u001b[0m         if (et.children_left[node_id] != _tree.TREE_LEAF\n\u001b[1;32m    567\u001b[0m                 and (self.max_depth is None or depth <= self.max_depth)):\n\u001b[0;32m--> 568\u001b[0;31m             children = [self._make_tree(et.children_left[node_id], et,\n\u001b[0m\u001b[1;32m    569\u001b[0m                                         criterion, depth=depth + 1),\n\u001b[1;32m    570\u001b[0m                         self._make_tree(et.children_right[node_id], et,\n",
      "\u001b[0;32m~/docos/uni/tb2/applied-data-science/coursework/privacy_decisions/.venv/lib/python3.9/site-packages/sklearn/tree/_export.py\u001b[0m in \u001b[0;36m_make_tree\u001b[0;34m(self, node_id, et, criterion, depth)\u001b[0m\n\u001b[1;32m    566\u001b[0m         if (et.children_left[node_id] != _tree.TREE_LEAF\n\u001b[1;32m    567\u001b[0m                 and (self.max_depth is None or depth <= self.max_depth)):\n\u001b[0;32m--> 568\u001b[0;31m             children = [self._make_tree(et.children_left[node_id], et,\n\u001b[0m\u001b[1;32m    569\u001b[0m                                         criterion, depth=depth + 1),\n\u001b[1;32m    570\u001b[0m                         self._make_tree(et.children_right[node_id], et,\n",
      "\u001b[0;32m~/docos/uni/tb2/applied-data-science/coursework/privacy_decisions/.venv/lib/python3.9/site-packages/sklearn/tree/_export.py\u001b[0m in \u001b[0;36m_make_tree\u001b[0;34m(self, node_id, et, criterion, depth)\u001b[0m\n\u001b[1;32m    566\u001b[0m         if (et.children_left[node_id] != _tree.TREE_LEAF\n\u001b[1;32m    567\u001b[0m                 and (self.max_depth is None or depth <= self.max_depth)):\n\u001b[0;32m--> 568\u001b[0;31m             children = [self._make_tree(et.children_left[node_id], et,\n\u001b[0m\u001b[1;32m    569\u001b[0m                                         criterion, depth=depth + 1),\n\u001b[1;32m    570\u001b[0m                         self._make_tree(et.children_right[node_id], et,\n",
      "\u001b[0;32m~/docos/uni/tb2/applied-data-science/coursework/privacy_decisions/.venv/lib/python3.9/site-packages/sklearn/tree/_export.py\u001b[0m in \u001b[0;36m_make_tree\u001b[0;34m(self, node_id, et, criterion, depth)\u001b[0m\n\u001b[1;32m    566\u001b[0m         if (et.children_left[node_id] != _tree.TREE_LEAF\n\u001b[1;32m    567\u001b[0m                 and (self.max_depth is None or depth <= self.max_depth)):\n\u001b[0;32m--> 568\u001b[0;31m             children = [self._make_tree(et.children_left[node_id], et,\n\u001b[0m\u001b[1;32m    569\u001b[0m                                         criterion, depth=depth + 1),\n\u001b[1;32m    570\u001b[0m                         self._make_tree(et.children_right[node_id], et,\n",
      "\u001b[0;32m~/docos/uni/tb2/applied-data-science/coursework/privacy_decisions/.venv/lib/python3.9/site-packages/sklearn/tree/_export.py\u001b[0m in \u001b[0;36m_make_tree\u001b[0;34m(self, node_id, et, criterion, depth)\u001b[0m\n\u001b[1;32m    566\u001b[0m         if (et.children_left[node_id] != _tree.TREE_LEAF\n\u001b[1;32m    567\u001b[0m                 and (self.max_depth is None or depth <= self.max_depth)):\n\u001b[0;32m--> 568\u001b[0;31m             children = [self._make_tree(et.children_left[node_id], et,\n\u001b[0m\u001b[1;32m    569\u001b[0m                                         criterion, depth=depth + 1),\n\u001b[1;32m    570\u001b[0m                         self._make_tree(et.children_right[node_id], et,\n",
      "\u001b[0;32m~/docos/uni/tb2/applied-data-science/coursework/privacy_decisions/.venv/lib/python3.9/site-packages/sklearn/tree/_export.py\u001b[0m in \u001b[0;36m_make_tree\u001b[0;34m(self, node_id, et, criterion, depth)\u001b[0m\n\u001b[1;32m    566\u001b[0m         if (et.children_left[node_id] != _tree.TREE_LEAF\n\u001b[1;32m    567\u001b[0m                 and (self.max_depth is None or depth <= self.max_depth)):\n\u001b[0;32m--> 568\u001b[0;31m             children = [self._make_tree(et.children_left[node_id], et,\n\u001b[0m\u001b[1;32m    569\u001b[0m                                         criterion, depth=depth + 1),\n\u001b[1;32m    570\u001b[0m                         self._make_tree(et.children_right[node_id], et,\n",
      "\u001b[0;32m~/docos/uni/tb2/applied-data-science/coursework/privacy_decisions/.venv/lib/python3.9/site-packages/sklearn/tree/_export.py\u001b[0m in \u001b[0;36m_make_tree\u001b[0;34m(self, node_id, et, criterion, depth)\u001b[0m\n\u001b[1;32m    566\u001b[0m         if (et.children_left[node_id] != _tree.TREE_LEAF\n\u001b[1;32m    567\u001b[0m                 and (self.max_depth is None or depth <= self.max_depth)):\n\u001b[0;32m--> 568\u001b[0;31m             children = [self._make_tree(et.children_left[node_id], et,\n\u001b[0m\u001b[1;32m    569\u001b[0m                                         criterion, depth=depth + 1),\n\u001b[1;32m    570\u001b[0m                         self._make_tree(et.children_right[node_id], et,\n",
      "\u001b[0;32m~/docos/uni/tb2/applied-data-science/coursework/privacy_decisions/.venv/lib/python3.9/site-packages/sklearn/tree/_export.py\u001b[0m in \u001b[0;36m_make_tree\u001b[0;34m(self, node_id, et, criterion, depth)\u001b[0m\n\u001b[1;32m    566\u001b[0m         if (et.children_left[node_id] != _tree.TREE_LEAF\n\u001b[1;32m    567\u001b[0m                 and (self.max_depth is None or depth <= self.max_depth)):\n\u001b[0;32m--> 568\u001b[0;31m             children = [self._make_tree(et.children_left[node_id], et,\n\u001b[0m\u001b[1;32m    569\u001b[0m                                         criterion, depth=depth + 1),\n\u001b[1;32m    570\u001b[0m                         self._make_tree(et.children_right[node_id], et,\n",
      "\u001b[0;32m~/docos/uni/tb2/applied-data-science/coursework/privacy_decisions/.venv/lib/python3.9/site-packages/sklearn/tree/_export.py\u001b[0m in \u001b[0;36m_make_tree\u001b[0;34m(self, node_id, et, criterion, depth)\u001b[0m\n\u001b[1;32m    566\u001b[0m         if (et.children_left[node_id] != _tree.TREE_LEAF\n\u001b[1;32m    567\u001b[0m                 and (self.max_depth is None or depth <= self.max_depth)):\n\u001b[0;32m--> 568\u001b[0;31m             children = [self._make_tree(et.children_left[node_id], et,\n\u001b[0m\u001b[1;32m    569\u001b[0m                                         criterion, depth=depth + 1),\n\u001b[1;32m    570\u001b[0m                         self._make_tree(et.children_right[node_id], et,\n",
      "\u001b[0;32m~/docos/uni/tb2/applied-data-science/coursework/privacy_decisions/.venv/lib/python3.9/site-packages/sklearn/tree/_export.py\u001b[0m in \u001b[0;36m_make_tree\u001b[0;34m(self, node_id, et, criterion, depth)\u001b[0m\n\u001b[1;32m    566\u001b[0m         if (et.children_left[node_id] != _tree.TREE_LEAF\n\u001b[1;32m    567\u001b[0m                 and (self.max_depth is None or depth <= self.max_depth)):\n\u001b[0;32m--> 568\u001b[0;31m             children = [self._make_tree(et.children_left[node_id], et,\n\u001b[0m\u001b[1;32m    569\u001b[0m                                         criterion, depth=depth + 1),\n\u001b[1;32m    570\u001b[0m                         self._make_tree(et.children_right[node_id], et,\n",
      "\u001b[0;32m~/docos/uni/tb2/applied-data-science/coursework/privacy_decisions/.venv/lib/python3.9/site-packages/sklearn/tree/_export.py\u001b[0m in \u001b[0;36m_make_tree\u001b[0;34m(self, node_id, et, criterion, depth)\u001b[0m\n\u001b[1;32m    566\u001b[0m         if (et.children_left[node_id] != _tree.TREE_LEAF\n\u001b[1;32m    567\u001b[0m                 and (self.max_depth is None or depth <= self.max_depth)):\n\u001b[0;32m--> 568\u001b[0;31m             children = [self._make_tree(et.children_left[node_id], et,\n\u001b[0m\u001b[1;32m    569\u001b[0m                                         criterion, depth=depth + 1),\n\u001b[1;32m    570\u001b[0m                         self._make_tree(et.children_right[node_id], et,\n",
      "\u001b[0;32m~/docos/uni/tb2/applied-data-science/coursework/privacy_decisions/.venv/lib/python3.9/site-packages/sklearn/tree/_export.py\u001b[0m in \u001b[0;36m_make_tree\u001b[0;34m(self, node_id, et, criterion, depth)\u001b[0m\n\u001b[1;32m    566\u001b[0m         if (et.children_left[node_id] != _tree.TREE_LEAF\n\u001b[1;32m    567\u001b[0m                 and (self.max_depth is None or depth <= self.max_depth)):\n\u001b[0;32m--> 568\u001b[0;31m             children = [self._make_tree(et.children_left[node_id], et,\n\u001b[0m\u001b[1;32m    569\u001b[0m                                         criterion, depth=depth + 1),\n\u001b[1;32m    570\u001b[0m                         self._make_tree(et.children_right[node_id], et,\n",
      "\u001b[0;32m~/docos/uni/tb2/applied-data-science/coursework/privacy_decisions/.venv/lib/python3.9/site-packages/sklearn/tree/_export.py\u001b[0m in \u001b[0;36m_make_tree\u001b[0;34m(self, node_id, et, criterion, depth)\u001b[0m\n\u001b[1;32m    566\u001b[0m         if (et.children_left[node_id] != _tree.TREE_LEAF\n\u001b[1;32m    567\u001b[0m                 and (self.max_depth is None or depth <= self.max_depth)):\n\u001b[0;32m--> 568\u001b[0;31m             children = [self._make_tree(et.children_left[node_id], et,\n\u001b[0m\u001b[1;32m    569\u001b[0m                                         criterion, depth=depth + 1),\n\u001b[1;32m    570\u001b[0m                         self._make_tree(et.children_right[node_id], et,\n",
      "\u001b[0;32m~/docos/uni/tb2/applied-data-science/coursework/privacy_decisions/.venv/lib/python3.9/site-packages/sklearn/tree/_export.py\u001b[0m in \u001b[0;36m_make_tree\u001b[0;34m(self, node_id, et, criterion, depth)\u001b[0m\n\u001b[1;32m    566\u001b[0m         if (et.children_left[node_id] != _tree.TREE_LEAF\n\u001b[1;32m    567\u001b[0m                 and (self.max_depth is None or depth <= self.max_depth)):\n\u001b[0;32m--> 568\u001b[0;31m             children = [self._make_tree(et.children_left[node_id], et,\n\u001b[0m\u001b[1;32m    569\u001b[0m                                         criterion, depth=depth + 1),\n\u001b[1;32m    570\u001b[0m                         self._make_tree(et.children_right[node_id], et,\n",
      "\u001b[0;32m~/docos/uni/tb2/applied-data-science/coursework/privacy_decisions/.venv/lib/python3.9/site-packages/sklearn/tree/_export.py\u001b[0m in \u001b[0;36m_make_tree\u001b[0;34m(self, node_id, et, criterion, depth)\u001b[0m\n\u001b[1;32m    566\u001b[0m         if (et.children_left[node_id] != _tree.TREE_LEAF\n\u001b[1;32m    567\u001b[0m                 and (self.max_depth is None or depth <= self.max_depth)):\n\u001b[0;32m--> 568\u001b[0;31m             children = [self._make_tree(et.children_left[node_id], et,\n\u001b[0m\u001b[1;32m    569\u001b[0m                                         criterion, depth=depth + 1),\n\u001b[1;32m    570\u001b[0m                         self._make_tree(et.children_right[node_id], et,\n",
      "\u001b[0;32m~/docos/uni/tb2/applied-data-science/coursework/privacy_decisions/.venv/lib/python3.9/site-packages/sklearn/tree/_export.py\u001b[0m in \u001b[0;36m_make_tree\u001b[0;34m(self, node_id, et, criterion, depth)\u001b[0m\n\u001b[1;32m    566\u001b[0m         if (et.children_left[node_id] != _tree.TREE_LEAF\n\u001b[1;32m    567\u001b[0m                 and (self.max_depth is None or depth <= self.max_depth)):\n\u001b[0;32m--> 568\u001b[0;31m             children = [self._make_tree(et.children_left[node_id], et,\n\u001b[0m\u001b[1;32m    569\u001b[0m                                         criterion, depth=depth + 1),\n\u001b[1;32m    570\u001b[0m                         self._make_tree(et.children_right[node_id], et,\n",
      "\u001b[0;32m~/docos/uni/tb2/applied-data-science/coursework/privacy_decisions/.venv/lib/python3.9/site-packages/sklearn/tree/_export.py\u001b[0m in \u001b[0;36m_make_tree\u001b[0;34m(self, node_id, et, criterion, depth)\u001b[0m\n\u001b[1;32m    566\u001b[0m         if (et.children_left[node_id] != _tree.TREE_LEAF\n\u001b[1;32m    567\u001b[0m                 and (self.max_depth is None or depth <= self.max_depth)):\n\u001b[0;32m--> 568\u001b[0;31m             children = [self._make_tree(et.children_left[node_id], et,\n\u001b[0m\u001b[1;32m    569\u001b[0m                                         criterion, depth=depth + 1),\n\u001b[1;32m    570\u001b[0m                         self._make_tree(et.children_right[node_id], et,\n",
      "\u001b[0;32m~/docos/uni/tb2/applied-data-science/coursework/privacy_decisions/.venv/lib/python3.9/site-packages/sklearn/tree/_export.py\u001b[0m in \u001b[0;36m_make_tree\u001b[0;34m(self, node_id, et, criterion, depth)\u001b[0m\n\u001b[1;32m    566\u001b[0m         if (et.children_left[node_id] != _tree.TREE_LEAF\n\u001b[1;32m    567\u001b[0m                 and (self.max_depth is None or depth <= self.max_depth)):\n\u001b[0;32m--> 568\u001b[0;31m             children = [self._make_tree(et.children_left[node_id], et,\n\u001b[0m\u001b[1;32m    569\u001b[0m                                         criterion, depth=depth + 1),\n\u001b[1;32m    570\u001b[0m                         self._make_tree(et.children_right[node_id], et,\n",
      "\u001b[0;32m~/docos/uni/tb2/applied-data-science/coursework/privacy_decisions/.venv/lib/python3.9/site-packages/sklearn/tree/_export.py\u001b[0m in \u001b[0;36m_make_tree\u001b[0;34m(self, node_id, et, criterion, depth)\u001b[0m\n\u001b[1;32m    566\u001b[0m         if (et.children_left[node_id] != _tree.TREE_LEAF\n\u001b[1;32m    567\u001b[0m                 and (self.max_depth is None or depth <= self.max_depth)):\n\u001b[0;32m--> 568\u001b[0;31m             children = [self._make_tree(et.children_left[node_id], et,\n\u001b[0m\u001b[1;32m    569\u001b[0m                                         criterion, depth=depth + 1),\n\u001b[1;32m    570\u001b[0m                         self._make_tree(et.children_right[node_id], et,\n",
      "\u001b[0;32m~/docos/uni/tb2/applied-data-science/coursework/privacy_decisions/.venv/lib/python3.9/site-packages/sklearn/tree/_export.py\u001b[0m in \u001b[0;36m_make_tree\u001b[0;34m(self, node_id, et, criterion, depth)\u001b[0m\n\u001b[1;32m    566\u001b[0m         if (et.children_left[node_id] != _tree.TREE_LEAF\n\u001b[1;32m    567\u001b[0m                 and (self.max_depth is None or depth <= self.max_depth)):\n\u001b[0;32m--> 568\u001b[0;31m             children = [self._make_tree(et.children_left[node_id], et,\n\u001b[0m\u001b[1;32m    569\u001b[0m                                         criterion, depth=depth + 1),\n\u001b[1;32m    570\u001b[0m                         self._make_tree(et.children_right[node_id], et,\n",
      "\u001b[0;32m~/docos/uni/tb2/applied-data-science/coursework/privacy_decisions/.venv/lib/python3.9/site-packages/sklearn/tree/_export.py\u001b[0m in \u001b[0;36m_make_tree\u001b[0;34m(self, node_id, et, criterion, depth)\u001b[0m\n\u001b[1;32m    566\u001b[0m         if (et.children_left[node_id] != _tree.TREE_LEAF\n\u001b[1;32m    567\u001b[0m                 and (self.max_depth is None or depth <= self.max_depth)):\n\u001b[0;32m--> 568\u001b[0;31m             children = [self._make_tree(et.children_left[node_id], et,\n\u001b[0m\u001b[1;32m    569\u001b[0m                                         criterion, depth=depth + 1),\n\u001b[1;32m    570\u001b[0m                         self._make_tree(et.children_right[node_id], et,\n",
      "\u001b[0;32m~/docos/uni/tb2/applied-data-science/coursework/privacy_decisions/.venv/lib/python3.9/site-packages/sklearn/tree/_export.py\u001b[0m in \u001b[0;36m_make_tree\u001b[0;34m(self, node_id, et, criterion, depth)\u001b[0m\n\u001b[1;32m    566\u001b[0m         if (et.children_left[node_id] != _tree.TREE_LEAF\n\u001b[1;32m    567\u001b[0m                 and (self.max_depth is None or depth <= self.max_depth)):\n\u001b[0;32m--> 568\u001b[0;31m             children = [self._make_tree(et.children_left[node_id], et,\n\u001b[0m\u001b[1;32m    569\u001b[0m                                         criterion, depth=depth + 1),\n\u001b[1;32m    570\u001b[0m                         self._make_tree(et.children_right[node_id], et,\n",
      "\u001b[0;32m~/docos/uni/tb2/applied-data-science/coursework/privacy_decisions/.venv/lib/python3.9/site-packages/sklearn/tree/_export.py\u001b[0m in \u001b[0;36m_make_tree\u001b[0;34m(self, node_id, et, criterion, depth)\u001b[0m\n\u001b[1;32m    566\u001b[0m         if (et.children_left[node_id] != _tree.TREE_LEAF\n\u001b[1;32m    567\u001b[0m                 and (self.max_depth is None or depth <= self.max_depth)):\n\u001b[0;32m--> 568\u001b[0;31m             children = [self._make_tree(et.children_left[node_id], et,\n\u001b[0m\u001b[1;32m    569\u001b[0m                                         criterion, depth=depth + 1),\n\u001b[1;32m    570\u001b[0m                         self._make_tree(et.children_right[node_id], et,\n",
      "\u001b[0;32m~/docos/uni/tb2/applied-data-science/coursework/privacy_decisions/.venv/lib/python3.9/site-packages/sklearn/tree/_export.py\u001b[0m in \u001b[0;36m_make_tree\u001b[0;34m(self, node_id, et, criterion, depth)\u001b[0m\n\u001b[1;32m    566\u001b[0m         if (et.children_left[node_id] != _tree.TREE_LEAF\n\u001b[1;32m    567\u001b[0m                 and (self.max_depth is None or depth <= self.max_depth)):\n\u001b[0;32m--> 568\u001b[0;31m             children = [self._make_tree(et.children_left[node_id], et,\n\u001b[0m\u001b[1;32m    569\u001b[0m                                         criterion, depth=depth + 1),\n\u001b[1;32m    570\u001b[0m                         self._make_tree(et.children_right[node_id], et,\n",
      "\u001b[0;32m~/docos/uni/tb2/applied-data-science/coursework/privacy_decisions/.venv/lib/python3.9/site-packages/sklearn/tree/_export.py\u001b[0m in \u001b[0;36m_make_tree\u001b[0;34m(self, node_id, et, criterion, depth)\u001b[0m\n\u001b[1;32m    566\u001b[0m         if (et.children_left[node_id] != _tree.TREE_LEAF\n\u001b[1;32m    567\u001b[0m                 and (self.max_depth is None or depth <= self.max_depth)):\n\u001b[0;32m--> 568\u001b[0;31m             children = [self._make_tree(et.children_left[node_id], et,\n\u001b[0m\u001b[1;32m    569\u001b[0m                                         criterion, depth=depth + 1),\n\u001b[1;32m    570\u001b[0m                         self._make_tree(et.children_right[node_id], et,\n",
      "\u001b[0;32m~/docos/uni/tb2/applied-data-science/coursework/privacy_decisions/.venv/lib/python3.9/site-packages/sklearn/tree/_export.py\u001b[0m in \u001b[0;36m_make_tree\u001b[0;34m(self, node_id, et, criterion, depth)\u001b[0m\n\u001b[1;32m    566\u001b[0m         if (et.children_left[node_id] != _tree.TREE_LEAF\n\u001b[1;32m    567\u001b[0m                 and (self.max_depth is None or depth <= self.max_depth)):\n\u001b[0;32m--> 568\u001b[0;31m             children = [self._make_tree(et.children_left[node_id], et,\n\u001b[0m\u001b[1;32m    569\u001b[0m                                         criterion, depth=depth + 1),\n\u001b[1;32m    570\u001b[0m                         self._make_tree(et.children_right[node_id], et,\n",
      "\u001b[0;32m~/docos/uni/tb2/applied-data-science/coursework/privacy_decisions/.venv/lib/python3.9/site-packages/sklearn/tree/_export.py\u001b[0m in \u001b[0;36m_make_tree\u001b[0;34m(self, node_id, et, criterion, depth)\u001b[0m\n\u001b[1;32m    566\u001b[0m         if (et.children_left[node_id] != _tree.TREE_LEAF\n\u001b[1;32m    567\u001b[0m                 and (self.max_depth is None or depth <= self.max_depth)):\n\u001b[0;32m--> 568\u001b[0;31m             children = [self._make_tree(et.children_left[node_id], et,\n\u001b[0m\u001b[1;32m    569\u001b[0m                                         criterion, depth=depth + 1),\n\u001b[1;32m    570\u001b[0m                         self._make_tree(et.children_right[node_id], et,\n",
      "\u001b[0;32m~/docos/uni/tb2/applied-data-science/coursework/privacy_decisions/.venv/lib/python3.9/site-packages/sklearn/tree/_export.py\u001b[0m in \u001b[0;36m_make_tree\u001b[0;34m(self, node_id, et, criterion, depth)\u001b[0m\n\u001b[1;32m    566\u001b[0m         if (et.children_left[node_id] != _tree.TREE_LEAF\n\u001b[1;32m    567\u001b[0m                 and (self.max_depth is None or depth <= self.max_depth)):\n\u001b[0;32m--> 568\u001b[0;31m             children = [self._make_tree(et.children_left[node_id], et,\n\u001b[0m\u001b[1;32m    569\u001b[0m                                         criterion, depth=depth + 1),\n\u001b[1;32m    570\u001b[0m                         self._make_tree(et.children_right[node_id], et,\n",
      "\u001b[0;32m~/docos/uni/tb2/applied-data-science/coursework/privacy_decisions/.venv/lib/python3.9/site-packages/sklearn/tree/_export.py\u001b[0m in \u001b[0;36m_make_tree\u001b[0;34m(self, node_id, et, criterion, depth)\u001b[0m\n\u001b[1;32m    566\u001b[0m         if (et.children_left[node_id] != _tree.TREE_LEAF\n\u001b[1;32m    567\u001b[0m                 and (self.max_depth is None or depth <= self.max_depth)):\n\u001b[0;32m--> 568\u001b[0;31m             children = [self._make_tree(et.children_left[node_id], et,\n\u001b[0m\u001b[1;32m    569\u001b[0m                                         criterion, depth=depth + 1),\n\u001b[1;32m    570\u001b[0m                         self._make_tree(et.children_right[node_id], et,\n",
      "\u001b[0;32m~/docos/uni/tb2/applied-data-science/coursework/privacy_decisions/.venv/lib/python3.9/site-packages/sklearn/tree/_export.py\u001b[0m in \u001b[0;36m_make_tree\u001b[0;34m(self, node_id, et, criterion, depth)\u001b[0m\n\u001b[1;32m    566\u001b[0m         if (et.children_left[node_id] != _tree.TREE_LEAF\n\u001b[1;32m    567\u001b[0m                 and (self.max_depth is None or depth <= self.max_depth)):\n\u001b[0;32m--> 568\u001b[0;31m             children = [self._make_tree(et.children_left[node_id], et,\n\u001b[0m\u001b[1;32m    569\u001b[0m                                         criterion, depth=depth + 1),\n\u001b[1;32m    570\u001b[0m                         self._make_tree(et.children_right[node_id], et,\n",
      "\u001b[0;32m~/docos/uni/tb2/applied-data-science/coursework/privacy_decisions/.venv/lib/python3.9/site-packages/sklearn/tree/_export.py\u001b[0m in \u001b[0;36m_make_tree\u001b[0;34m(self, node_id, et, criterion, depth)\u001b[0m\n\u001b[1;32m    566\u001b[0m         if (et.children_left[node_id] != _tree.TREE_LEAF\n\u001b[1;32m    567\u001b[0m                 and (self.max_depth is None or depth <= self.max_depth)):\n\u001b[0;32m--> 568\u001b[0;31m             children = [self._make_tree(et.children_left[node_id], et,\n\u001b[0m\u001b[1;32m    569\u001b[0m                                         criterion, depth=depth + 1),\n\u001b[1;32m    570\u001b[0m                         self._make_tree(et.children_right[node_id], et,\n",
      "\u001b[0;32m~/docos/uni/tb2/applied-data-science/coursework/privacy_decisions/.venv/lib/python3.9/site-packages/sklearn/tree/_export.py\u001b[0m in \u001b[0;36m_make_tree\u001b[0;34m(self, node_id, et, criterion, depth)\u001b[0m\n\u001b[1;32m    566\u001b[0m         if (et.children_left[node_id] != _tree.TREE_LEAF\n\u001b[1;32m    567\u001b[0m                 and (self.max_depth is None or depth <= self.max_depth)):\n\u001b[0;32m--> 568\u001b[0;31m             children = [self._make_tree(et.children_left[node_id], et,\n\u001b[0m\u001b[1;32m    569\u001b[0m                                         criterion, depth=depth + 1),\n\u001b[1;32m    570\u001b[0m                         self._make_tree(et.children_right[node_id], et,\n",
      "\u001b[0;32m~/docos/uni/tb2/applied-data-science/coursework/privacy_decisions/.venv/lib/python3.9/site-packages/sklearn/tree/_export.py\u001b[0m in \u001b[0;36m_make_tree\u001b[0;34m(self, node_id, et, criterion, depth)\u001b[0m\n\u001b[1;32m    566\u001b[0m         if (et.children_left[node_id] != _tree.TREE_LEAF\n\u001b[1;32m    567\u001b[0m                 and (self.max_depth is None or depth <= self.max_depth)):\n\u001b[0;32m--> 568\u001b[0;31m             children = [self._make_tree(et.children_left[node_id], et,\n\u001b[0m\u001b[1;32m    569\u001b[0m                                         criterion, depth=depth + 1),\n\u001b[1;32m    570\u001b[0m                         self._make_tree(et.children_right[node_id], et,\n",
      "\u001b[0;32m~/docos/uni/tb2/applied-data-science/coursework/privacy_decisions/.venv/lib/python3.9/site-packages/sklearn/tree/_export.py\u001b[0m in \u001b[0;36m_make_tree\u001b[0;34m(self, node_id, et, criterion, depth)\u001b[0m\n\u001b[1;32m    566\u001b[0m         if (et.children_left[node_id] != _tree.TREE_LEAF\n\u001b[1;32m    567\u001b[0m                 and (self.max_depth is None or depth <= self.max_depth)):\n\u001b[0;32m--> 568\u001b[0;31m             children = [self._make_tree(et.children_left[node_id], et,\n\u001b[0m\u001b[1;32m    569\u001b[0m                                         criterion, depth=depth + 1),\n\u001b[1;32m    570\u001b[0m                         self._make_tree(et.children_right[node_id], et,\n",
      "\u001b[0;32m~/docos/uni/tb2/applied-data-science/coursework/privacy_decisions/.venv/lib/python3.9/site-packages/sklearn/tree/_export.py\u001b[0m in \u001b[0;36m_make_tree\u001b[0;34m(self, node_id, et, criterion, depth)\u001b[0m\n\u001b[1;32m    566\u001b[0m         if (et.children_left[node_id] != _tree.TREE_LEAF\n\u001b[1;32m    567\u001b[0m                 and (self.max_depth is None or depth <= self.max_depth)):\n\u001b[0;32m--> 568\u001b[0;31m             children = [self._make_tree(et.children_left[node_id], et,\n\u001b[0m\u001b[1;32m    569\u001b[0m                                         criterion, depth=depth + 1),\n\u001b[1;32m    570\u001b[0m                         self._make_tree(et.children_right[node_id], et,\n",
      "\u001b[0;32m~/docos/uni/tb2/applied-data-science/coursework/privacy_decisions/.venv/lib/python3.9/site-packages/sklearn/tree/_export.py\u001b[0m in \u001b[0;36m_make_tree\u001b[0;34m(self, node_id, et, criterion, depth)\u001b[0m\n\u001b[1;32m    566\u001b[0m         if (et.children_left[node_id] != _tree.TREE_LEAF\n\u001b[1;32m    567\u001b[0m                 and (self.max_depth is None or depth <= self.max_depth)):\n\u001b[0;32m--> 568\u001b[0;31m             children = [self._make_tree(et.children_left[node_id], et,\n\u001b[0m\u001b[1;32m    569\u001b[0m                                         criterion, depth=depth + 1),\n\u001b[1;32m    570\u001b[0m                         self._make_tree(et.children_right[node_id], et,\n",
      "\u001b[0;32m~/docos/uni/tb2/applied-data-science/coursework/privacy_decisions/.venv/lib/python3.9/site-packages/sklearn/tree/_export.py\u001b[0m in \u001b[0;36m_make_tree\u001b[0;34m(self, node_id, et, criterion, depth)\u001b[0m\n\u001b[1;32m    566\u001b[0m         if (et.children_left[node_id] != _tree.TREE_LEAF\n\u001b[1;32m    567\u001b[0m                 and (self.max_depth is None or depth <= self.max_depth)):\n\u001b[0;32m--> 568\u001b[0;31m             children = [self._make_tree(et.children_left[node_id], et,\n\u001b[0m\u001b[1;32m    569\u001b[0m                                         criterion, depth=depth + 1),\n\u001b[1;32m    570\u001b[0m                         self._make_tree(et.children_right[node_id], et,\n",
      "\u001b[0;32m~/docos/uni/tb2/applied-data-science/coursework/privacy_decisions/.venv/lib/python3.9/site-packages/sklearn/tree/_export.py\u001b[0m in \u001b[0;36m_make_tree\u001b[0;34m(self, node_id, et, criterion, depth)\u001b[0m\n\u001b[1;32m    566\u001b[0m         if (et.children_left[node_id] != _tree.TREE_LEAF\n\u001b[1;32m    567\u001b[0m                 and (self.max_depth is None or depth <= self.max_depth)):\n\u001b[0;32m--> 568\u001b[0;31m             children = [self._make_tree(et.children_left[node_id], et,\n\u001b[0m\u001b[1;32m    569\u001b[0m                                         criterion, depth=depth + 1),\n\u001b[1;32m    570\u001b[0m                         self._make_tree(et.children_right[node_id], et,\n",
      "\u001b[0;32m~/docos/uni/tb2/applied-data-science/coursework/privacy_decisions/.venv/lib/python3.9/site-packages/sklearn/tree/_export.py\u001b[0m in \u001b[0;36m_make_tree\u001b[0;34m(self, node_id, et, criterion, depth)\u001b[0m\n\u001b[1;32m    566\u001b[0m         if (et.children_left[node_id] != _tree.TREE_LEAF\n\u001b[1;32m    567\u001b[0m                 and (self.max_depth is None or depth <= self.max_depth)):\n\u001b[0;32m--> 568\u001b[0;31m             children = [self._make_tree(et.children_left[node_id], et,\n\u001b[0m\u001b[1;32m    569\u001b[0m                                         criterion, depth=depth + 1),\n\u001b[1;32m    570\u001b[0m                         self._make_tree(et.children_right[node_id], et,\n",
      "\u001b[0;32m~/docos/uni/tb2/applied-data-science/coursework/privacy_decisions/.venv/lib/python3.9/site-packages/sklearn/tree/_export.py\u001b[0m in \u001b[0;36m_make_tree\u001b[0;34m(self, node_id, et, criterion, depth)\u001b[0m\n\u001b[1;32m    566\u001b[0m         if (et.children_left[node_id] != _tree.TREE_LEAF\n\u001b[1;32m    567\u001b[0m                 and (self.max_depth is None or depth <= self.max_depth)):\n\u001b[0;32m--> 568\u001b[0;31m             children = [self._make_tree(et.children_left[node_id], et,\n\u001b[0m\u001b[1;32m    569\u001b[0m                                         criterion, depth=depth + 1),\n\u001b[1;32m    570\u001b[0m                         self._make_tree(et.children_right[node_id], et,\n",
      "\u001b[0;32m~/docos/uni/tb2/applied-data-science/coursework/privacy_decisions/.venv/lib/python3.9/site-packages/sklearn/tree/_export.py\u001b[0m in \u001b[0;36m_make_tree\u001b[0;34m(self, node_id, et, criterion, depth)\u001b[0m\n\u001b[1;32m    566\u001b[0m         if (et.children_left[node_id] != _tree.TREE_LEAF\n\u001b[1;32m    567\u001b[0m                 and (self.max_depth is None or depth <= self.max_depth)):\n\u001b[0;32m--> 568\u001b[0;31m             children = [self._make_tree(et.children_left[node_id], et,\n\u001b[0m\u001b[1;32m    569\u001b[0m                                         criterion, depth=depth + 1),\n\u001b[1;32m    570\u001b[0m                         self._make_tree(et.children_right[node_id], et,\n",
      "\u001b[0;32m~/docos/uni/tb2/applied-data-science/coursework/privacy_decisions/.venv/lib/python3.9/site-packages/sklearn/tree/_export.py\u001b[0m in \u001b[0;36m_make_tree\u001b[0;34m(self, node_id, et, criterion, depth)\u001b[0m\n\u001b[1;32m    566\u001b[0m         if (et.children_left[node_id] != _tree.TREE_LEAF\n\u001b[1;32m    567\u001b[0m                 and (self.max_depth is None or depth <= self.max_depth)):\n\u001b[0;32m--> 568\u001b[0;31m             children = [self._make_tree(et.children_left[node_id], et,\n\u001b[0m\u001b[1;32m    569\u001b[0m                                         criterion, depth=depth + 1),\n\u001b[1;32m    570\u001b[0m                         self._make_tree(et.children_right[node_id], et,\n",
      "\u001b[0;32m~/docos/uni/tb2/applied-data-science/coursework/privacy_decisions/.venv/lib/python3.9/site-packages/sklearn/tree/_export.py\u001b[0m in \u001b[0;36m_make_tree\u001b[0;34m(self, node_id, et, criterion, depth)\u001b[0m\n\u001b[1;32m    563\u001b[0m         \u001b[0;31m# traverses _tree.Tree recursively, builds intermediate\u001b[0m\u001b[0;34m\u001b[0m\u001b[0;34m\u001b[0m\u001b[0;34m\u001b[0m\u001b[0m\n\u001b[1;32m    564\u001b[0m         \u001b[0;31m# \"_reingold_tilford.Tree\" object\u001b[0m\u001b[0;34m\u001b[0m\u001b[0;34m\u001b[0m\u001b[0;34m\u001b[0m\u001b[0m\n\u001b[0;32m--> 565\u001b[0;31m         \u001b[0mname\u001b[0m \u001b[0;34m=\u001b[0m \u001b[0mself\u001b[0m\u001b[0;34m.\u001b[0m\u001b[0mnode_to_str\u001b[0m\u001b[0;34m(\u001b[0m\u001b[0met\u001b[0m\u001b[0;34m,\u001b[0m \u001b[0mnode_id\u001b[0m\u001b[0;34m,\u001b[0m \u001b[0mcriterion\u001b[0m\u001b[0;34m=\u001b[0m\u001b[0mcriterion\u001b[0m\u001b[0;34m)\u001b[0m\u001b[0;34m\u001b[0m\u001b[0;34m\u001b[0m\u001b[0m\n\u001b[0m\u001b[1;32m    566\u001b[0m         if (et.children_left[node_id] != _tree.TREE_LEAF\n\u001b[1;32m    567\u001b[0m                 and (self.max_depth is None or depth <= self.max_depth)):\n",
      "\u001b[0;32m~/docos/uni/tb2/applied-data-science/coursework/privacy_decisions/.venv/lib/python3.9/site-packages/sklearn/tree/_export.py\u001b[0m in \u001b[0;36mnode_to_str\u001b[0;34m(self, tree, node_id, criterion)\u001b[0m\n\u001b[1;32m    339\u001b[0m         \u001b[0;31m# Strip whitespace\u001b[0m\u001b[0;34m\u001b[0m\u001b[0;34m\u001b[0m\u001b[0;34m\u001b[0m\u001b[0m\n\u001b[1;32m    340\u001b[0m         \u001b[0mvalue_text\u001b[0m \u001b[0;34m=\u001b[0m \u001b[0mstr\u001b[0m\u001b[0;34m(\u001b[0m\u001b[0mvalue_text\u001b[0m\u001b[0;34m.\u001b[0m\u001b[0mastype\u001b[0m\u001b[0;34m(\u001b[0m\u001b[0;34m'S32'\u001b[0m\u001b[0;34m)\u001b[0m\u001b[0;34m)\u001b[0m\u001b[0;34m.\u001b[0m\u001b[0mreplace\u001b[0m\u001b[0;34m(\u001b[0m\u001b[0;34m\"b'\"\u001b[0m\u001b[0;34m,\u001b[0m \u001b[0;34m\"'\"\u001b[0m\u001b[0;34m)\u001b[0m\u001b[0;34m\u001b[0m\u001b[0;34m\u001b[0m\u001b[0m\n\u001b[0;32m--> 341\u001b[0;31m         \u001b[0mvalue_text\u001b[0m \u001b[0;34m=\u001b[0m \u001b[0mvalue_text\u001b[0m\u001b[0;34m.\u001b[0m\u001b[0mreplace\u001b[0m\u001b[0;34m(\u001b[0m\u001b[0;34m\"' '\"\u001b[0m\u001b[0;34m,\u001b[0m \u001b[0;34m\", \"\u001b[0m\u001b[0;34m)\u001b[0m\u001b[0;34m.\u001b[0m\u001b[0mreplace\u001b[0m\u001b[0;34m(\u001b[0m\u001b[0;34m\"'\"\u001b[0m\u001b[0;34m,\u001b[0m \u001b[0;34m\"\"\u001b[0m\u001b[0;34m)\u001b[0m\u001b[0;34m\u001b[0m\u001b[0;34m\u001b[0m\u001b[0m\n\u001b[0m\u001b[1;32m    342\u001b[0m         \u001b[0;32mif\u001b[0m \u001b[0mtree\u001b[0m\u001b[0;34m.\u001b[0m\u001b[0mn_classes\u001b[0m\u001b[0;34m[\u001b[0m\u001b[0;36m0\u001b[0m\u001b[0;34m]\u001b[0m \u001b[0;34m==\u001b[0m \u001b[0;36m1\u001b[0m \u001b[0;32mand\u001b[0m \u001b[0mtree\u001b[0m\u001b[0;34m.\u001b[0m\u001b[0mn_outputs\u001b[0m \u001b[0;34m==\u001b[0m \u001b[0;36m1\u001b[0m\u001b[0;34m:\u001b[0m\u001b[0;34m\u001b[0m\u001b[0;34m\u001b[0m\u001b[0m\n\u001b[1;32m    343\u001b[0m             \u001b[0mvalue_text\u001b[0m \u001b[0;34m=\u001b[0m \u001b[0mvalue_text\u001b[0m\u001b[0;34m.\u001b[0m\u001b[0mreplace\u001b[0m\u001b[0;34m(\u001b[0m\u001b[0;34m\"[\"\u001b[0m\u001b[0;34m,\u001b[0m \u001b[0;34m\"\"\u001b[0m\u001b[0;34m)\u001b[0m\u001b[0;34m.\u001b[0m\u001b[0mreplace\u001b[0m\u001b[0;34m(\u001b[0m\u001b[0;34m\"]\"\u001b[0m\u001b[0;34m,\u001b[0m \u001b[0;34m\"\"\u001b[0m\u001b[0;34m)\u001b[0m\u001b[0;34m\u001b[0m\u001b[0;34m\u001b[0m\u001b[0m\n",
      "\u001b[0;31mKeyboardInterrupt\u001b[0m: "
     ]
    },
    {
     "name": "stdout",
     "output_type": "stream",
     "text": [
      "Error in callback <function flush_figures at 0x7f6983343550> (for post_execute):\n"
     ]
    },
    {
     "ename": "KeyboardInterrupt",
     "evalue": "",
     "output_type": "error",
     "traceback": [
      "\u001b[0;31m---------------------------------------------------------------------------\u001b[0m",
      "\u001b[0;31mKeyboardInterrupt\u001b[0m                         Traceback (most recent call last)",
      "\u001b[0;32m~/docos/uni/tb2/applied-data-science/coursework/privacy_decisions/.venv/lib/python3.9/site-packages/ipykernel/pylab/backend_inline.py\u001b[0m in \u001b[0;36mflush_figures\u001b[0;34m()\u001b[0m\n\u001b[1;32m    118\u001b[0m         \u001b[0;31m# ignore the tracking, just draw and close all figures\u001b[0m\u001b[0;34m\u001b[0m\u001b[0;34m\u001b[0m\u001b[0;34m\u001b[0m\u001b[0m\n\u001b[1;32m    119\u001b[0m         \u001b[0;32mtry\u001b[0m\u001b[0;34m:\u001b[0m\u001b[0;34m\u001b[0m\u001b[0;34m\u001b[0m\u001b[0m\n\u001b[0;32m--> 120\u001b[0;31m             \u001b[0;32mreturn\u001b[0m \u001b[0mshow\u001b[0m\u001b[0;34m(\u001b[0m\u001b[0;32mTrue\u001b[0m\u001b[0;34m)\u001b[0m\u001b[0;34m\u001b[0m\u001b[0;34m\u001b[0m\u001b[0m\n\u001b[0m\u001b[1;32m    121\u001b[0m         \u001b[0;32mexcept\u001b[0m \u001b[0mException\u001b[0m \u001b[0;32mas\u001b[0m \u001b[0me\u001b[0m\u001b[0;34m:\u001b[0m\u001b[0;34m\u001b[0m\u001b[0;34m\u001b[0m\u001b[0m\n\u001b[1;32m    122\u001b[0m             \u001b[0;31m# safely show traceback if in IPython, else raise\u001b[0m\u001b[0;34m\u001b[0m\u001b[0;34m\u001b[0m\u001b[0;34m\u001b[0m\u001b[0m\n",
      "\u001b[0;32m~/docos/uni/tb2/applied-data-science/coursework/privacy_decisions/.venv/lib/python3.9/site-packages/ipykernel/pylab/backend_inline.py\u001b[0m in \u001b[0;36mshow\u001b[0;34m(close, block)\u001b[0m\n\u001b[1;32m     38\u001b[0m     \u001b[0;32mtry\u001b[0m\u001b[0;34m:\u001b[0m\u001b[0;34m\u001b[0m\u001b[0;34m\u001b[0m\u001b[0m\n\u001b[1;32m     39\u001b[0m         \u001b[0;32mfor\u001b[0m \u001b[0mfigure_manager\u001b[0m \u001b[0;32min\u001b[0m \u001b[0mGcf\u001b[0m\u001b[0;34m.\u001b[0m\u001b[0mget_all_fig_managers\u001b[0m\u001b[0;34m(\u001b[0m\u001b[0;34m)\u001b[0m\u001b[0;34m:\u001b[0m\u001b[0;34m\u001b[0m\u001b[0;34m\u001b[0m\u001b[0m\n\u001b[0;32m---> 40\u001b[0;31m             display(\n\u001b[0m\u001b[1;32m     41\u001b[0m                 \u001b[0mfigure_manager\u001b[0m\u001b[0;34m.\u001b[0m\u001b[0mcanvas\u001b[0m\u001b[0;34m.\u001b[0m\u001b[0mfigure\u001b[0m\u001b[0;34m,\u001b[0m\u001b[0;34m\u001b[0m\u001b[0;34m\u001b[0m\u001b[0m\n\u001b[1;32m     42\u001b[0m                 \u001b[0mmetadata\u001b[0m\u001b[0;34m=\u001b[0m\u001b[0m_fetch_figure_metadata\u001b[0m\u001b[0;34m(\u001b[0m\u001b[0mfigure_manager\u001b[0m\u001b[0;34m.\u001b[0m\u001b[0mcanvas\u001b[0m\u001b[0;34m.\u001b[0m\u001b[0mfigure\u001b[0m\u001b[0;34m)\u001b[0m\u001b[0;34m\u001b[0m\u001b[0;34m\u001b[0m\u001b[0m\n",
      "\u001b[0;32m~/docos/uni/tb2/applied-data-science/coursework/privacy_decisions/.venv/lib/python3.9/site-packages/IPython/core/display.py\u001b[0m in \u001b[0;36mdisplay\u001b[0;34m(include, exclude, metadata, transient, display_id, *objs, **kwargs)\u001b[0m\n\u001b[1;32m    311\u001b[0m             \u001b[0mpublish_display_data\u001b[0m\u001b[0;34m(\u001b[0m\u001b[0mdata\u001b[0m\u001b[0;34m=\u001b[0m\u001b[0mobj\u001b[0m\u001b[0;34m,\u001b[0m \u001b[0mmetadata\u001b[0m\u001b[0;34m=\u001b[0m\u001b[0mmetadata\u001b[0m\u001b[0;34m,\u001b[0m \u001b[0;34m**\u001b[0m\u001b[0mkwargs\u001b[0m\u001b[0;34m)\u001b[0m\u001b[0;34m\u001b[0m\u001b[0;34m\u001b[0m\u001b[0m\n\u001b[1;32m    312\u001b[0m         \u001b[0;32melse\u001b[0m\u001b[0;34m:\u001b[0m\u001b[0;34m\u001b[0m\u001b[0;34m\u001b[0m\u001b[0m\n\u001b[0;32m--> 313\u001b[0;31m             \u001b[0mformat_dict\u001b[0m\u001b[0;34m,\u001b[0m \u001b[0mmd_dict\u001b[0m \u001b[0;34m=\u001b[0m \u001b[0mformat\u001b[0m\u001b[0;34m(\u001b[0m\u001b[0mobj\u001b[0m\u001b[0;34m,\u001b[0m \u001b[0minclude\u001b[0m\u001b[0;34m=\u001b[0m\u001b[0minclude\u001b[0m\u001b[0;34m,\u001b[0m \u001b[0mexclude\u001b[0m\u001b[0;34m=\u001b[0m\u001b[0mexclude\u001b[0m\u001b[0;34m)\u001b[0m\u001b[0;34m\u001b[0m\u001b[0;34m\u001b[0m\u001b[0m\n\u001b[0m\u001b[1;32m    314\u001b[0m             \u001b[0;32mif\u001b[0m \u001b[0;32mnot\u001b[0m \u001b[0mformat_dict\u001b[0m\u001b[0;34m:\u001b[0m\u001b[0;34m\u001b[0m\u001b[0;34m\u001b[0m\u001b[0m\n\u001b[1;32m    315\u001b[0m                 \u001b[0;31m# nothing to display (e.g. _ipython_display_ took over)\u001b[0m\u001b[0;34m\u001b[0m\u001b[0;34m\u001b[0m\u001b[0;34m\u001b[0m\u001b[0m\n",
      "\u001b[0;32m~/docos/uni/tb2/applied-data-science/coursework/privacy_decisions/.venv/lib/python3.9/site-packages/IPython/core/formatters.py\u001b[0m in \u001b[0;36mformat\u001b[0;34m(self, obj, include, exclude)\u001b[0m\n\u001b[1;32m    178\u001b[0m             \u001b[0mmd\u001b[0m \u001b[0;34m=\u001b[0m \u001b[0;32mNone\u001b[0m\u001b[0;34m\u001b[0m\u001b[0;34m\u001b[0m\u001b[0m\n\u001b[1;32m    179\u001b[0m             \u001b[0;32mtry\u001b[0m\u001b[0;34m:\u001b[0m\u001b[0;34m\u001b[0m\u001b[0;34m\u001b[0m\u001b[0m\n\u001b[0;32m--> 180\u001b[0;31m                 \u001b[0mdata\u001b[0m \u001b[0;34m=\u001b[0m \u001b[0mformatter\u001b[0m\u001b[0;34m(\u001b[0m\u001b[0mobj\u001b[0m\u001b[0;34m)\u001b[0m\u001b[0;34m\u001b[0m\u001b[0;34m\u001b[0m\u001b[0m\n\u001b[0m\u001b[1;32m    181\u001b[0m             \u001b[0;32mexcept\u001b[0m\u001b[0;34m:\u001b[0m\u001b[0;34m\u001b[0m\u001b[0;34m\u001b[0m\u001b[0m\n\u001b[1;32m    182\u001b[0m                 \u001b[0;31m# FIXME: log the exception\u001b[0m\u001b[0;34m\u001b[0m\u001b[0;34m\u001b[0m\u001b[0;34m\u001b[0m\u001b[0m\n",
      "\u001b[0;32m<decorator-gen-2>\u001b[0m in \u001b[0;36m__call__\u001b[0;34m(self, obj)\u001b[0m\n",
      "\u001b[0;32m~/docos/uni/tb2/applied-data-science/coursework/privacy_decisions/.venv/lib/python3.9/site-packages/IPython/core/formatters.py\u001b[0m in \u001b[0;36mcatch_format_error\u001b[0;34m(method, self, *args, **kwargs)\u001b[0m\n\u001b[1;32m    222\u001b[0m     \u001b[0;34m\"\"\"show traceback on failed format call\"\"\"\u001b[0m\u001b[0;34m\u001b[0m\u001b[0;34m\u001b[0m\u001b[0m\n\u001b[1;32m    223\u001b[0m     \u001b[0;32mtry\u001b[0m\u001b[0;34m:\u001b[0m\u001b[0;34m\u001b[0m\u001b[0;34m\u001b[0m\u001b[0m\n\u001b[0;32m--> 224\u001b[0;31m         \u001b[0mr\u001b[0m \u001b[0;34m=\u001b[0m \u001b[0mmethod\u001b[0m\u001b[0;34m(\u001b[0m\u001b[0mself\u001b[0m\u001b[0;34m,\u001b[0m \u001b[0;34m*\u001b[0m\u001b[0margs\u001b[0m\u001b[0;34m,\u001b[0m \u001b[0;34m**\u001b[0m\u001b[0mkwargs\u001b[0m\u001b[0;34m)\u001b[0m\u001b[0;34m\u001b[0m\u001b[0;34m\u001b[0m\u001b[0m\n\u001b[0m\u001b[1;32m    225\u001b[0m     \u001b[0;32mexcept\u001b[0m \u001b[0mNotImplementedError\u001b[0m\u001b[0;34m:\u001b[0m\u001b[0;34m\u001b[0m\u001b[0;34m\u001b[0m\u001b[0m\n\u001b[1;32m    226\u001b[0m         \u001b[0;31m# don't warn on NotImplementedErrors\u001b[0m\u001b[0;34m\u001b[0m\u001b[0;34m\u001b[0m\u001b[0;34m\u001b[0m\u001b[0m\n",
      "\u001b[0;32m~/docos/uni/tb2/applied-data-science/coursework/privacy_decisions/.venv/lib/python3.9/site-packages/IPython/core/formatters.py\u001b[0m in \u001b[0;36m__call__\u001b[0;34m(self, obj)\u001b[0m\n\u001b[1;32m    339\u001b[0m                 \u001b[0;32mpass\u001b[0m\u001b[0;34m\u001b[0m\u001b[0;34m\u001b[0m\u001b[0m\n\u001b[1;32m    340\u001b[0m             \u001b[0;32melse\u001b[0m\u001b[0;34m:\u001b[0m\u001b[0;34m\u001b[0m\u001b[0;34m\u001b[0m\u001b[0m\n\u001b[0;32m--> 341\u001b[0;31m                 \u001b[0;32mreturn\u001b[0m \u001b[0mprinter\u001b[0m\u001b[0;34m(\u001b[0m\u001b[0mobj\u001b[0m\u001b[0;34m)\u001b[0m\u001b[0;34m\u001b[0m\u001b[0;34m\u001b[0m\u001b[0m\n\u001b[0m\u001b[1;32m    342\u001b[0m             \u001b[0;31m# Finally look for special method names\u001b[0m\u001b[0;34m\u001b[0m\u001b[0;34m\u001b[0m\u001b[0;34m\u001b[0m\u001b[0m\n\u001b[1;32m    343\u001b[0m             \u001b[0mmethod\u001b[0m \u001b[0;34m=\u001b[0m \u001b[0mget_real_method\u001b[0m\u001b[0;34m(\u001b[0m\u001b[0mobj\u001b[0m\u001b[0;34m,\u001b[0m \u001b[0mself\u001b[0m\u001b[0;34m.\u001b[0m\u001b[0mprint_method\u001b[0m\u001b[0;34m)\u001b[0m\u001b[0;34m\u001b[0m\u001b[0;34m\u001b[0m\u001b[0m\n",
      "\u001b[0;32m~/docos/uni/tb2/applied-data-science/coursework/privacy_decisions/.venv/lib/python3.9/site-packages/IPython/core/pylabtools.py\u001b[0m in \u001b[0;36m<lambda>\u001b[0;34m(fig)\u001b[0m\n\u001b[1;32m    246\u001b[0m \u001b[0;34m\u001b[0m\u001b[0m\n\u001b[1;32m    247\u001b[0m     \u001b[0;32mif\u001b[0m \u001b[0;34m'png'\u001b[0m \u001b[0;32min\u001b[0m \u001b[0mformats\u001b[0m\u001b[0;34m:\u001b[0m\u001b[0;34m\u001b[0m\u001b[0;34m\u001b[0m\u001b[0m\n\u001b[0;32m--> 248\u001b[0;31m         \u001b[0mpng_formatter\u001b[0m\u001b[0;34m.\u001b[0m\u001b[0mfor_type\u001b[0m\u001b[0;34m(\u001b[0m\u001b[0mFigure\u001b[0m\u001b[0;34m,\u001b[0m \u001b[0;32mlambda\u001b[0m \u001b[0mfig\u001b[0m\u001b[0;34m:\u001b[0m \u001b[0mprint_figure\u001b[0m\u001b[0;34m(\u001b[0m\u001b[0mfig\u001b[0m\u001b[0;34m,\u001b[0m \u001b[0;34m'png'\u001b[0m\u001b[0;34m,\u001b[0m \u001b[0;34m**\u001b[0m\u001b[0mkwargs\u001b[0m\u001b[0;34m)\u001b[0m\u001b[0;34m)\u001b[0m\u001b[0;34m\u001b[0m\u001b[0;34m\u001b[0m\u001b[0m\n\u001b[0m\u001b[1;32m    249\u001b[0m     \u001b[0;32mif\u001b[0m \u001b[0;34m'retina'\u001b[0m \u001b[0;32min\u001b[0m \u001b[0mformats\u001b[0m \u001b[0;32mor\u001b[0m \u001b[0;34m'png2x'\u001b[0m \u001b[0;32min\u001b[0m \u001b[0mformats\u001b[0m\u001b[0;34m:\u001b[0m\u001b[0;34m\u001b[0m\u001b[0;34m\u001b[0m\u001b[0m\n\u001b[1;32m    250\u001b[0m         \u001b[0mpng_formatter\u001b[0m\u001b[0;34m.\u001b[0m\u001b[0mfor_type\u001b[0m\u001b[0;34m(\u001b[0m\u001b[0mFigure\u001b[0m\u001b[0;34m,\u001b[0m \u001b[0;32mlambda\u001b[0m \u001b[0mfig\u001b[0m\u001b[0;34m:\u001b[0m \u001b[0mretina_figure\u001b[0m\u001b[0;34m(\u001b[0m\u001b[0mfig\u001b[0m\u001b[0;34m,\u001b[0m \u001b[0;34m**\u001b[0m\u001b[0mkwargs\u001b[0m\u001b[0;34m)\u001b[0m\u001b[0;34m)\u001b[0m\u001b[0;34m\u001b[0m\u001b[0;34m\u001b[0m\u001b[0m\n",
      "\u001b[0;32m~/docos/uni/tb2/applied-data-science/coursework/privacy_decisions/.venv/lib/python3.9/site-packages/IPython/core/pylabtools.py\u001b[0m in \u001b[0;36mprint_figure\u001b[0;34m(fig, fmt, bbox_inches, **kwargs)\u001b[0m\n\u001b[1;32m    130\u001b[0m         \u001b[0mFigureCanvasBase\u001b[0m\u001b[0;34m(\u001b[0m\u001b[0mfig\u001b[0m\u001b[0;34m)\u001b[0m\u001b[0;34m\u001b[0m\u001b[0;34m\u001b[0m\u001b[0m\n\u001b[1;32m    131\u001b[0m \u001b[0;34m\u001b[0m\u001b[0m\n\u001b[0;32m--> 132\u001b[0;31m     \u001b[0mfig\u001b[0m\u001b[0;34m.\u001b[0m\u001b[0mcanvas\u001b[0m\u001b[0;34m.\u001b[0m\u001b[0mprint_figure\u001b[0m\u001b[0;34m(\u001b[0m\u001b[0mbytes_io\u001b[0m\u001b[0;34m,\u001b[0m \u001b[0;34m**\u001b[0m\u001b[0mkw\u001b[0m\u001b[0;34m)\u001b[0m\u001b[0;34m\u001b[0m\u001b[0;34m\u001b[0m\u001b[0m\n\u001b[0m\u001b[1;32m    133\u001b[0m     \u001b[0mdata\u001b[0m \u001b[0;34m=\u001b[0m \u001b[0mbytes_io\u001b[0m\u001b[0;34m.\u001b[0m\u001b[0mgetvalue\u001b[0m\u001b[0;34m(\u001b[0m\u001b[0;34m)\u001b[0m\u001b[0;34m\u001b[0m\u001b[0;34m\u001b[0m\u001b[0m\n\u001b[1;32m    134\u001b[0m     \u001b[0;32mif\u001b[0m \u001b[0mfmt\u001b[0m \u001b[0;34m==\u001b[0m \u001b[0;34m'svg'\u001b[0m\u001b[0;34m:\u001b[0m\u001b[0;34m\u001b[0m\u001b[0;34m\u001b[0m\u001b[0m\n",
      "\u001b[0;32m~/docos/uni/tb2/applied-data-science/coursework/privacy_decisions/.venv/lib/python3.9/site-packages/matplotlib/backend_bases.py\u001b[0m in \u001b[0;36mprint_figure\u001b[0;34m(self, filename, dpi, facecolor, edgecolor, orientation, format, bbox_inches, pad_inches, bbox_extra_artists, backend, **kwargs)\u001b[0m\n\u001b[1;32m   2253\u001b[0m                 \u001b[0;31m# force the figure dpi to 72), so we need to set it again here.\u001b[0m\u001b[0;34m\u001b[0m\u001b[0;34m\u001b[0m\u001b[0;34m\u001b[0m\u001b[0m\n\u001b[1;32m   2254\u001b[0m                 \u001b[0;32mwith\u001b[0m \u001b[0mcbook\u001b[0m\u001b[0;34m.\u001b[0m\u001b[0m_setattr_cm\u001b[0m\u001b[0;34m(\u001b[0m\u001b[0mself\u001b[0m\u001b[0;34m.\u001b[0m\u001b[0mfigure\u001b[0m\u001b[0;34m,\u001b[0m \u001b[0mdpi\u001b[0m\u001b[0;34m=\u001b[0m\u001b[0mdpi\u001b[0m\u001b[0;34m)\u001b[0m\u001b[0;34m:\u001b[0m\u001b[0;34m\u001b[0m\u001b[0;34m\u001b[0m\u001b[0m\n\u001b[0;32m-> 2255\u001b[0;31m                     result = print_method(\n\u001b[0m\u001b[1;32m   2256\u001b[0m                         \u001b[0mfilename\u001b[0m\u001b[0;34m,\u001b[0m\u001b[0;34m\u001b[0m\u001b[0;34m\u001b[0m\u001b[0m\n\u001b[1;32m   2257\u001b[0m                         \u001b[0mfacecolor\u001b[0m\u001b[0;34m=\u001b[0m\u001b[0mfacecolor\u001b[0m\u001b[0;34m,\u001b[0m\u001b[0;34m\u001b[0m\u001b[0;34m\u001b[0m\u001b[0m\n",
      "\u001b[0;32m~/docos/uni/tb2/applied-data-science/coursework/privacy_decisions/.venv/lib/python3.9/site-packages/matplotlib/backend_bases.py\u001b[0m in \u001b[0;36mwrapper\u001b[0;34m(*args, **kwargs)\u001b[0m\n\u001b[1;32m   1667\u001b[0m             \u001b[0mkwargs\u001b[0m\u001b[0;34m.\u001b[0m\u001b[0mpop\u001b[0m\u001b[0;34m(\u001b[0m\u001b[0marg\u001b[0m\u001b[0;34m)\u001b[0m\u001b[0;34m\u001b[0m\u001b[0;34m\u001b[0m\u001b[0m\n\u001b[1;32m   1668\u001b[0m \u001b[0;34m\u001b[0m\u001b[0m\n\u001b[0;32m-> 1669\u001b[0;31m         \u001b[0;32mreturn\u001b[0m \u001b[0mfunc\u001b[0m\u001b[0;34m(\u001b[0m\u001b[0;34m*\u001b[0m\u001b[0margs\u001b[0m\u001b[0;34m,\u001b[0m \u001b[0;34m**\u001b[0m\u001b[0mkwargs\u001b[0m\u001b[0;34m)\u001b[0m\u001b[0;34m\u001b[0m\u001b[0;34m\u001b[0m\u001b[0m\n\u001b[0m\u001b[1;32m   1670\u001b[0m \u001b[0;34m\u001b[0m\u001b[0m\n\u001b[1;32m   1671\u001b[0m     \u001b[0;32mreturn\u001b[0m \u001b[0mwrapper\u001b[0m\u001b[0;34m\u001b[0m\u001b[0;34m\u001b[0m\u001b[0m\n",
      "\u001b[0;32m~/docos/uni/tb2/applied-data-science/coursework/privacy_decisions/.venv/lib/python3.9/site-packages/matplotlib/backends/backend_agg.py\u001b[0m in \u001b[0;36mprint_png\u001b[0;34m(self, filename_or_obj, metadata, pil_kwargs, *args)\u001b[0m\n\u001b[1;32m    507\u001b[0m         \"\"\"\n\u001b[1;32m    508\u001b[0m         \u001b[0mFigureCanvasAgg\u001b[0m\u001b[0;34m.\u001b[0m\u001b[0mdraw\u001b[0m\u001b[0;34m(\u001b[0m\u001b[0mself\u001b[0m\u001b[0;34m)\u001b[0m\u001b[0;34m\u001b[0m\u001b[0;34m\u001b[0m\u001b[0m\n\u001b[0;32m--> 509\u001b[0;31m         mpl.image.imsave(\n\u001b[0m\u001b[1;32m    510\u001b[0m             \u001b[0mfilename_or_obj\u001b[0m\u001b[0;34m,\u001b[0m \u001b[0mself\u001b[0m\u001b[0;34m.\u001b[0m\u001b[0mbuffer_rgba\u001b[0m\u001b[0;34m(\u001b[0m\u001b[0;34m)\u001b[0m\u001b[0;34m,\u001b[0m \u001b[0mformat\u001b[0m\u001b[0;34m=\u001b[0m\u001b[0;34m\"png\"\u001b[0m\u001b[0;34m,\u001b[0m \u001b[0morigin\u001b[0m\u001b[0;34m=\u001b[0m\u001b[0;34m\"upper\"\u001b[0m\u001b[0;34m,\u001b[0m\u001b[0;34m\u001b[0m\u001b[0;34m\u001b[0m\u001b[0m\n\u001b[1;32m    511\u001b[0m             dpi=self.figure.dpi, metadata=metadata, pil_kwargs=pil_kwargs)\n",
      "\u001b[0;32m~/docos/uni/tb2/applied-data-science/coursework/privacy_decisions/.venv/lib/python3.9/site-packages/matplotlib/image.py\u001b[0m in \u001b[0;36mimsave\u001b[0;34m(fname, arr, vmin, vmax, cmap, format, origin, dpi, metadata, pil_kwargs)\u001b[0m\n\u001b[1;32m   1614\u001b[0m         \u001b[0mpil_kwargs\u001b[0m\u001b[0;34m.\u001b[0m\u001b[0msetdefault\u001b[0m\u001b[0;34m(\u001b[0m\u001b[0;34m\"format\"\u001b[0m\u001b[0;34m,\u001b[0m \u001b[0mformat\u001b[0m\u001b[0;34m)\u001b[0m\u001b[0;34m\u001b[0m\u001b[0;34m\u001b[0m\u001b[0m\n\u001b[1;32m   1615\u001b[0m         \u001b[0mpil_kwargs\u001b[0m\u001b[0;34m.\u001b[0m\u001b[0msetdefault\u001b[0m\u001b[0;34m(\u001b[0m\u001b[0;34m\"dpi\"\u001b[0m\u001b[0;34m,\u001b[0m \u001b[0;34m(\u001b[0m\u001b[0mdpi\u001b[0m\u001b[0;34m,\u001b[0m \u001b[0mdpi\u001b[0m\u001b[0;34m)\u001b[0m\u001b[0;34m)\u001b[0m\u001b[0;34m\u001b[0m\u001b[0;34m\u001b[0m\u001b[0m\n\u001b[0;32m-> 1616\u001b[0;31m         \u001b[0mimage\u001b[0m\u001b[0;34m.\u001b[0m\u001b[0msave\u001b[0m\u001b[0;34m(\u001b[0m\u001b[0mfname\u001b[0m\u001b[0;34m,\u001b[0m \u001b[0;34m**\u001b[0m\u001b[0mpil_kwargs\u001b[0m\u001b[0;34m)\u001b[0m\u001b[0;34m\u001b[0m\u001b[0;34m\u001b[0m\u001b[0m\n\u001b[0m\u001b[1;32m   1617\u001b[0m \u001b[0;34m\u001b[0m\u001b[0m\n\u001b[1;32m   1618\u001b[0m \u001b[0;34m\u001b[0m\u001b[0m\n",
      "\u001b[0;32m~/docos/uni/tb2/applied-data-science/coursework/privacy_decisions/.venv/lib/python3.9/site-packages/PIL/Image.py\u001b[0m in \u001b[0;36msave\u001b[0;34m(self, fp, format, **params)\u001b[0m\n\u001b[1;32m   2136\u001b[0m \u001b[0;34m\u001b[0m\u001b[0m\n\u001b[1;32m   2137\u001b[0m         \u001b[0;31m# may mutate self!\u001b[0m\u001b[0;34m\u001b[0m\u001b[0;34m\u001b[0m\u001b[0;34m\u001b[0m\u001b[0m\n\u001b[0;32m-> 2138\u001b[0;31m         \u001b[0mself\u001b[0m\u001b[0;34m.\u001b[0m\u001b[0m_ensure_mutable\u001b[0m\u001b[0;34m(\u001b[0m\u001b[0;34m)\u001b[0m\u001b[0;34m\u001b[0m\u001b[0;34m\u001b[0m\u001b[0m\n\u001b[0m\u001b[1;32m   2139\u001b[0m \u001b[0;34m\u001b[0m\u001b[0m\n\u001b[1;32m   2140\u001b[0m         \u001b[0msave_all\u001b[0m \u001b[0;34m=\u001b[0m \u001b[0mparams\u001b[0m\u001b[0;34m.\u001b[0m\u001b[0mpop\u001b[0m\u001b[0;34m(\u001b[0m\u001b[0;34m\"save_all\"\u001b[0m\u001b[0;34m,\u001b[0m \u001b[0;32mFalse\u001b[0m\u001b[0;34m)\u001b[0m\u001b[0;34m\u001b[0m\u001b[0;34m\u001b[0m\u001b[0m\n",
      "\u001b[0;32m~/docos/uni/tb2/applied-data-science/coursework/privacy_decisions/.venv/lib/python3.9/site-packages/PIL/Image.py\u001b[0m in \u001b[0;36m_ensure_mutable\u001b[0;34m(self)\u001b[0m\n\u001b[1;32m    617\u001b[0m     \u001b[0;32mdef\u001b[0m \u001b[0m_ensure_mutable\u001b[0m\u001b[0;34m(\u001b[0m\u001b[0mself\u001b[0m\u001b[0;34m)\u001b[0m\u001b[0;34m:\u001b[0m\u001b[0;34m\u001b[0m\u001b[0;34m\u001b[0m\u001b[0m\n\u001b[1;32m    618\u001b[0m         \u001b[0;32mif\u001b[0m \u001b[0mself\u001b[0m\u001b[0;34m.\u001b[0m\u001b[0mreadonly\u001b[0m\u001b[0;34m:\u001b[0m\u001b[0;34m\u001b[0m\u001b[0;34m\u001b[0m\u001b[0m\n\u001b[0;32m--> 619\u001b[0;31m             \u001b[0mself\u001b[0m\u001b[0;34m.\u001b[0m\u001b[0m_copy\u001b[0m\u001b[0;34m(\u001b[0m\u001b[0;34m)\u001b[0m\u001b[0;34m\u001b[0m\u001b[0;34m\u001b[0m\u001b[0m\n\u001b[0m\u001b[1;32m    620\u001b[0m         \u001b[0;32melse\u001b[0m\u001b[0;34m:\u001b[0m\u001b[0;34m\u001b[0m\u001b[0;34m\u001b[0m\u001b[0m\n\u001b[1;32m    621\u001b[0m             \u001b[0mself\u001b[0m\u001b[0;34m.\u001b[0m\u001b[0mload\u001b[0m\u001b[0;34m(\u001b[0m\u001b[0;34m)\u001b[0m\u001b[0;34m\u001b[0m\u001b[0;34m\u001b[0m\u001b[0m\n",
      "\u001b[0;32m~/docos/uni/tb2/applied-data-science/coursework/privacy_decisions/.venv/lib/python3.9/site-packages/PIL/Image.py\u001b[0m in \u001b[0;36m_copy\u001b[0;34m(self)\u001b[0m\n\u001b[1;32m    611\u001b[0m     \u001b[0;32mdef\u001b[0m \u001b[0m_copy\u001b[0m\u001b[0;34m(\u001b[0m\u001b[0mself\u001b[0m\u001b[0;34m)\u001b[0m\u001b[0;34m:\u001b[0m\u001b[0;34m\u001b[0m\u001b[0;34m\u001b[0m\u001b[0m\n\u001b[1;32m    612\u001b[0m         \u001b[0mself\u001b[0m\u001b[0;34m.\u001b[0m\u001b[0mload\u001b[0m\u001b[0;34m(\u001b[0m\u001b[0;34m)\u001b[0m\u001b[0;34m\u001b[0m\u001b[0;34m\u001b[0m\u001b[0m\n\u001b[0;32m--> 613\u001b[0;31m         \u001b[0mself\u001b[0m\u001b[0;34m.\u001b[0m\u001b[0mim\u001b[0m \u001b[0;34m=\u001b[0m \u001b[0mself\u001b[0m\u001b[0;34m.\u001b[0m\u001b[0mim\u001b[0m\u001b[0;34m.\u001b[0m\u001b[0mcopy\u001b[0m\u001b[0;34m(\u001b[0m\u001b[0;34m)\u001b[0m\u001b[0;34m\u001b[0m\u001b[0;34m\u001b[0m\u001b[0m\n\u001b[0m\u001b[1;32m    614\u001b[0m         \u001b[0mself\u001b[0m\u001b[0;34m.\u001b[0m\u001b[0mpyaccess\u001b[0m \u001b[0;34m=\u001b[0m \u001b[0;32mNone\u001b[0m\u001b[0;34m\u001b[0m\u001b[0;34m\u001b[0m\u001b[0m\n\u001b[1;32m    615\u001b[0m         \u001b[0mself\u001b[0m\u001b[0;34m.\u001b[0m\u001b[0mreadonly\u001b[0m \u001b[0;34m=\u001b[0m \u001b[0;36m0\u001b[0m\u001b[0;34m\u001b[0m\u001b[0;34m\u001b[0m\u001b[0m\n",
      "\u001b[0;31mKeyboardInterrupt\u001b[0m: "
     ]
    }
   ],
   "source": [
    "fig = plt.figure(figsize=(30, 30))\n",
    "_ = tree.plot_tree(\n",
    "    clf,\n",
    "#     feature_names=X.columns,\n",
    "#     class_names=[\"don't flag\", \"flag\"],\n",
    "    filled=True\n",
    ")"
   ]
  },
  {
   "cell_type": "markdown",
   "id": "eeda1b46",
   "metadata": {},
   "source": [
    "## SVM"
   ]
  },
  {
   "cell_type": "code",
   "execution_count": 72,
   "id": "1e541c9f",
   "metadata": {},
   "outputs": [],
   "source": [
    "from sklearn.svm import SVC"
   ]
  },
  {
   "cell_type": "code",
   "execution_count": 73,
   "id": "60409e94",
   "metadata": {},
   "outputs": [
    {
     "data": {
      "text/plain": [
       "SVC()"
      ]
     },
     "execution_count": 73,
     "metadata": {},
     "output_type": "execute_result"
    }
   ],
   "source": [
    "clf = SVC()\n",
    "clf.fit(X_train, y_train)"
   ]
  },
  {
   "cell_type": "code",
   "execution_count": 74,
   "id": "bcc6a568",
   "metadata": {},
   "outputs": [
    {
     "name": "stdout",
     "output_type": "stream",
     "text": [
      "              precision    recall  f1-score   support\n",
      "\n",
      "       False       0.87      0.83      0.85      4994\n",
      "        True       0.74      0.80      0.77      3006\n",
      "\n",
      "    accuracy                           0.82      8000\n",
      "   macro avg       0.81      0.81      0.81      8000\n",
      "weighted avg       0.82      0.82      0.82      8000\n",
      "\n"
     ]
    }
   ],
   "source": [
    "print(classification_report(y_test, clf.predict(X_test)))"
   ]
  },
  {
   "cell_type": "markdown",
   "id": "ccf68ddd",
   "metadata": {},
   "source": [
    "## Gaussian NB"
   ]
  },
  {
   "cell_type": "code",
   "execution_count": 76,
   "id": "74f3fd8b",
   "metadata": {},
   "outputs": [],
   "source": [
    "from sklearn.naive_bayes import GaussianNB"
   ]
  },
  {
   "cell_type": "code",
   "execution_count": 77,
   "id": "231fe312",
   "metadata": {},
   "outputs": [
    {
     "data": {
      "text/plain": [
       "GaussianNB()"
      ]
     },
     "execution_count": 77,
     "metadata": {},
     "output_type": "execute_result"
    }
   ],
   "source": [
    "clf = GaussianNB()\n",
    "clf.fit(X_train, y_train)"
   ]
  },
  {
   "cell_type": "code",
   "execution_count": 78,
   "id": "75614bb3",
   "metadata": {},
   "outputs": [
    {
     "name": "stdout",
     "output_type": "stream",
     "text": [
      "              precision    recall  f1-score   support\n",
      "\n",
      "       False       0.81      0.82      0.82      4994\n",
      "        True       0.70      0.68      0.69      3006\n",
      "\n",
      "    accuracy                           0.77      8000\n",
      "   macro avg       0.76      0.75      0.75      8000\n",
      "weighted avg       0.77      0.77      0.77      8000\n",
      "\n"
     ]
    }
   ],
   "source": [
    "print(classification_report(y_test, clf.predict(X_test)))"
   ]
  }
 ],
 "metadata": {
  "kernelspec": {
   "display_name": "Python 3",
   "language": "python",
   "name": "python3"
  },
  "language_info": {
   "codemirror_mode": {
    "name": "ipython",
    "version": 3
   },
   "file_extension": ".py",
   "mimetype": "text/x-python",
   "name": "python",
   "nbconvert_exporter": "python",
   "pygments_lexer": "ipython3",
   "version": "3.9.5"
  }
 },
 "nbformat": 4,
 "nbformat_minor": 5
}
